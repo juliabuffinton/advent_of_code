{
 "cells": [
  {
   "cell_type": "markdown",
   "metadata": {},
   "source": [
    "# Part 1"
   ]
  },
  {
   "cell_type": "code",
   "execution_count": 1,
   "metadata": {},
   "outputs": [],
   "source": [
    "def find_target_area(puzzle_input):\n",
    "    \n",
    "    with open(puzzle_input) as f:\n",
    "        # Assumption: one line input with target area\n",
    "        puzzle_input = f.readline().replace(\", y\",\"\").split(\"=\")\n",
    "\n",
    "        target_area_xs = tuple([int(x) for x in puzzle_input[1].split(\"..\")])\n",
    "        target_area_ys = tuple([int(x) for x in puzzle_input[2].split(\"..\")])\n",
    "        \n",
    "    return (target_area_xs,target_area_ys)"
   ]
  },
  {
   "cell_type": "code",
   "execution_count": 2,
   "metadata": {},
   "outputs": [],
   "source": [
    "# At each step, the velocity changes and position changes\n",
    "def probe_step(start_point,start_velocity):\n",
    "    \n",
    "    x_velocity = start_velocity[0]\n",
    "    y_velocity = start_velocity[1]\n",
    "    \n",
    "    new_point = start_point[0]+x_velocity,start_point[1]+y_velocity\n",
    "    \n",
    "    if x_velocity > 0: x_velocity -= 1\n",
    "    elif x_velocity < 0: x_velocity += 1\n",
    "        \n",
    "    y_velocity -= 1\n",
    "    \n",
    "    return new_point,(x_velocity,y_velocity)"
   ]
  },
  {
   "cell_type": "code",
   "execution_count": 3,
   "metadata": {},
   "outputs": [],
   "source": [
    "def not_in_target_area(axis,start_point,target_loc):\n",
    "    \n",
    "    not_inside_target = (start_point[axis] not in range(target_loc[axis][0],target_loc[axis][1]+1))\n",
    "    \n",
    "    return not_inside_target"
   ]
  },
  {
   "cell_type": "code",
   "execution_count": 4,
   "metadata": {},
   "outputs": [],
   "source": [
    "def went_too_far(start_point,target_loc):\n",
    "    x_past_target = start_point[0] > target_loc[0][1]\n",
    "    y_past_target = start_point[1] < target_loc[1][0]\n",
    "    \n",
    "    return x_past_target or y_past_target "
   ]
  },
  {
   "cell_type": "code",
   "execution_count": 5,
   "metadata": {},
   "outputs": [],
   "source": [
    "def test_velocity(velocity,target_loc):\n",
    "        \n",
    "    highest_y = 0\n",
    "    \n",
    "    # Always start 0,0\n",
    "    start_point = (0,0)\n",
    "    \n",
    "    while (not_in_target_area(0,start_point,target_loc) or not_in_target_area(1,start_point,target_loc)):\n",
    "        \n",
    "        if went_too_far(start_point,target_loc):\n",
    "            # sentinel value to indicate we didn't have success\n",
    "            return -100\n",
    "        else:\n",
    "            start_point,velocity = probe_step(start_point,velocity)\n",
    "            \n",
    "            if start_point[1] > highest_y:\n",
    "                highest_y = start_point[1]\n",
    "\n",
    "    return highest_y"
   ]
  },
  {
   "cell_type": "code",
   "execution_count": 10,
   "metadata": {},
   "outputs": [],
   "source": [
    "def find_best_velocity(target_loc, x_velo_range, y_velo_range):\n",
    "    \n",
    "    highest_y = 0\n",
    "    successful_velocities = []\n",
    "    \n",
    "    for x in range(x_velo_range+1):\n",
    "        for y in range(-y_velo_range,y_velo_range+1):\n",
    "            peak = test_velocity((x,y),target_loc)\n",
    "            if peak != -100:\n",
    "                successful_velocities.append((x,y))\n",
    "                if peak > highest_y:\n",
    "                    highest_y = peak\n",
    "    return highest_y, successful_velocities"
   ]
  },
  {
   "cell_type": "code",
   "execution_count": 7,
   "metadata": {},
   "outputs": [],
   "source": [
    "def find_velocity_based_on_goal(puzzle_input,goal='highest_y'):\n",
    "    \n",
    "    target_loc = find_target_area(puzzle_input)   \n",
    "    \n",
    "    x_velo_range = max(target_loc[0])\n",
    "    y_velo_range = abs(min(target_loc[1]))\n",
    "    \n",
    "    highest_y, successful_velos = find_best_velocity(target_loc,x_velo_range,y_velo_range)\n",
    "    \n",
    "    if goal == 'highest_y':\n",
    "        return highest_y\n",
    "    elif goal == 'num_successful':\n",
    "        return len(successful_velos)\n",
    "    else:\n",
    "        return \"Error! Invalid goal\""
   ]
  },
  {
   "cell_type": "code",
   "execution_count": 11,
   "metadata": {},
   "outputs": [
    {
     "data": {
      "text/plain": [
       "7750"
      ]
     },
     "execution_count": 11,
     "metadata": {},
     "output_type": "execute_result"
    }
   ],
   "source": [
    "find_velocity_based_on_goal('puzzle_input.txt',\"highest_y\")"
   ]
  },
  {
   "cell_type": "markdown",
   "metadata": {},
   "source": [
    "# Part 2"
   ]
  },
  {
   "cell_type": "code",
   "execution_count": 12,
   "metadata": {},
   "outputs": [
    {
     "data": {
      "text/plain": [
       "4120"
      ]
     },
     "execution_count": 12,
     "metadata": {},
     "output_type": "execute_result"
    }
   ],
   "source": [
    "find_velocity_based_on_goal('puzzle_input.txt',\"num_successful\")"
   ]
  }
 ],
 "metadata": {
  "kernelspec": {
   "display_name": "Python 3",
   "language": "python",
   "name": "python3"
  },
  "language_info": {
   "codemirror_mode": {
    "name": "ipython",
    "version": 3
   },
   "file_extension": ".py",
   "mimetype": "text/x-python",
   "name": "python",
   "nbconvert_exporter": "python",
   "pygments_lexer": "ipython3",
   "version": "3.7.3"
  }
 },
 "nbformat": 4,
 "nbformat_minor": 4
}
