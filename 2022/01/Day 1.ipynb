{
 "cells": [
  {
   "cell_type": "markdown",
   "id": "fc8b733b-df94-49f5-97de-e648bfc932bb",
   "metadata": {},
   "source": [
    "# Imports"
   ]
  },
  {
   "cell_type": "code",
   "execution_count": 1,
   "id": "0b8bf65d-e675-4c3a-86f7-bc6d3447b5d6",
   "metadata": {},
   "outputs": [],
   "source": [
    "import pandas as pd"
   ]
  },
  {
   "cell_type": "markdown",
   "id": "ca2f08ae-8456-460f-a277-aae7320233a8",
   "metadata": {},
   "source": [
    "# Variables"
   ]
  },
  {
   "cell_type": "code",
   "execution_count": 50,
   "id": "afe32328-5c51-460f-be38-cd1fba236d2d",
   "metadata": {},
   "outputs": [],
   "source": [
    "input_file = \"input.txt\""
   ]
  },
  {
   "cell_type": "markdown",
   "id": "bd169387-bdff-46a4-99d1-16161f397f3a",
   "metadata": {},
   "source": [
    "# Read input"
   ]
  },
  {
   "cell_type": "code",
   "execution_count": 51,
   "id": "a18fd462-72ff-4e1d-baaf-42d8fb5ea61d",
   "metadata": {},
   "outputs": [],
   "source": [
    "with open(input_file) as f:\n",
    "    puzzle_input = f.read().split(\"\\n\\n\")\n",
    "    puzzle_input = [[int(y) for y in x.split()] for x in puzzle_input]\n",
    "    puzzle_input = [sum(x) for x in puzzle_input]"
   ]
  },
  {
   "cell_type": "markdown",
   "id": "50e9a496-27e8-4f3f-a276-382565547f8d",
   "metadata": {},
   "source": [
    "# Part 1"
   ]
  },
  {
   "cell_type": "code",
   "execution_count": 52,
   "id": "252726ca-4dff-4397-904c-236df15b59ea",
   "metadata": {},
   "outputs": [
    {
     "data": {
      "text/plain": [
       "71300"
      ]
     },
     "execution_count": 52,
     "metadata": {},
     "output_type": "execute_result"
    }
   ],
   "source": [
    "max(puzzle_input)"
   ]
  },
  {
   "cell_type": "markdown",
   "id": "c866b68c-81d1-4bf8-a04e-cb5eedb833a7",
   "metadata": {},
   "source": [
    "# Part 2\n"
   ]
  },
  {
   "cell_type": "code",
   "execution_count": 53,
   "id": "9545745c-e116-4f50-85a2-28bf07d1ff8e",
   "metadata": {},
   "outputs": [],
   "source": [
    "top_3 = sorted(puzzle_input, reverse=True)[:3]"
   ]
  },
  {
   "cell_type": "code",
   "execution_count": 54,
   "id": "c285dbd1-7c66-4d8e-92f5-8b85fc757cba",
   "metadata": {},
   "outputs": [
    {
     "data": {
      "text/plain": [
       "209691"
      ]
     },
     "execution_count": 54,
     "metadata": {},
     "output_type": "execute_result"
    }
   ],
   "source": [
    "sum(top_3)"
   ]
  }
 ],
 "metadata": {
  "kernelspec": {
   "display_name": "Python 3 (ipykernel)",
   "language": "python",
   "name": "python3"
  },
  "language_info": {
   "codemirror_mode": {
    "name": "ipython",
    "version": 3
   },
   "file_extension": ".py",
   "mimetype": "text/x-python",
   "name": "python",
   "nbconvert_exporter": "python",
   "pygments_lexer": "ipython3",
   "version": "3.9.7"
  }
 },
 "nbformat": 4,
 "nbformat_minor": 5
}
