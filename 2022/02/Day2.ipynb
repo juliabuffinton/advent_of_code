{
 "cells": [
  {
   "cell_type": "markdown",
   "id": "00b59056-f362-4c4a-a443-45b941cc808c",
   "metadata": {},
   "source": [
    "# Imports"
   ]
  },
  {
   "cell_type": "code",
   "execution_count": 1,
   "id": "6cb6c6de-9cc8-4edb-87ba-4d73c254d6c2",
   "metadata": {},
   "outputs": [],
   "source": [
    "import math\n",
    "import sys\n",
    "import numpy as np\n",
    "from collections import Counter, defaultdict\n",
    "from itertools import combinations, permutations\n",
    "import time\n",
    "import os\n",
    "from pathlib import Path\n",
    "import pandas as pd\n",
    "from collections import defaultdict"
   ]
  },
  {
   "cell_type": "markdown",
   "id": "04bfa0fc-aad8-45bf-b275-849b856cec14",
   "metadata": {
    "tags": []
   },
   "source": [
    "# Find Input"
   ]
  },
  {
   "cell_type": "code",
   "execution_count": 2,
   "id": "f2c019ad-6961-48f6-9126-62e385eb0f4e",
   "metadata": {
    "tags": []
   },
   "outputs": [],
   "source": [
    "path = os.getcwd()\n",
    "\n",
    "input_file = Path(path)/\"input.txt\""
   ]
  },
  {
   "cell_type": "markdown",
   "id": "1e120eac-0b98-42bd-bbc1-e870d0ca9054",
   "metadata": {
    "tags": []
   },
   "source": [
    "# Parse Input "
   ]
  },
  {
   "cell_type": "code",
   "execution_count": 3,
   "id": "69b28dbe-467f-4169-a5be-437e94a361c8",
   "metadata": {},
   "outputs": [],
   "source": [
    "def convert_to_friendly_names(puzzle_input, strategy):\n",
    "    \n",
    "    opponent_map = {\"A\": \"rock\",\n",
    "                    \"B\": \"paper\",\n",
    "                    \"C\": \"scissors\"}    \n",
    "    \n",
    "    if strategy == \"part1\":\n",
    "        strategy_map =  = {\"X\": \"rock\",\n",
    "                    \"Y\": \"paper\",\n",
    "                    \"Z\": \"scissors\"}\n",
    "    elif strategy == \"part2\":\n",
    "        strategy_map = {\"X\": \"loss\",\n",
    "                    \"Y\": \"draw\",\n",
    "                    \"Z\": \"win\"}\n",
    "    return [(opponent_map[x],strategy_map[y]) for (x,y) in puzzle_input]"
   ]
  },
  {
   "cell_type": "code",
   "execution_count": 4,
   "id": "86052eb8-dcb7-4c41-a439-43c4724f349c",
   "metadata": {},
   "outputs": [],
   "source": [
    "def parse_input(raw_input):\n",
    "    with open(raw_input) as f:\n",
    "        puzzle_input = f.read().splitlines()\n",
    "    \n",
    "    puzzle_input = [x.split(\" \") for x in puzzle_input]\n",
    "    \n",
    "    return puzzle_input"
   ]
  },
  {
   "cell_type": "markdown",
   "id": "8a9d162c-cd48-49d7-8e83-56c4b87f48eb",
   "metadata": {
    "tags": []
   },
   "source": [
    "# Helper Funcs"
   ]
  },
  {
   "cell_type": "code",
   "execution_count": 5,
   "id": "72fc3fe0-30d9-43a1-92e7-70e58a059d69",
   "metadata": {},
   "outputs": [],
   "source": [
    "points_map = {\"rock\": 1, \"paper\": 2, \"scissors\":3}"
   ]
  },
  {
   "cell_type": "markdown",
   "id": "a11a2c78-c3a2-4a67-8070-82bac32135ec",
   "metadata": {},
   "source": [
    "The score for a single round is the score for the shape you selected (1 for Rock, 2 for Paper, and 3 for Scissors) plus the score for the outcome of the round (0 if you lost, 3 if the round was a draw, and 6 if you won)."
   ]
  },
  {
   "cell_type": "code",
   "execution_count": 6,
   "id": "9f0ed463-b108-4af0-ae29-1b24e0fe36f7",
   "metadata": {},
   "outputs": [],
   "source": [
    "def execute_round(rps_round):\n",
    "    opponent, you = rps_round\n",
    "    \n",
    "    # 3 points if it's a draw\n",
    "    if opponent == you:\n",
    "        return points_map[you] + 3\n",
    "    \n",
    "    if opponent == \"rock\":\n",
    "        if you == \"paper\":\n",
    "            return points_map[you] + 6\n",
    "        elif you == \"scissors\":\n",
    "            return points_map[you] + 0\n",
    "    elif opponent == \"paper\":\n",
    "        if you == \"rock\":\n",
    "            return points_map[you] + 0\n",
    "        elif you == \"scissors\":\n",
    "            return points_map[you] + 6\n",
    "    elif opponent == \"scissors\":\n",
    "        if you == \"paper\":\n",
    "            return points_map[you] + 0\n",
    "        elif you == \"rock\":\n",
    "            return points_map[you] + 6    \n",
    "    else:\n",
    "        print(\"Help! Invalid input.\")"
   ]
  },
  {
   "cell_type": "code",
   "execution_count": 7,
   "id": "a7153189-7236-4345-9735-b26cf4efecaf",
   "metadata": {},
   "outputs": [],
   "source": [
    "def execute_round_2(rps_round):\n",
    "    opponent, outcome = rps_round\n",
    "    \n",
    "    # 3 points if it's a draw\n",
    "    if outcome == \"draw\":\n",
    "        return points_map[opponent] + 3\n",
    "    \n",
    "    if outcome == \"win\":\n",
    "        if opponent == \"rock\":\n",
    "            return points_map[\"paper\"] + 6\n",
    "        elif opponent == \"paper\":\n",
    "            return points_map[\"scissors\"] + 6\n",
    "        elif opponent == \"scissors\":\n",
    "            return points_map[\"rock\"] + 6\n",
    "\n",
    "    elif outcome == \"loss\":\n",
    "        if opponent == \"rock\":\n",
    "            return points_map[\"scissors\"]\n",
    "        elif opponent == \"paper\":\n",
    "            return points_map[\"rock\"]\n",
    "        elif opponent == \"scissors\":\n",
    "            return points_map[\"paper\"]\n",
    "    else:\n",
    "        print(\"Help! Invalid input.\")"
   ]
  },
  {
   "cell_type": "markdown",
   "id": "6995c34d-af28-4607-b5c4-a4366a2951f6",
   "metadata": {},
   "source": [
    "# Parse Input"
   ]
  },
  {
   "cell_type": "code",
   "execution_count": 8,
   "id": "91ea5e9a-dde8-4911-88e5-4cd5944928dc",
   "metadata": {},
   "outputs": [],
   "source": [
    "puzzle_input = parse_input(input_file)"
   ]
  },
  {
   "cell_type": "markdown",
   "id": "69cd51bc-5046-42f0-aa89-c13983a427ff",
   "metadata": {
    "tags": []
   },
   "source": [
    "# Part 1\n",
    "What would your total score be if everything goes exactly according to your strategy guide?"
   ]
  },
  {
   "cell_type": "code",
   "execution_count": 9,
   "id": "a0502748-7f15-4ce8-b8f9-d347c49455a0",
   "metadata": {},
   "outputs": [],
   "source": [
    "puzzle_input_part1 = convert_to_friendly_names(puzzle_input, \"part1\")"
   ]
  },
  {
   "cell_type": "code",
   "execution_count": 10,
   "id": "4a095cc4-c302-4dd0-adf7-64c1132e821e",
   "metadata": {},
   "outputs": [
    {
     "data": {
      "text/plain": [
       "11386"
      ]
     },
     "execution_count": 10,
     "metadata": {},
     "output_type": "execute_result"
    }
   ],
   "source": [
    "round_scores = [execute_round(x) for x in puzzle_input_part1]\n",
    "sum(round_scores)"
   ]
  },
  {
   "cell_type": "markdown",
   "id": "556774d5-1587-4521-90b1-cf23bb042a97",
   "metadata": {},
   "source": [
    "# Part 2\n",
    "Following the Elf's instructions for the second column, what would your total score be if everything goes exactly according to your strategy guide?\n",
    "\n"
   ]
  },
  {
   "cell_type": "code",
   "execution_count": 11,
   "id": "79c87cff-0ce2-4c82-8b9b-be75fc03020f",
   "metadata": {},
   "outputs": [],
   "source": [
    "puzzle_input_part2 = convert_to_friendly_names(puzzle_input, \"part2\")"
   ]
  },
  {
   "cell_type": "code",
   "execution_count": 12,
   "id": "e3492fe4-97f8-4855-93db-db936d562e3c",
   "metadata": {},
   "outputs": [
    {
     "data": {
      "text/plain": [
       "13600"
      ]
     },
     "execution_count": 12,
     "metadata": {},
     "output_type": "execute_result"
    }
   ],
   "source": [
    "round_scores = [execute_round_2(x) for x in puzzle_input_part2]\n",
    "sum(round_scores)"
   ]
  }
 ],
 "metadata": {
  "kernelspec": {
   "display_name": "Python 3 (ipykernel)",
   "language": "python",
   "name": "python3"
  },
  "language_info": {
   "codemirror_mode": {
    "name": "ipython",
    "version": 3
   },
   "file_extension": ".py",
   "mimetype": "text/x-python",
   "name": "python",
   "nbconvert_exporter": "python",
   "pygments_lexer": "ipython3",
   "version": "3.9.7"
  }
 },
 "nbformat": 4,
 "nbformat_minor": 5
}
