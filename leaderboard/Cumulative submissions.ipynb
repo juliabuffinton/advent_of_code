{
 "cells": [
  {
   "cell_type": "markdown",
   "id": "3f48f36c",
   "metadata": {},
   "source": [
    "# Imports"
   ]
  },
  {
   "cell_type": "code",
   "execution_count": 1,
   "id": "2feb5996",
   "metadata": {},
   "outputs": [],
   "source": [
    "import os\n",
    "import datetime as dt\n",
    "import requests\n",
    "from datetime import datetime\n",
    "\n",
    "import pandas as pd\n",
    "from plotly.subplots import make_subplots\n",
    "import plotly.graph_objs as go\n",
    "import random\n"
   ]
  },
  {
   "cell_type": "markdown",
   "id": "9d977368",
   "metadata": {},
   "source": [
    "# Inputs"
   ]
  },
  {
   "cell_type": "code",
   "execution_count": 2,
   "id": "77cd311e",
   "metadata": {},
   "outputs": [],
   "source": [
    "def build_cookie(file):\n",
    "    keys = ['_ga','session','_gid','_gat']\n",
    "    cookie = ''\n",
    "\n",
    "    with open(file) as f:\n",
    "        for l in f:\n",
    "            l = l.replace('\\n','')\n",
    "            l = l.split('\\t')\n",
    "            if any(x in l for x in keys):\n",
    "                cookie += l[-2] + '=' + l[-1] + '; '\n",
    "\n",
    "    return cookie[:-2]"
   ]
  },
  {
   "cell_type": "code",
   "execution_count": 3,
   "id": "1f0f57cb",
   "metadata": {},
   "outputs": [],
   "source": [
    "def get_data(id_number: int, cookie: str, year: int = 2020):\n",
    "    \"\"\"Retrieves AoC Leaderboard data as JSON (i.e., Dict)\n",
    "\n",
    "    Args:\n",
    "        id_number: int - identification number for leaderboard info;\n",
    "            viewable in the URL for downloading the info manually\n",
    "        year: int - year for which to retrieve info\n",
    "        cookie: str - cookie information with which to retrieve info;\n",
    "            viewable in developer tools upon download (~1 month expiration)\n",
    "\n",
    "    Returns:\n",
    "        AoC Leaderboard information as JSON\n",
    "\n",
    "    ```\n",
    "    import leaderboard\n",
    "    aoc_leaderboard_info = leaderboard.get_data(1524967)\n",
    "    ```\n",
    "    \"\"\"\n",
    "    result = requests.get(\n",
    "        f'https://adventofcode.com/{year}/leaderboard/private/view/{id_number}.json',\n",
    "        headers={'cookie': cookie},\n",
    "    )\n",
    "    return result.json()"
   ]
  },
  {
   "cell_type": "code",
   "execution_count": 4,
   "id": "04eeea71",
   "metadata": {},
   "outputs": [],
   "source": [
    "curr_dir = os.curdir"
   ]
  },
  {
   "cell_type": "code",
   "execution_count": 29,
   "id": "d77b6199",
   "metadata": {
    "scrolled": true
   },
   "outputs": [],
   "source": [
    "# get cookie\n",
    "cookie = build_cookie('adventofcode.com_cookies-jb.txt')\n",
    "\n",
    "# read in leaderboard data\n",
    "data = get_data(1542191,cookie,2020)\n",
    "\n",
    "# read in contestant data\n",
    "file = r'Contestants.xlsx'\n",
    "contestants = pd.read_excel(os.path.join(curr_dir, file),dtype=str)\n",
    "\n",
    "# read in deadline data\n",
    "file = r'deadlines.xlsx'\n",
    "deadlines = pd.read_excel(os.path.join(curr_dir, file))\n",
    "\n",
    "# read in past winners\n",
    "# file = r'winners.xlsx'\n",
    "# winners = pd.read_excel(os.path.join(curr_dir,file))"
   ]
  },
  {
   "cell_type": "markdown",
   "id": "50bef19b",
   "metadata": {},
   "source": [
    "# Parse data"
   ]
  },
  {
   "cell_type": "code",
   "execution_count": 30,
   "id": "c8c84aba",
   "metadata": {},
   "outputs": [],
   "source": [
    "def parse_json(data, contestants):\n",
    "    \"\"\"parse the AoC leaderboard data into a dataframe with one row per participant\n",
    "    data: leaderboard data from JSON file\n",
    "    contestants: dataframe with contestant names and AoC display names\n",
    "    returns: df dataframe with one row per contestant and submission times per problem/part\"\"\"\n",
    "\n",
    "    df = pd.DataFrame()\n",
    "\n",
    "    for m in data['members'].keys():\n",
    "        name = data['members'][m]['name']\n",
    "        name = m if name is None else name\n",
    "        if name in contestants['AoC Display name'].values:\n",
    "            print_name = contestants[contestants['AoC Display name'] == name].Name.values[0]\n",
    "            times = {'Contestant': print_name, 'score': int(data['members'][m]['local_score']),\n",
    "                     'stars': int(data['members'][m]['stars'])}\n",
    "            for day in data['members'][m]['completion_day_level'].keys():\n",
    "                for p in data['members'][m]['completion_day_level'][day].keys():\n",
    "                    times[day + '_' + p + '_time'] = dt.datetime.fromtimestamp(\n",
    "                        data['members'][m]['completion_day_level'][day][p]['get_star_ts'])\n",
    "\n",
    "            df = df.append(times, ignore_index=True)\n",
    "\n",
    "    for col in df.columns:\n",
    "        if col in ['score', 'stars']:\n",
    "            df[col] = df[col].astype(int)\n",
    "        elif col == 'Contestant':\n",
    "            pass\n",
    "        else:\n",
    "            problem = col.replace('time', 'rank')\n",
    "            df[problem] = df[col].rank()\n",
    "\n",
    "    df.sort_values(by='Contestant', inplace=True)\n",
    "    df.reset_index(inplace=True, drop=True)\n",
    "\n",
    "    return df\n"
   ]
  },
  {
   "cell_type": "code",
   "execution_count": 39,
   "id": "b1901fc7",
   "metadata": {},
   "outputs": [],
   "source": [
    "results = parse_json(data, contestants)"
   ]
  },
  {
   "cell_type": "code",
   "execution_count": 40,
   "id": "8950cc74",
   "metadata": {},
   "outputs": [],
   "source": [
    "results = results.drop([x for x in results.columns if (\"_1\" in x) or (\"rank\" in x)] + ['score', 'stars'], axis=1, errors='ignore')"
   ]
  },
  {
   "cell_type": "code",
   "execution_count": 41,
   "id": "ae8e0bb9",
   "metadata": {},
   "outputs": [],
   "source": [
    "puzzle_order = {\"1\": 1, \"6\": 2, \"5\": 3, \"4\":4, \"7\":5}"
   ]
  },
  {
   "cell_type": "code",
   "execution_count": 44,
   "id": "d6ee8535",
   "metadata": {},
   "outputs": [],
   "source": [
    "results.columns = [x.replace(\"_2\", \"\") for x in results.columns]\n",
    "results = results.drop([\"2_time\", \"3_time\"],axis=1)"
   ]
  },
  {
   "cell_type": "code",
   "execution_count": 46,
   "id": "7a5608da",
   "metadata": {},
   "outputs": [],
   "source": [
    "new_cols = []\n",
    "for col_name in results.columns:\n",
    "    for key in puzzle_order.keys():\n",
    "        col_name = col_name.replace(key, str(puzzle_order[key]))\n",
    "    new_cols.append(col_name)"
   ]
  },
  {
   "cell_type": "code",
   "execution_count": 47,
   "id": "d6e224e0",
   "metadata": {},
   "outputs": [],
   "source": [
    "results.columns = new_cols"
   ]
  },
  {
   "cell_type": "markdown",
   "id": "83f06a94",
   "metadata": {},
   "source": [
    "# Do stuff"
   ]
  },
  {
   "cell_type": "code",
   "execution_count": 49,
   "id": "0b7914c6",
   "metadata": {},
   "outputs": [],
   "source": [
    "deadlines.reset_index(inplace=True)\n",
    "deadlines['index'] = deadlines['index'] + 1"
   ]
  },
  {
   "cell_type": "code",
   "execution_count": 50,
   "id": "43437fcf",
   "metadata": {},
   "outputs": [],
   "source": [
    "deadlines = deadlines.rename(columns={\"index\":\"week\"})"
   ]
  },
  {
   "cell_type": "code",
   "execution_count": 51,
   "id": "4a4b2a27",
   "metadata": {},
   "outputs": [],
   "source": [
    "# Well this is brittle\n",
    "results = pd.melt(results, id_vars=['Contestant'], value_vars=['2_time', '1_time', '3_time', '4_time', '5_time'])"
   ]
  },
  {
   "cell_type": "code",
   "execution_count": 52,
   "id": "aae4a1b7",
   "metadata": {},
   "outputs": [],
   "source": [
    "results['variable'] = results.variable.str.replace(\"_time\", \"\")"
   ]
  },
  {
   "cell_type": "code",
   "execution_count": 53,
   "id": "bb005017",
   "metadata": {},
   "outputs": [],
   "source": [
    "results = results.rename(columns={\"variable\":\"week\", \"value\":\"submission_time\"})"
   ]
  },
  {
   "cell_type": "code",
   "execution_count": 54,
   "id": "0579e3a8",
   "metadata": {},
   "outputs": [],
   "source": [
    "results.week = results.week.astype(int)\n",
    "results['submission_time'] = pd.to_datetime(results['submission_time']).dt.date"
   ]
  },
  {
   "cell_type": "code",
   "execution_count": 55,
   "id": "8afc945a",
   "metadata": {
    "scrolled": true
   },
   "outputs": [],
   "source": [
    "submissions = results.merge(deadlines, how='left', on=\"week\")\n",
    "submissions['Deadline'] = pd.to_datetime(submissions['Deadline']).dt.date"
   ]
  },
  {
   "cell_type": "code",
   "execution_count": 56,
   "id": "90789be9",
   "metadata": {
    "scrolled": true
   },
   "outputs": [],
   "source": [
    "submissions['days_from_deadline'] = submissions.Deadline - submissions.submission_time"
   ]
  },
  {
   "cell_type": "code",
   "execution_count": 57,
   "id": "cf6fca0e",
   "metadata": {
    "scrolled": true
   },
   "outputs": [],
   "source": [
    "submissions = submissions.sort_values('days_from_deadline', ascending=False)"
   ]
  },
  {
   "cell_type": "code",
   "execution_count": 58,
   "id": "7553f257",
   "metadata": {},
   "outputs": [
    {
     "data": {
      "text/html": [
       "<div>\n",
       "<style scoped>\n",
       "    .dataframe tbody tr th:only-of-type {\n",
       "        vertical-align: middle;\n",
       "    }\n",
       "\n",
       "    .dataframe tbody tr th {\n",
       "        vertical-align: top;\n",
       "    }\n",
       "\n",
       "    .dataframe thead th {\n",
       "        text-align: right;\n",
       "    }\n",
       "</style>\n",
       "<table border=\"1\" class=\"dataframe\">\n",
       "  <thead>\n",
       "    <tr style=\"text-align: right;\">\n",
       "      <th></th>\n",
       "      <th>Contestant</th>\n",
       "      <th>week</th>\n",
       "      <th>submission_time</th>\n",
       "      <th>Problem</th>\n",
       "      <th>Deadline</th>\n",
       "      <th>days_from_deadline</th>\n",
       "    </tr>\n",
       "  </thead>\n",
       "  <tbody>\n",
       "    <tr>\n",
       "      <th>33</th>\n",
       "      <td>Alex Adamczyk</td>\n",
       "      <td>1</td>\n",
       "      <td>2020-12-01</td>\n",
       "      <td>1</td>\n",
       "      <td>2022-02-22</td>\n",
       "      <td>448 days</td>\n",
       "    </tr>\n",
       "    <tr>\n",
       "      <th>123</th>\n",
       "      <td>Robert Morsch</td>\n",
       "      <td>4</td>\n",
       "      <td>2022-02-21</td>\n",
       "      <td>4</td>\n",
       "      <td>2022-03-14</td>\n",
       "      <td>21 days</td>\n",
       "    </tr>\n",
       "    <tr>\n",
       "      <th>103</th>\n",
       "      <td>Cassandra Pray</td>\n",
       "      <td>4</td>\n",
       "      <td>2022-02-24</td>\n",
       "      <td>4</td>\n",
       "      <td>2022-03-14</td>\n",
       "      <td>18 days</td>\n",
       "    </tr>\n",
       "    <tr>\n",
       "      <th>91</th>\n",
       "      <td>Robert Morsch</td>\n",
       "      <td>3</td>\n",
       "      <td>2022-02-21</td>\n",
       "      <td>5</td>\n",
       "      <td>2022-03-07</td>\n",
       "      <td>14 days</td>\n",
       "    </tr>\n",
       "    <tr>\n",
       "      <th>43</th>\n",
       "      <td>David Gregory</td>\n",
       "      <td>1</td>\n",
       "      <td>2022-02-14</td>\n",
       "      <td>1</td>\n",
       "      <td>2022-02-22</td>\n",
       "      <td>8 days</td>\n",
       "    </tr>\n",
       "    <tr>\n",
       "      <th>...</th>\n",
       "      <td>...</td>\n",
       "      <td>...</td>\n",
       "      <td>...</td>\n",
       "      <td>...</td>\n",
       "      <td>...</td>\n",
       "      <td>...</td>\n",
       "    </tr>\n",
       "    <tr>\n",
       "      <th>152</th>\n",
       "      <td>Mike McNerney</td>\n",
       "      <td>5</td>\n",
       "      <td>NaN</td>\n",
       "      <td>7</td>\n",
       "      <td>2022-03-21</td>\n",
       "      <td>NaT</td>\n",
       "    </tr>\n",
       "    <tr>\n",
       "      <th>155</th>\n",
       "      <td>Robert Morsch</td>\n",
       "      <td>5</td>\n",
       "      <td>NaN</td>\n",
       "      <td>7</td>\n",
       "      <td>2022-03-21</td>\n",
       "      <td>NaT</td>\n",
       "    </tr>\n",
       "    <tr>\n",
       "      <th>156</th>\n",
       "      <td>Sean Spencer</td>\n",
       "      <td>5</td>\n",
       "      <td>NaN</td>\n",
       "      <td>7</td>\n",
       "      <td>2022-03-21</td>\n",
       "      <td>NaT</td>\n",
       "    </tr>\n",
       "    <tr>\n",
       "      <th>158</th>\n",
       "      <td>Yasmine Sikder</td>\n",
       "      <td>5</td>\n",
       "      <td>NaN</td>\n",
       "      <td>7</td>\n",
       "      <td>2022-03-21</td>\n",
       "      <td>NaT</td>\n",
       "    </tr>\n",
       "    <tr>\n",
       "      <th>159</th>\n",
       "      <td>Zachary Morrow</td>\n",
       "      <td>5</td>\n",
       "      <td>NaN</td>\n",
       "      <td>7</td>\n",
       "      <td>2022-03-21</td>\n",
       "      <td>NaT</td>\n",
       "    </tr>\n",
       "  </tbody>\n",
       "</table>\n",
       "<p>160 rows × 6 columns</p>\n",
       "</div>"
      ],
      "text/plain": [
       "         Contestant  week submission_time  Problem    Deadline  \\\n",
       "33    Alex Adamczyk     1      2020-12-01        1  2022-02-22   \n",
       "123   Robert Morsch     4      2022-02-21        4  2022-03-14   \n",
       "103  Cassandra Pray     4      2022-02-24        4  2022-03-14   \n",
       "91    Robert Morsch     3      2022-02-21        5  2022-03-07   \n",
       "43    David Gregory     1      2022-02-14        1  2022-02-22   \n",
       "..              ...   ...             ...      ...         ...   \n",
       "152   Mike McNerney     5             NaN        7  2022-03-21   \n",
       "155   Robert Morsch     5             NaN        7  2022-03-21   \n",
       "156    Sean Spencer     5             NaN        7  2022-03-21   \n",
       "158  Yasmine Sikder     5             NaN        7  2022-03-21   \n",
       "159  Zachary Morrow     5             NaN        7  2022-03-21   \n",
       "\n",
       "    days_from_deadline  \n",
       "33            448 days  \n",
       "123            21 days  \n",
       "103            18 days  \n",
       "91             14 days  \n",
       "43              8 days  \n",
       "..                 ...  \n",
       "152                NaT  \n",
       "155                NaT  \n",
       "156                NaT  \n",
       "158                NaT  \n",
       "159                NaT  \n",
       "\n",
       "[160 rows x 6 columns]"
      ]
     },
     "execution_count": 58,
     "metadata": {},
     "output_type": "execute_result"
    }
   ],
   "source": [
    "submissions"
   ]
  },
  {
   "cell_type": "code",
   "execution_count": 59,
   "id": "fe4c15b3",
   "metadata": {},
   "outputs": [],
   "source": [
    "submissions['cum_count'] = submissions.groupby(\"week\").cumcount()"
   ]
  },
  {
   "cell_type": "code",
   "execution_count": 60,
   "id": "f5451728",
   "metadata": {},
   "outputs": [],
   "source": [
    "submissions['days_from_deadline'] = submissions['days_from_deadline'].dt.days * -1"
   ]
  },
  {
   "cell_type": "code",
   "execution_count": 61,
   "id": "49fac796",
   "metadata": {},
   "outputs": [
    {
     "data": {
      "text/html": [
       "<div>\n",
       "<style scoped>\n",
       "    .dataframe tbody tr th:only-of-type {\n",
       "        vertical-align: middle;\n",
       "    }\n",
       "\n",
       "    .dataframe tbody tr th {\n",
       "        vertical-align: top;\n",
       "    }\n",
       "\n",
       "    .dataframe thead th {\n",
       "        text-align: right;\n",
       "    }\n",
       "</style>\n",
       "<table border=\"1\" class=\"dataframe\">\n",
       "  <thead>\n",
       "    <tr style=\"text-align: right;\">\n",
       "      <th></th>\n",
       "      <th>Contestant</th>\n",
       "      <th>week</th>\n",
       "      <th>submission_time</th>\n",
       "      <th>Problem</th>\n",
       "      <th>Deadline</th>\n",
       "      <th>days_from_deadline</th>\n",
       "      <th>cum_count</th>\n",
       "    </tr>\n",
       "  </thead>\n",
       "  <tbody>\n",
       "    <tr>\n",
       "      <th>33</th>\n",
       "      <td>Alex Adamczyk</td>\n",
       "      <td>1</td>\n",
       "      <td>2020-12-01</td>\n",
       "      <td>1</td>\n",
       "      <td>2022-02-22</td>\n",
       "      <td>-448.0</td>\n",
       "      <td>0</td>\n",
       "    </tr>\n",
       "    <tr>\n",
       "      <th>123</th>\n",
       "      <td>Robert Morsch</td>\n",
       "      <td>4</td>\n",
       "      <td>2022-02-21</td>\n",
       "      <td>4</td>\n",
       "      <td>2022-03-14</td>\n",
       "      <td>-21.0</td>\n",
       "      <td>0</td>\n",
       "    </tr>\n",
       "    <tr>\n",
       "      <th>103</th>\n",
       "      <td>Cassandra Pray</td>\n",
       "      <td>4</td>\n",
       "      <td>2022-02-24</td>\n",
       "      <td>4</td>\n",
       "      <td>2022-03-14</td>\n",
       "      <td>-18.0</td>\n",
       "      <td>1</td>\n",
       "    </tr>\n",
       "    <tr>\n",
       "      <th>91</th>\n",
       "      <td>Robert Morsch</td>\n",
       "      <td>3</td>\n",
       "      <td>2022-02-21</td>\n",
       "      <td>5</td>\n",
       "      <td>2022-03-07</td>\n",
       "      <td>-14.0</td>\n",
       "      <td>0</td>\n",
       "    </tr>\n",
       "    <tr>\n",
       "      <th>43</th>\n",
       "      <td>David Gregory</td>\n",
       "      <td>1</td>\n",
       "      <td>2022-02-14</td>\n",
       "      <td>1</td>\n",
       "      <td>2022-02-22</td>\n",
       "      <td>-8.0</td>\n",
       "      <td>1</td>\n",
       "    </tr>\n",
       "    <tr>\n",
       "      <th>...</th>\n",
       "      <td>...</td>\n",
       "      <td>...</td>\n",
       "      <td>...</td>\n",
       "      <td>...</td>\n",
       "      <td>...</td>\n",
       "      <td>...</td>\n",
       "      <td>...</td>\n",
       "    </tr>\n",
       "    <tr>\n",
       "      <th>152</th>\n",
       "      <td>Mike McNerney</td>\n",
       "      <td>5</td>\n",
       "      <td>NaT</td>\n",
       "      <td>7</td>\n",
       "      <td>2022-03-21</td>\n",
       "      <td>NaN</td>\n",
       "      <td>27</td>\n",
       "    </tr>\n",
       "    <tr>\n",
       "      <th>155</th>\n",
       "      <td>Robert Morsch</td>\n",
       "      <td>5</td>\n",
       "      <td>NaT</td>\n",
       "      <td>7</td>\n",
       "      <td>2022-03-21</td>\n",
       "      <td>NaN</td>\n",
       "      <td>28</td>\n",
       "    </tr>\n",
       "    <tr>\n",
       "      <th>156</th>\n",
       "      <td>Sean Spencer</td>\n",
       "      <td>5</td>\n",
       "      <td>NaT</td>\n",
       "      <td>7</td>\n",
       "      <td>2022-03-21</td>\n",
       "      <td>NaN</td>\n",
       "      <td>29</td>\n",
       "    </tr>\n",
       "    <tr>\n",
       "      <th>158</th>\n",
       "      <td>Yasmine Sikder</td>\n",
       "      <td>5</td>\n",
       "      <td>NaT</td>\n",
       "      <td>7</td>\n",
       "      <td>2022-03-21</td>\n",
       "      <td>NaN</td>\n",
       "      <td>30</td>\n",
       "    </tr>\n",
       "    <tr>\n",
       "      <th>159</th>\n",
       "      <td>Zachary Morrow</td>\n",
       "      <td>5</td>\n",
       "      <td>NaT</td>\n",
       "      <td>7</td>\n",
       "      <td>2022-03-21</td>\n",
       "      <td>NaN</td>\n",
       "      <td>31</td>\n",
       "    </tr>\n",
       "  </tbody>\n",
       "</table>\n",
       "<p>160 rows × 7 columns</p>\n",
       "</div>"
      ],
      "text/plain": [
       "         Contestant  week submission_time  Problem    Deadline  \\\n",
       "33    Alex Adamczyk     1      2020-12-01        1  2022-02-22   \n",
       "123   Robert Morsch     4      2022-02-21        4  2022-03-14   \n",
       "103  Cassandra Pray     4      2022-02-24        4  2022-03-14   \n",
       "91    Robert Morsch     3      2022-02-21        5  2022-03-07   \n",
       "43    David Gregory     1      2022-02-14        1  2022-02-22   \n",
       "..              ...   ...             ...      ...         ...   \n",
       "152   Mike McNerney     5             NaT        7  2022-03-21   \n",
       "155   Robert Morsch     5             NaT        7  2022-03-21   \n",
       "156    Sean Spencer     5             NaT        7  2022-03-21   \n",
       "158  Yasmine Sikder     5             NaT        7  2022-03-21   \n",
       "159  Zachary Morrow     5             NaT        7  2022-03-21   \n",
       "\n",
       "     days_from_deadline  cum_count  \n",
       "33               -448.0          0  \n",
       "123               -21.0          0  \n",
       "103               -18.0          1  \n",
       "91                -14.0          0  \n",
       "43                 -8.0          1  \n",
       "..                  ...        ...  \n",
       "152                 NaN         27  \n",
       "155                 NaN         28  \n",
       "156                 NaN         29  \n",
       "158                 NaN         30  \n",
       "159                 NaN         31  \n",
       "\n",
       "[160 rows x 7 columns]"
      ]
     },
     "execution_count": 61,
     "metadata": {},
     "output_type": "execute_result"
    }
   ],
   "source": [
    "submissions"
   ]
  },
  {
   "cell_type": "code",
   "execution_count": 62,
   "id": "660fffe1",
   "metadata": {},
   "outputs": [],
   "source": [
    "for_viz = submissions[1:].groupby([\"week\",\"days_from_deadline\"]).max(\"cum_count\").reset_index()"
   ]
  },
  {
   "cell_type": "code",
   "execution_count": 63,
   "id": "b44178ee",
   "metadata": {
    "scrolled": false
   },
   "outputs": [
    {
     "data": {
      "application/vnd.plotly.v1+json": {
       "config": {
        "plotlyServerURL": "https://plot.ly"
       },
       "data": [
        {
         "hovertemplate": "week=4<br>days_from_deadline=%{x}<br>cum_count=%{y}<extra></extra>",
         "legendgroup": "4",
         "line": {
          "color": "#636efa",
          "dash": "solid"
         },
         "marker": {
          "symbol": "circle"
         },
         "mode": "lines",
         "name": "4",
         "orientation": "v",
         "showlegend": true,
         "type": "scatter",
         "x": [
          -21,
          -18,
          -7,
          -7,
          -7,
          -7,
          -7,
          -6,
          -5,
          -5,
          -5,
          -5,
          -4,
          -3,
          -2,
          -1,
          -1,
          -1,
          0,
          1,
          6,
          null,
          null,
          null,
          null,
          null,
          null,
          null,
          null,
          null,
          null,
          null
         ],
         "xaxis": "x",
         "y": [
          0,
          1,
          2,
          3,
          4,
          5,
          6,
          7,
          8,
          9,
          10,
          11,
          12,
          13,
          14,
          15,
          16,
          17,
          18,
          19,
          20,
          21,
          22,
          23,
          24,
          25,
          26,
          27,
          28,
          29,
          30,
          31
         ],
         "yaxis": "y"
        },
        {
         "hovertemplate": "week=3<br>days_from_deadline=%{x}<br>cum_count=%{y}<extra></extra>",
         "legendgroup": "3",
         "line": {
          "color": "#EF553B",
          "dash": "solid"
         },
         "marker": {
          "symbol": "circle"
         },
         "mode": "lines",
         "name": "3",
         "orientation": "v",
         "showlegend": true,
         "type": "scatter",
         "x": [
          -14,
          -7,
          -7,
          -7,
          -7,
          -7,
          -7,
          -7,
          -7,
          -6,
          -6,
          -5,
          -3,
          -3,
          -2,
          -1,
          -1,
          1,
          null,
          null,
          null,
          null,
          null,
          null,
          null,
          null,
          null,
          null,
          null,
          null,
          null,
          null
         ],
         "xaxis": "x",
         "y": [
          0,
          1,
          2,
          3,
          4,
          5,
          6,
          7,
          8,
          9,
          10,
          11,
          12,
          13,
          14,
          15,
          16,
          17,
          18,
          19,
          20,
          21,
          22,
          23,
          24,
          25,
          26,
          27,
          28,
          29,
          30,
          31
         ],
         "yaxis": "y"
        },
        {
         "hovertemplate": "week=1<br>days_from_deadline=%{x}<br>cum_count=%{y}<extra></extra>",
         "legendgroup": "1",
         "line": {
          "color": "#00cc96",
          "dash": "solid"
         },
         "marker": {
          "symbol": "circle"
         },
         "mode": "lines",
         "name": "1",
         "orientation": "v",
         "showlegend": true,
         "type": "scatter",
         "x": [
          -8,
          -8,
          -8,
          -8,
          -8,
          -8,
          -8,
          -8,
          -8,
          -8,
          -7,
          -7,
          -7,
          -7,
          -7,
          -6,
          -6,
          -6,
          -5,
          -5,
          -5,
          -4,
          -1,
          2,
          5,
          null,
          null,
          null,
          null,
          null,
          null
         ],
         "xaxis": "x",
         "y": [
          1,
          2,
          3,
          4,
          5,
          6,
          7,
          8,
          9,
          10,
          11,
          12,
          13,
          14,
          15,
          16,
          17,
          18,
          19,
          20,
          21,
          22,
          23,
          24,
          25,
          26,
          27,
          28,
          29,
          30,
          31
         ],
         "yaxis": "y"
        },
        {
         "hovertemplate": "week=2<br>days_from_deadline=%{x}<br>cum_count=%{y}<extra></extra>",
         "legendgroup": "2",
         "line": {
          "color": "#ab63fa",
          "dash": "solid"
         },
         "marker": {
          "symbol": "circle"
         },
         "mode": "lines",
         "name": "2",
         "orientation": "v",
         "showlegend": true,
         "type": "scatter",
         "x": [
          -7,
          -7,
          -7,
          -7,
          -7,
          -7,
          -6,
          -6,
          -6,
          -6,
          -6,
          -5,
          -5,
          -4,
          -4,
          -2,
          -2,
          -1,
          -1,
          -1,
          -1,
          1,
          9,
          13,
          null,
          null,
          null,
          null,
          null,
          null,
          null,
          null
         ],
         "xaxis": "x",
         "y": [
          0,
          1,
          2,
          3,
          4,
          5,
          6,
          7,
          8,
          9,
          10,
          11,
          12,
          13,
          14,
          15,
          16,
          17,
          18,
          19,
          20,
          21,
          22,
          23,
          24,
          25,
          26,
          27,
          28,
          29,
          30,
          31
         ],
         "yaxis": "y"
        },
        {
         "hovertemplate": "week=5<br>days_from_deadline=%{x}<br>cum_count=%{y}<extra></extra>",
         "legendgroup": "5",
         "line": {
          "color": "#FFA15A",
          "dash": "solid"
         },
         "marker": {
          "symbol": "circle"
         },
         "mode": "lines",
         "name": "5",
         "orientation": "v",
         "showlegend": true,
         "type": "scatter",
         "x": [
          -7,
          -7,
          -7,
          -7,
          -6,
          -5,
          -5,
          -4,
          -3,
          -3,
          -2,
          -2,
          -1,
          -1,
          -1,
          null,
          null,
          null,
          null,
          null,
          null,
          null,
          null,
          null,
          null,
          null,
          null,
          null,
          null,
          null,
          null,
          null
         ],
         "xaxis": "x",
         "y": [
          0,
          1,
          2,
          3,
          4,
          5,
          6,
          7,
          8,
          9,
          10,
          11,
          12,
          13,
          14,
          15,
          16,
          17,
          18,
          19,
          20,
          21,
          22,
          23,
          24,
          25,
          26,
          27,
          28,
          29,
          30,
          31
         ],
         "yaxis": "y"
        }
       ],
       "layout": {
        "legend": {
         "title": {
          "text": "week"
         },
         "tracegroupgap": 0
        },
        "margin": {
         "t": 60
        },
        "template": {
         "data": {
          "bar": [
           {
            "error_x": {
             "color": "#2a3f5f"
            },
            "error_y": {
             "color": "#2a3f5f"
            },
            "marker": {
             "line": {
              "color": "#E5ECF6",
              "width": 0.5
             },
             "pattern": {
              "fillmode": "overlay",
              "size": 10,
              "solidity": 0.2
             }
            },
            "type": "bar"
           }
          ],
          "barpolar": [
           {
            "marker": {
             "line": {
              "color": "#E5ECF6",
              "width": 0.5
             },
             "pattern": {
              "fillmode": "overlay",
              "size": 10,
              "solidity": 0.2
             }
            },
            "type": "barpolar"
           }
          ],
          "carpet": [
           {
            "aaxis": {
             "endlinecolor": "#2a3f5f",
             "gridcolor": "white",
             "linecolor": "white",
             "minorgridcolor": "white",
             "startlinecolor": "#2a3f5f"
            },
            "baxis": {
             "endlinecolor": "#2a3f5f",
             "gridcolor": "white",
             "linecolor": "white",
             "minorgridcolor": "white",
             "startlinecolor": "#2a3f5f"
            },
            "type": "carpet"
           }
          ],
          "choropleth": [
           {
            "colorbar": {
             "outlinewidth": 0,
             "ticks": ""
            },
            "type": "choropleth"
           }
          ],
          "contour": [
           {
            "colorbar": {
             "outlinewidth": 0,
             "ticks": ""
            },
            "colorscale": [
             [
              0,
              "#0d0887"
             ],
             [
              0.1111111111111111,
              "#46039f"
             ],
             [
              0.2222222222222222,
              "#7201a8"
             ],
             [
              0.3333333333333333,
              "#9c179e"
             ],
             [
              0.4444444444444444,
              "#bd3786"
             ],
             [
              0.5555555555555556,
              "#d8576b"
             ],
             [
              0.6666666666666666,
              "#ed7953"
             ],
             [
              0.7777777777777778,
              "#fb9f3a"
             ],
             [
              0.8888888888888888,
              "#fdca26"
             ],
             [
              1,
              "#f0f921"
             ]
            ],
            "type": "contour"
           }
          ],
          "contourcarpet": [
           {
            "colorbar": {
             "outlinewidth": 0,
             "ticks": ""
            },
            "type": "contourcarpet"
           }
          ],
          "heatmap": [
           {
            "colorbar": {
             "outlinewidth": 0,
             "ticks": ""
            },
            "colorscale": [
             [
              0,
              "#0d0887"
             ],
             [
              0.1111111111111111,
              "#46039f"
             ],
             [
              0.2222222222222222,
              "#7201a8"
             ],
             [
              0.3333333333333333,
              "#9c179e"
             ],
             [
              0.4444444444444444,
              "#bd3786"
             ],
             [
              0.5555555555555556,
              "#d8576b"
             ],
             [
              0.6666666666666666,
              "#ed7953"
             ],
             [
              0.7777777777777778,
              "#fb9f3a"
             ],
             [
              0.8888888888888888,
              "#fdca26"
             ],
             [
              1,
              "#f0f921"
             ]
            ],
            "type": "heatmap"
           }
          ],
          "heatmapgl": [
           {
            "colorbar": {
             "outlinewidth": 0,
             "ticks": ""
            },
            "colorscale": [
             [
              0,
              "#0d0887"
             ],
             [
              0.1111111111111111,
              "#46039f"
             ],
             [
              0.2222222222222222,
              "#7201a8"
             ],
             [
              0.3333333333333333,
              "#9c179e"
             ],
             [
              0.4444444444444444,
              "#bd3786"
             ],
             [
              0.5555555555555556,
              "#d8576b"
             ],
             [
              0.6666666666666666,
              "#ed7953"
             ],
             [
              0.7777777777777778,
              "#fb9f3a"
             ],
             [
              0.8888888888888888,
              "#fdca26"
             ],
             [
              1,
              "#f0f921"
             ]
            ],
            "type": "heatmapgl"
           }
          ],
          "histogram": [
           {
            "marker": {
             "pattern": {
              "fillmode": "overlay",
              "size": 10,
              "solidity": 0.2
             }
            },
            "type": "histogram"
           }
          ],
          "histogram2d": [
           {
            "colorbar": {
             "outlinewidth": 0,
             "ticks": ""
            },
            "colorscale": [
             [
              0,
              "#0d0887"
             ],
             [
              0.1111111111111111,
              "#46039f"
             ],
             [
              0.2222222222222222,
              "#7201a8"
             ],
             [
              0.3333333333333333,
              "#9c179e"
             ],
             [
              0.4444444444444444,
              "#bd3786"
             ],
             [
              0.5555555555555556,
              "#d8576b"
             ],
             [
              0.6666666666666666,
              "#ed7953"
             ],
             [
              0.7777777777777778,
              "#fb9f3a"
             ],
             [
              0.8888888888888888,
              "#fdca26"
             ],
             [
              1,
              "#f0f921"
             ]
            ],
            "type": "histogram2d"
           }
          ],
          "histogram2dcontour": [
           {
            "colorbar": {
             "outlinewidth": 0,
             "ticks": ""
            },
            "colorscale": [
             [
              0,
              "#0d0887"
             ],
             [
              0.1111111111111111,
              "#46039f"
             ],
             [
              0.2222222222222222,
              "#7201a8"
             ],
             [
              0.3333333333333333,
              "#9c179e"
             ],
             [
              0.4444444444444444,
              "#bd3786"
             ],
             [
              0.5555555555555556,
              "#d8576b"
             ],
             [
              0.6666666666666666,
              "#ed7953"
             ],
             [
              0.7777777777777778,
              "#fb9f3a"
             ],
             [
              0.8888888888888888,
              "#fdca26"
             ],
             [
              1,
              "#f0f921"
             ]
            ],
            "type": "histogram2dcontour"
           }
          ],
          "mesh3d": [
           {
            "colorbar": {
             "outlinewidth": 0,
             "ticks": ""
            },
            "type": "mesh3d"
           }
          ],
          "parcoords": [
           {
            "line": {
             "colorbar": {
              "outlinewidth": 0,
              "ticks": ""
             }
            },
            "type": "parcoords"
           }
          ],
          "pie": [
           {
            "automargin": true,
            "type": "pie"
           }
          ],
          "scatter": [
           {
            "marker": {
             "colorbar": {
              "outlinewidth": 0,
              "ticks": ""
             }
            },
            "type": "scatter"
           }
          ],
          "scatter3d": [
           {
            "line": {
             "colorbar": {
              "outlinewidth": 0,
              "ticks": ""
             }
            },
            "marker": {
             "colorbar": {
              "outlinewidth": 0,
              "ticks": ""
             }
            },
            "type": "scatter3d"
           }
          ],
          "scattercarpet": [
           {
            "marker": {
             "colorbar": {
              "outlinewidth": 0,
              "ticks": ""
             }
            },
            "type": "scattercarpet"
           }
          ],
          "scattergeo": [
           {
            "marker": {
             "colorbar": {
              "outlinewidth": 0,
              "ticks": ""
             }
            },
            "type": "scattergeo"
           }
          ],
          "scattergl": [
           {
            "marker": {
             "colorbar": {
              "outlinewidth": 0,
              "ticks": ""
             }
            },
            "type": "scattergl"
           }
          ],
          "scattermapbox": [
           {
            "marker": {
             "colorbar": {
              "outlinewidth": 0,
              "ticks": ""
             }
            },
            "type": "scattermapbox"
           }
          ],
          "scatterpolar": [
           {
            "marker": {
             "colorbar": {
              "outlinewidth": 0,
              "ticks": ""
             }
            },
            "type": "scatterpolar"
           }
          ],
          "scatterpolargl": [
           {
            "marker": {
             "colorbar": {
              "outlinewidth": 0,
              "ticks": ""
             }
            },
            "type": "scatterpolargl"
           }
          ],
          "scatterternary": [
           {
            "marker": {
             "colorbar": {
              "outlinewidth": 0,
              "ticks": ""
             }
            },
            "type": "scatterternary"
           }
          ],
          "surface": [
           {
            "colorbar": {
             "outlinewidth": 0,
             "ticks": ""
            },
            "colorscale": [
             [
              0,
              "#0d0887"
             ],
             [
              0.1111111111111111,
              "#46039f"
             ],
             [
              0.2222222222222222,
              "#7201a8"
             ],
             [
              0.3333333333333333,
              "#9c179e"
             ],
             [
              0.4444444444444444,
              "#bd3786"
             ],
             [
              0.5555555555555556,
              "#d8576b"
             ],
             [
              0.6666666666666666,
              "#ed7953"
             ],
             [
              0.7777777777777778,
              "#fb9f3a"
             ],
             [
              0.8888888888888888,
              "#fdca26"
             ],
             [
              1,
              "#f0f921"
             ]
            ],
            "type": "surface"
           }
          ],
          "table": [
           {
            "cells": {
             "fill": {
              "color": "#EBF0F8"
             },
             "line": {
              "color": "white"
             }
            },
            "header": {
             "fill": {
              "color": "#C8D4E3"
             },
             "line": {
              "color": "white"
             }
            },
            "type": "table"
           }
          ]
         },
         "layout": {
          "annotationdefaults": {
           "arrowcolor": "#2a3f5f",
           "arrowhead": 0,
           "arrowwidth": 1
          },
          "autotypenumbers": "strict",
          "coloraxis": {
           "colorbar": {
            "outlinewidth": 0,
            "ticks": ""
           }
          },
          "colorscale": {
           "diverging": [
            [
             0,
             "#8e0152"
            ],
            [
             0.1,
             "#c51b7d"
            ],
            [
             0.2,
             "#de77ae"
            ],
            [
             0.3,
             "#f1b6da"
            ],
            [
             0.4,
             "#fde0ef"
            ],
            [
             0.5,
             "#f7f7f7"
            ],
            [
             0.6,
             "#e6f5d0"
            ],
            [
             0.7,
             "#b8e186"
            ],
            [
             0.8,
             "#7fbc41"
            ],
            [
             0.9,
             "#4d9221"
            ],
            [
             1,
             "#276419"
            ]
           ],
           "sequential": [
            [
             0,
             "#0d0887"
            ],
            [
             0.1111111111111111,
             "#46039f"
            ],
            [
             0.2222222222222222,
             "#7201a8"
            ],
            [
             0.3333333333333333,
             "#9c179e"
            ],
            [
             0.4444444444444444,
             "#bd3786"
            ],
            [
             0.5555555555555556,
             "#d8576b"
            ],
            [
             0.6666666666666666,
             "#ed7953"
            ],
            [
             0.7777777777777778,
             "#fb9f3a"
            ],
            [
             0.8888888888888888,
             "#fdca26"
            ],
            [
             1,
             "#f0f921"
            ]
           ],
           "sequentialminus": [
            [
             0,
             "#0d0887"
            ],
            [
             0.1111111111111111,
             "#46039f"
            ],
            [
             0.2222222222222222,
             "#7201a8"
            ],
            [
             0.3333333333333333,
             "#9c179e"
            ],
            [
             0.4444444444444444,
             "#bd3786"
            ],
            [
             0.5555555555555556,
             "#d8576b"
            ],
            [
             0.6666666666666666,
             "#ed7953"
            ],
            [
             0.7777777777777778,
             "#fb9f3a"
            ],
            [
             0.8888888888888888,
             "#fdca26"
            ],
            [
             1,
             "#f0f921"
            ]
           ]
          },
          "colorway": [
           "#636efa",
           "#EF553B",
           "#00cc96",
           "#ab63fa",
           "#FFA15A",
           "#19d3f3",
           "#FF6692",
           "#B6E880",
           "#FF97FF",
           "#FECB52"
          ],
          "font": {
           "color": "#2a3f5f"
          },
          "geo": {
           "bgcolor": "white",
           "lakecolor": "white",
           "landcolor": "#E5ECF6",
           "showlakes": true,
           "showland": true,
           "subunitcolor": "white"
          },
          "hoverlabel": {
           "align": "left"
          },
          "hovermode": "closest",
          "mapbox": {
           "style": "light"
          },
          "paper_bgcolor": "white",
          "plot_bgcolor": "#E5ECF6",
          "polar": {
           "angularaxis": {
            "gridcolor": "white",
            "linecolor": "white",
            "ticks": ""
           },
           "bgcolor": "#E5ECF6",
           "radialaxis": {
            "gridcolor": "white",
            "linecolor": "white",
            "ticks": ""
           }
          },
          "scene": {
           "xaxis": {
            "backgroundcolor": "#E5ECF6",
            "gridcolor": "white",
            "gridwidth": 2,
            "linecolor": "white",
            "showbackground": true,
            "ticks": "",
            "zerolinecolor": "white"
           },
           "yaxis": {
            "backgroundcolor": "#E5ECF6",
            "gridcolor": "white",
            "gridwidth": 2,
            "linecolor": "white",
            "showbackground": true,
            "ticks": "",
            "zerolinecolor": "white"
           },
           "zaxis": {
            "backgroundcolor": "#E5ECF6",
            "gridcolor": "white",
            "gridwidth": 2,
            "linecolor": "white",
            "showbackground": true,
            "ticks": "",
            "zerolinecolor": "white"
           }
          },
          "shapedefaults": {
           "line": {
            "color": "#2a3f5f"
           }
          },
          "ternary": {
           "aaxis": {
            "gridcolor": "white",
            "linecolor": "white",
            "ticks": ""
           },
           "baxis": {
            "gridcolor": "white",
            "linecolor": "white",
            "ticks": ""
           },
           "bgcolor": "#E5ECF6",
           "caxis": {
            "gridcolor": "white",
            "linecolor": "white",
            "ticks": ""
           }
          },
          "title": {
           "x": 0.05
          },
          "xaxis": {
           "automargin": true,
           "gridcolor": "white",
           "linecolor": "white",
           "ticks": "",
           "title": {
            "standoff": 15
           },
           "zerolinecolor": "white",
           "zerolinewidth": 2
          },
          "yaxis": {
           "automargin": true,
           "gridcolor": "white",
           "linecolor": "white",
           "ticks": "",
           "title": {
            "standoff": 15
           },
           "zerolinecolor": "white",
           "zerolinewidth": 2
          }
         }
        },
        "xaxis": {
         "anchor": "y",
         "domain": [
          0,
          1
         ],
         "title": {
          "text": "days_from_deadline"
         }
        },
        "yaxis": {
         "anchor": "x",
         "domain": [
          0,
          1
         ],
         "title": {
          "text": "cum_count"
         }
        }
       }
      },
      "text/html": [
       "<div>                            <div id=\"ac314991-af4e-40b3-a700-93a2d4d86668\" class=\"plotly-graph-div\" style=\"height:525px; width:100%;\"></div>            <script type=\"text/javascript\">                require([\"plotly\"], function(Plotly) {                    window.PLOTLYENV=window.PLOTLYENV || {};                                    if (document.getElementById(\"ac314991-af4e-40b3-a700-93a2d4d86668\")) {                    Plotly.newPlot(                        \"ac314991-af4e-40b3-a700-93a2d4d86668\",                        [{\"hovertemplate\":\"week=4<br>days_from_deadline=%{x}<br>cum_count=%{y}<extra></extra>\",\"legendgroup\":\"4\",\"line\":{\"color\":\"#636efa\",\"dash\":\"solid\"},\"marker\":{\"symbol\":\"circle\"},\"mode\":\"lines\",\"name\":\"4\",\"orientation\":\"v\",\"showlegend\":true,\"x\":[-21.0,-18.0,-7.0,-7.0,-7.0,-7.0,-7.0,-6.0,-5.0,-5.0,-5.0,-5.0,-4.0,-3.0,-2.0,-1.0,-1.0,-1.0,-0.0,1.0,6.0,null,null,null,null,null,null,null,null,null,null,null],\"xaxis\":\"x\",\"y\":[0,1,2,3,4,5,6,7,8,9,10,11,12,13,14,15,16,17,18,19,20,21,22,23,24,25,26,27,28,29,30,31],\"yaxis\":\"y\",\"type\":\"scatter\"},{\"hovertemplate\":\"week=3<br>days_from_deadline=%{x}<br>cum_count=%{y}<extra></extra>\",\"legendgroup\":\"3\",\"line\":{\"color\":\"#EF553B\",\"dash\":\"solid\"},\"marker\":{\"symbol\":\"circle\"},\"mode\":\"lines\",\"name\":\"3\",\"orientation\":\"v\",\"showlegend\":true,\"x\":[-14.0,-7.0,-7.0,-7.0,-7.0,-7.0,-7.0,-7.0,-7.0,-6.0,-6.0,-5.0,-3.0,-3.0,-2.0,-1.0,-1.0,1.0,null,null,null,null,null,null,null,null,null,null,null,null,null,null],\"xaxis\":\"x\",\"y\":[0,1,2,3,4,5,6,7,8,9,10,11,12,13,14,15,16,17,18,19,20,21,22,23,24,25,26,27,28,29,30,31],\"yaxis\":\"y\",\"type\":\"scatter\"},{\"hovertemplate\":\"week=1<br>days_from_deadline=%{x}<br>cum_count=%{y}<extra></extra>\",\"legendgroup\":\"1\",\"line\":{\"color\":\"#00cc96\",\"dash\":\"solid\"},\"marker\":{\"symbol\":\"circle\"},\"mode\":\"lines\",\"name\":\"1\",\"orientation\":\"v\",\"showlegend\":true,\"x\":[-8.0,-8.0,-8.0,-8.0,-8.0,-8.0,-8.0,-8.0,-8.0,-8.0,-7.0,-7.0,-7.0,-7.0,-7.0,-6.0,-6.0,-6.0,-5.0,-5.0,-5.0,-4.0,-1.0,2.0,5.0,null,null,null,null,null,null],\"xaxis\":\"x\",\"y\":[1,2,3,4,5,6,7,8,9,10,11,12,13,14,15,16,17,18,19,20,21,22,23,24,25,26,27,28,29,30,31],\"yaxis\":\"y\",\"type\":\"scatter\"},{\"hovertemplate\":\"week=2<br>days_from_deadline=%{x}<br>cum_count=%{y}<extra></extra>\",\"legendgroup\":\"2\",\"line\":{\"color\":\"#ab63fa\",\"dash\":\"solid\"},\"marker\":{\"symbol\":\"circle\"},\"mode\":\"lines\",\"name\":\"2\",\"orientation\":\"v\",\"showlegend\":true,\"x\":[-7.0,-7.0,-7.0,-7.0,-7.0,-7.0,-6.0,-6.0,-6.0,-6.0,-6.0,-5.0,-5.0,-4.0,-4.0,-2.0,-2.0,-1.0,-1.0,-1.0,-1.0,1.0,9.0,13.0,null,null,null,null,null,null,null,null],\"xaxis\":\"x\",\"y\":[0,1,2,3,4,5,6,7,8,9,10,11,12,13,14,15,16,17,18,19,20,21,22,23,24,25,26,27,28,29,30,31],\"yaxis\":\"y\",\"type\":\"scatter\"},{\"hovertemplate\":\"week=5<br>days_from_deadline=%{x}<br>cum_count=%{y}<extra></extra>\",\"legendgroup\":\"5\",\"line\":{\"color\":\"#FFA15A\",\"dash\":\"solid\"},\"marker\":{\"symbol\":\"circle\"},\"mode\":\"lines\",\"name\":\"5\",\"orientation\":\"v\",\"showlegend\":true,\"x\":[-7.0,-7.0,-7.0,-7.0,-6.0,-5.0,-5.0,-4.0,-3.0,-3.0,-2.0,-2.0,-1.0,-1.0,-1.0,null,null,null,null,null,null,null,null,null,null,null,null,null,null,null,null,null],\"xaxis\":\"x\",\"y\":[0,1,2,3,4,5,6,7,8,9,10,11,12,13,14,15,16,17,18,19,20,21,22,23,24,25,26,27,28,29,30,31],\"yaxis\":\"y\",\"type\":\"scatter\"}],                        {\"template\":{\"data\":{\"bar\":[{\"error_x\":{\"color\":\"#2a3f5f\"},\"error_y\":{\"color\":\"#2a3f5f\"},\"marker\":{\"line\":{\"color\":\"#E5ECF6\",\"width\":0.5},\"pattern\":{\"fillmode\":\"overlay\",\"size\":10,\"solidity\":0.2}},\"type\":\"bar\"}],\"barpolar\":[{\"marker\":{\"line\":{\"color\":\"#E5ECF6\",\"width\":0.5},\"pattern\":{\"fillmode\":\"overlay\",\"size\":10,\"solidity\":0.2}},\"type\":\"barpolar\"}],\"carpet\":[{\"aaxis\":{\"endlinecolor\":\"#2a3f5f\",\"gridcolor\":\"white\",\"linecolor\":\"white\",\"minorgridcolor\":\"white\",\"startlinecolor\":\"#2a3f5f\"},\"baxis\":{\"endlinecolor\":\"#2a3f5f\",\"gridcolor\":\"white\",\"linecolor\":\"white\",\"minorgridcolor\":\"white\",\"startlinecolor\":\"#2a3f5f\"},\"type\":\"carpet\"}],\"choropleth\":[{\"colorbar\":{\"outlinewidth\":0,\"ticks\":\"\"},\"type\":\"choropleth\"}],\"contour\":[{\"colorbar\":{\"outlinewidth\":0,\"ticks\":\"\"},\"colorscale\":[[0.0,\"#0d0887\"],[0.1111111111111111,\"#46039f\"],[0.2222222222222222,\"#7201a8\"],[0.3333333333333333,\"#9c179e\"],[0.4444444444444444,\"#bd3786\"],[0.5555555555555556,\"#d8576b\"],[0.6666666666666666,\"#ed7953\"],[0.7777777777777778,\"#fb9f3a\"],[0.8888888888888888,\"#fdca26\"],[1.0,\"#f0f921\"]],\"type\":\"contour\"}],\"contourcarpet\":[{\"colorbar\":{\"outlinewidth\":0,\"ticks\":\"\"},\"type\":\"contourcarpet\"}],\"heatmap\":[{\"colorbar\":{\"outlinewidth\":0,\"ticks\":\"\"},\"colorscale\":[[0.0,\"#0d0887\"],[0.1111111111111111,\"#46039f\"],[0.2222222222222222,\"#7201a8\"],[0.3333333333333333,\"#9c179e\"],[0.4444444444444444,\"#bd3786\"],[0.5555555555555556,\"#d8576b\"],[0.6666666666666666,\"#ed7953\"],[0.7777777777777778,\"#fb9f3a\"],[0.8888888888888888,\"#fdca26\"],[1.0,\"#f0f921\"]],\"type\":\"heatmap\"}],\"heatmapgl\":[{\"colorbar\":{\"outlinewidth\":0,\"ticks\":\"\"},\"colorscale\":[[0.0,\"#0d0887\"],[0.1111111111111111,\"#46039f\"],[0.2222222222222222,\"#7201a8\"],[0.3333333333333333,\"#9c179e\"],[0.4444444444444444,\"#bd3786\"],[0.5555555555555556,\"#d8576b\"],[0.6666666666666666,\"#ed7953\"],[0.7777777777777778,\"#fb9f3a\"],[0.8888888888888888,\"#fdca26\"],[1.0,\"#f0f921\"]],\"type\":\"heatmapgl\"}],\"histogram\":[{\"marker\":{\"pattern\":{\"fillmode\":\"overlay\",\"size\":10,\"solidity\":0.2}},\"type\":\"histogram\"}],\"histogram2d\":[{\"colorbar\":{\"outlinewidth\":0,\"ticks\":\"\"},\"colorscale\":[[0.0,\"#0d0887\"],[0.1111111111111111,\"#46039f\"],[0.2222222222222222,\"#7201a8\"],[0.3333333333333333,\"#9c179e\"],[0.4444444444444444,\"#bd3786\"],[0.5555555555555556,\"#d8576b\"],[0.6666666666666666,\"#ed7953\"],[0.7777777777777778,\"#fb9f3a\"],[0.8888888888888888,\"#fdca26\"],[1.0,\"#f0f921\"]],\"type\":\"histogram2d\"}],\"histogram2dcontour\":[{\"colorbar\":{\"outlinewidth\":0,\"ticks\":\"\"},\"colorscale\":[[0.0,\"#0d0887\"],[0.1111111111111111,\"#46039f\"],[0.2222222222222222,\"#7201a8\"],[0.3333333333333333,\"#9c179e\"],[0.4444444444444444,\"#bd3786\"],[0.5555555555555556,\"#d8576b\"],[0.6666666666666666,\"#ed7953\"],[0.7777777777777778,\"#fb9f3a\"],[0.8888888888888888,\"#fdca26\"],[1.0,\"#f0f921\"]],\"type\":\"histogram2dcontour\"}],\"mesh3d\":[{\"colorbar\":{\"outlinewidth\":0,\"ticks\":\"\"},\"type\":\"mesh3d\"}],\"parcoords\":[{\"line\":{\"colorbar\":{\"outlinewidth\":0,\"ticks\":\"\"}},\"type\":\"parcoords\"}],\"pie\":[{\"automargin\":true,\"type\":\"pie\"}],\"scatter\":[{\"marker\":{\"colorbar\":{\"outlinewidth\":0,\"ticks\":\"\"}},\"type\":\"scatter\"}],\"scatter3d\":[{\"line\":{\"colorbar\":{\"outlinewidth\":0,\"ticks\":\"\"}},\"marker\":{\"colorbar\":{\"outlinewidth\":0,\"ticks\":\"\"}},\"type\":\"scatter3d\"}],\"scattercarpet\":[{\"marker\":{\"colorbar\":{\"outlinewidth\":0,\"ticks\":\"\"}},\"type\":\"scattercarpet\"}],\"scattergeo\":[{\"marker\":{\"colorbar\":{\"outlinewidth\":0,\"ticks\":\"\"}},\"type\":\"scattergeo\"}],\"scattergl\":[{\"marker\":{\"colorbar\":{\"outlinewidth\":0,\"ticks\":\"\"}},\"type\":\"scattergl\"}],\"scattermapbox\":[{\"marker\":{\"colorbar\":{\"outlinewidth\":0,\"ticks\":\"\"}},\"type\":\"scattermapbox\"}],\"scatterpolar\":[{\"marker\":{\"colorbar\":{\"outlinewidth\":0,\"ticks\":\"\"}},\"type\":\"scatterpolar\"}],\"scatterpolargl\":[{\"marker\":{\"colorbar\":{\"outlinewidth\":0,\"ticks\":\"\"}},\"type\":\"scatterpolargl\"}],\"scatterternary\":[{\"marker\":{\"colorbar\":{\"outlinewidth\":0,\"ticks\":\"\"}},\"type\":\"scatterternary\"}],\"surface\":[{\"colorbar\":{\"outlinewidth\":0,\"ticks\":\"\"},\"colorscale\":[[0.0,\"#0d0887\"],[0.1111111111111111,\"#46039f\"],[0.2222222222222222,\"#7201a8\"],[0.3333333333333333,\"#9c179e\"],[0.4444444444444444,\"#bd3786\"],[0.5555555555555556,\"#d8576b\"],[0.6666666666666666,\"#ed7953\"],[0.7777777777777778,\"#fb9f3a\"],[0.8888888888888888,\"#fdca26\"],[1.0,\"#f0f921\"]],\"type\":\"surface\"}],\"table\":[{\"cells\":{\"fill\":{\"color\":\"#EBF0F8\"},\"line\":{\"color\":\"white\"}},\"header\":{\"fill\":{\"color\":\"#C8D4E3\"},\"line\":{\"color\":\"white\"}},\"type\":\"table\"}]},\"layout\":{\"annotationdefaults\":{\"arrowcolor\":\"#2a3f5f\",\"arrowhead\":0,\"arrowwidth\":1},\"autotypenumbers\":\"strict\",\"coloraxis\":{\"colorbar\":{\"outlinewidth\":0,\"ticks\":\"\"}},\"colorscale\":{\"diverging\":[[0,\"#8e0152\"],[0.1,\"#c51b7d\"],[0.2,\"#de77ae\"],[0.3,\"#f1b6da\"],[0.4,\"#fde0ef\"],[0.5,\"#f7f7f7\"],[0.6,\"#e6f5d0\"],[0.7,\"#b8e186\"],[0.8,\"#7fbc41\"],[0.9,\"#4d9221\"],[1,\"#276419\"]],\"sequential\":[[0.0,\"#0d0887\"],[0.1111111111111111,\"#46039f\"],[0.2222222222222222,\"#7201a8\"],[0.3333333333333333,\"#9c179e\"],[0.4444444444444444,\"#bd3786\"],[0.5555555555555556,\"#d8576b\"],[0.6666666666666666,\"#ed7953\"],[0.7777777777777778,\"#fb9f3a\"],[0.8888888888888888,\"#fdca26\"],[1.0,\"#f0f921\"]],\"sequentialminus\":[[0.0,\"#0d0887\"],[0.1111111111111111,\"#46039f\"],[0.2222222222222222,\"#7201a8\"],[0.3333333333333333,\"#9c179e\"],[0.4444444444444444,\"#bd3786\"],[0.5555555555555556,\"#d8576b\"],[0.6666666666666666,\"#ed7953\"],[0.7777777777777778,\"#fb9f3a\"],[0.8888888888888888,\"#fdca26\"],[1.0,\"#f0f921\"]]},\"colorway\":[\"#636efa\",\"#EF553B\",\"#00cc96\",\"#ab63fa\",\"#FFA15A\",\"#19d3f3\",\"#FF6692\",\"#B6E880\",\"#FF97FF\",\"#FECB52\"],\"font\":{\"color\":\"#2a3f5f\"},\"geo\":{\"bgcolor\":\"white\",\"lakecolor\":\"white\",\"landcolor\":\"#E5ECF6\",\"showlakes\":true,\"showland\":true,\"subunitcolor\":\"white\"},\"hoverlabel\":{\"align\":\"left\"},\"hovermode\":\"closest\",\"mapbox\":{\"style\":\"light\"},\"paper_bgcolor\":\"white\",\"plot_bgcolor\":\"#E5ECF6\",\"polar\":{\"angularaxis\":{\"gridcolor\":\"white\",\"linecolor\":\"white\",\"ticks\":\"\"},\"bgcolor\":\"#E5ECF6\",\"radialaxis\":{\"gridcolor\":\"white\",\"linecolor\":\"white\",\"ticks\":\"\"}},\"scene\":{\"xaxis\":{\"backgroundcolor\":\"#E5ECF6\",\"gridcolor\":\"white\",\"gridwidth\":2,\"linecolor\":\"white\",\"showbackground\":true,\"ticks\":\"\",\"zerolinecolor\":\"white\"},\"yaxis\":{\"backgroundcolor\":\"#E5ECF6\",\"gridcolor\":\"white\",\"gridwidth\":2,\"linecolor\":\"white\",\"showbackground\":true,\"ticks\":\"\",\"zerolinecolor\":\"white\"},\"zaxis\":{\"backgroundcolor\":\"#E5ECF6\",\"gridcolor\":\"white\",\"gridwidth\":2,\"linecolor\":\"white\",\"showbackground\":true,\"ticks\":\"\",\"zerolinecolor\":\"white\"}},\"shapedefaults\":{\"line\":{\"color\":\"#2a3f5f\"}},\"ternary\":{\"aaxis\":{\"gridcolor\":\"white\",\"linecolor\":\"white\",\"ticks\":\"\"},\"baxis\":{\"gridcolor\":\"white\",\"linecolor\":\"white\",\"ticks\":\"\"},\"bgcolor\":\"#E5ECF6\",\"caxis\":{\"gridcolor\":\"white\",\"linecolor\":\"white\",\"ticks\":\"\"}},\"title\":{\"x\":0.05},\"xaxis\":{\"automargin\":true,\"gridcolor\":\"white\",\"linecolor\":\"white\",\"ticks\":\"\",\"title\":{\"standoff\":15},\"zerolinecolor\":\"white\",\"zerolinewidth\":2},\"yaxis\":{\"automargin\":true,\"gridcolor\":\"white\",\"linecolor\":\"white\",\"ticks\":\"\",\"title\":{\"standoff\":15},\"zerolinecolor\":\"white\",\"zerolinewidth\":2}}},\"xaxis\":{\"anchor\":\"y\",\"domain\":[0.0,1.0],\"title\":{\"text\":\"days_from_deadline\"}},\"yaxis\":{\"anchor\":\"x\",\"domain\":[0.0,1.0],\"title\":{\"text\":\"cum_count\"}},\"legend\":{\"title\":{\"text\":\"week\"},\"tracegroupgap\":0},\"margin\":{\"t\":60}},                        {\"responsive\": true}                    ).then(function(){\n",
       "                            \n",
       "var gd = document.getElementById('ac314991-af4e-40b3-a700-93a2d4d86668');\n",
       "var x = new MutationObserver(function (mutations, observer) {{\n",
       "        var display = window.getComputedStyle(gd).display;\n",
       "        if (!display || display === 'none') {{\n",
       "            console.log([gd, 'removed!']);\n",
       "            Plotly.purge(gd);\n",
       "            observer.disconnect();\n",
       "        }}\n",
       "}});\n",
       "\n",
       "// Listen for the removal of the full notebook cells\n",
       "var notebookContainer = gd.closest('#notebook-container');\n",
       "if (notebookContainer) {{\n",
       "    x.observe(notebookContainer, {childList: true});\n",
       "}}\n",
       "\n",
       "// Listen for the clearing of the current output cell\n",
       "var outputEl = gd.closest('.output');\n",
       "if (outputEl) {{\n",
       "    x.observe(outputEl, {childList: true});\n",
       "}}\n",
       "\n",
       "                        })                };                });            </script>        </div>"
      ]
     },
     "metadata": {},
     "output_type": "display_data"
    }
   ],
   "source": [
    "import plotly.express as px\n",
    "px.line(submissions[1:], y=\"cum_count\", x=\"days_from_deadline\", color=\"week\")"
   ]
  },
  {
   "cell_type": "code",
   "execution_count": 64,
   "id": "c18b6b65",
   "metadata": {},
   "outputs": [],
   "source": [
    "only_submitted = submissions.dropna()"
   ]
  },
  {
   "cell_type": "code",
   "execution_count": 65,
   "id": "206e4af6",
   "metadata": {},
   "outputs": [
    {
     "data": {
      "text/html": [
       "<div>\n",
       "<style scoped>\n",
       "    .dataframe tbody tr th:only-of-type {\n",
       "        vertical-align: middle;\n",
       "    }\n",
       "\n",
       "    .dataframe tbody tr th {\n",
       "        vertical-align: top;\n",
       "    }\n",
       "\n",
       "    .dataframe thead th {\n",
       "        text-align: right;\n",
       "    }\n",
       "</style>\n",
       "<table border=\"1\" class=\"dataframe\">\n",
       "  <thead>\n",
       "    <tr style=\"text-align: right;\">\n",
       "      <th></th>\n",
       "      <th></th>\n",
       "      <th>Contestant</th>\n",
       "      <th>Problem</th>\n",
       "      <th>Deadline</th>\n",
       "      <th>days_from_deadline</th>\n",
       "      <th>cum_count</th>\n",
       "    </tr>\n",
       "    <tr>\n",
       "      <th>week</th>\n",
       "      <th>submission_time</th>\n",
       "      <th></th>\n",
       "      <th></th>\n",
       "      <th></th>\n",
       "      <th></th>\n",
       "      <th></th>\n",
       "    </tr>\n",
       "  </thead>\n",
       "  <tbody>\n",
       "    <tr>\n",
       "      <th rowspan=\"9\" valign=\"top\">1</th>\n",
       "      <th>2020-12-01</th>\n",
       "      <td>1</td>\n",
       "      <td>1</td>\n",
       "      <td>1</td>\n",
       "      <td>1</td>\n",
       "      <td>1</td>\n",
       "    </tr>\n",
       "    <tr>\n",
       "      <th>2022-02-14</th>\n",
       "      <td>10</td>\n",
       "      <td>10</td>\n",
       "      <td>10</td>\n",
       "      <td>10</td>\n",
       "      <td>10</td>\n",
       "    </tr>\n",
       "    <tr>\n",
       "      <th>2022-02-15</th>\n",
       "      <td>5</td>\n",
       "      <td>5</td>\n",
       "      <td>5</td>\n",
       "      <td>5</td>\n",
       "      <td>5</td>\n",
       "    </tr>\n",
       "    <tr>\n",
       "      <th>2022-02-16</th>\n",
       "      <td>3</td>\n",
       "      <td>3</td>\n",
       "      <td>3</td>\n",
       "      <td>3</td>\n",
       "      <td>3</td>\n",
       "    </tr>\n",
       "    <tr>\n",
       "      <th>2022-02-17</th>\n",
       "      <td>3</td>\n",
       "      <td>3</td>\n",
       "      <td>3</td>\n",
       "      <td>3</td>\n",
       "      <td>3</td>\n",
       "    </tr>\n",
       "    <tr>\n",
       "      <th>2022-02-18</th>\n",
       "      <td>1</td>\n",
       "      <td>1</td>\n",
       "      <td>1</td>\n",
       "      <td>1</td>\n",
       "      <td>1</td>\n",
       "    </tr>\n",
       "    <tr>\n",
       "      <th>2022-02-21</th>\n",
       "      <td>1</td>\n",
       "      <td>1</td>\n",
       "      <td>1</td>\n",
       "      <td>1</td>\n",
       "      <td>1</td>\n",
       "    </tr>\n",
       "    <tr>\n",
       "      <th>2022-02-24</th>\n",
       "      <td>1</td>\n",
       "      <td>1</td>\n",
       "      <td>1</td>\n",
       "      <td>1</td>\n",
       "      <td>1</td>\n",
       "    </tr>\n",
       "    <tr>\n",
       "      <th>2022-02-27</th>\n",
       "      <td>1</td>\n",
       "      <td>1</td>\n",
       "      <td>1</td>\n",
       "      <td>1</td>\n",
       "      <td>1</td>\n",
       "    </tr>\n",
       "    <tr>\n",
       "      <th rowspan=\"9\" valign=\"top\">2</th>\n",
       "      <th>2022-02-21</th>\n",
       "      <td>6</td>\n",
       "      <td>6</td>\n",
       "      <td>6</td>\n",
       "      <td>6</td>\n",
       "      <td>6</td>\n",
       "    </tr>\n",
       "    <tr>\n",
       "      <th>2022-02-22</th>\n",
       "      <td>5</td>\n",
       "      <td>5</td>\n",
       "      <td>5</td>\n",
       "      <td>5</td>\n",
       "      <td>5</td>\n",
       "    </tr>\n",
       "    <tr>\n",
       "      <th>2022-02-23</th>\n",
       "      <td>2</td>\n",
       "      <td>2</td>\n",
       "      <td>2</td>\n",
       "      <td>2</td>\n",
       "      <td>2</td>\n",
       "    </tr>\n",
       "    <tr>\n",
       "      <th>2022-02-24</th>\n",
       "      <td>2</td>\n",
       "      <td>2</td>\n",
       "      <td>2</td>\n",
       "      <td>2</td>\n",
       "      <td>2</td>\n",
       "    </tr>\n",
       "    <tr>\n",
       "      <th>2022-02-26</th>\n",
       "      <td>2</td>\n",
       "      <td>2</td>\n",
       "      <td>2</td>\n",
       "      <td>2</td>\n",
       "      <td>2</td>\n",
       "    </tr>\n",
       "    <tr>\n",
       "      <th>2022-02-27</th>\n",
       "      <td>4</td>\n",
       "      <td>4</td>\n",
       "      <td>4</td>\n",
       "      <td>4</td>\n",
       "      <td>4</td>\n",
       "    </tr>\n",
       "    <tr>\n",
       "      <th>2022-03-01</th>\n",
       "      <td>1</td>\n",
       "      <td>1</td>\n",
       "      <td>1</td>\n",
       "      <td>1</td>\n",
       "      <td>1</td>\n",
       "    </tr>\n",
       "    <tr>\n",
       "      <th>2022-03-09</th>\n",
       "      <td>1</td>\n",
       "      <td>1</td>\n",
       "      <td>1</td>\n",
       "      <td>1</td>\n",
       "      <td>1</td>\n",
       "    </tr>\n",
       "    <tr>\n",
       "      <th>2022-03-13</th>\n",
       "      <td>1</td>\n",
       "      <td>1</td>\n",
       "      <td>1</td>\n",
       "      <td>1</td>\n",
       "      <td>1</td>\n",
       "    </tr>\n",
       "    <tr>\n",
       "      <th rowspan=\"8\" valign=\"top\">3</th>\n",
       "      <th>2022-02-21</th>\n",
       "      <td>1</td>\n",
       "      <td>1</td>\n",
       "      <td>1</td>\n",
       "      <td>1</td>\n",
       "      <td>1</td>\n",
       "    </tr>\n",
       "    <tr>\n",
       "      <th>2022-02-28</th>\n",
       "      <td>8</td>\n",
       "      <td>8</td>\n",
       "      <td>8</td>\n",
       "      <td>8</td>\n",
       "      <td>8</td>\n",
       "    </tr>\n",
       "    <tr>\n",
       "      <th>2022-03-01</th>\n",
       "      <td>2</td>\n",
       "      <td>2</td>\n",
       "      <td>2</td>\n",
       "      <td>2</td>\n",
       "      <td>2</td>\n",
       "    </tr>\n",
       "    <tr>\n",
       "      <th>2022-03-02</th>\n",
       "      <td>1</td>\n",
       "      <td>1</td>\n",
       "      <td>1</td>\n",
       "      <td>1</td>\n",
       "      <td>1</td>\n",
       "    </tr>\n",
       "    <tr>\n",
       "      <th>2022-03-04</th>\n",
       "      <td>2</td>\n",
       "      <td>2</td>\n",
       "      <td>2</td>\n",
       "      <td>2</td>\n",
       "      <td>2</td>\n",
       "    </tr>\n",
       "    <tr>\n",
       "      <th>2022-03-05</th>\n",
       "      <td>1</td>\n",
       "      <td>1</td>\n",
       "      <td>1</td>\n",
       "      <td>1</td>\n",
       "      <td>1</td>\n",
       "    </tr>\n",
       "    <tr>\n",
       "      <th>2022-03-06</th>\n",
       "      <td>2</td>\n",
       "      <td>2</td>\n",
       "      <td>2</td>\n",
       "      <td>2</td>\n",
       "      <td>2</td>\n",
       "    </tr>\n",
       "    <tr>\n",
       "      <th>2022-03-08</th>\n",
       "      <td>1</td>\n",
       "      <td>1</td>\n",
       "      <td>1</td>\n",
       "      <td>1</td>\n",
       "      <td>1</td>\n",
       "    </tr>\n",
       "    <tr>\n",
       "      <th rowspan=\"12\" valign=\"top\">4</th>\n",
       "      <th>2022-02-21</th>\n",
       "      <td>1</td>\n",
       "      <td>1</td>\n",
       "      <td>1</td>\n",
       "      <td>1</td>\n",
       "      <td>1</td>\n",
       "    </tr>\n",
       "    <tr>\n",
       "      <th>2022-02-24</th>\n",
       "      <td>1</td>\n",
       "      <td>1</td>\n",
       "      <td>1</td>\n",
       "      <td>1</td>\n",
       "      <td>1</td>\n",
       "    </tr>\n",
       "    <tr>\n",
       "      <th>2022-03-07</th>\n",
       "      <td>5</td>\n",
       "      <td>5</td>\n",
       "      <td>5</td>\n",
       "      <td>5</td>\n",
       "      <td>5</td>\n",
       "    </tr>\n",
       "    <tr>\n",
       "      <th>2022-03-08</th>\n",
       "      <td>1</td>\n",
       "      <td>1</td>\n",
       "      <td>1</td>\n",
       "      <td>1</td>\n",
       "      <td>1</td>\n",
       "    </tr>\n",
       "    <tr>\n",
       "      <th>2022-03-09</th>\n",
       "      <td>4</td>\n",
       "      <td>4</td>\n",
       "      <td>4</td>\n",
       "      <td>4</td>\n",
       "      <td>4</td>\n",
       "    </tr>\n",
       "    <tr>\n",
       "      <th>2022-03-10</th>\n",
       "      <td>1</td>\n",
       "      <td>1</td>\n",
       "      <td>1</td>\n",
       "      <td>1</td>\n",
       "      <td>1</td>\n",
       "    </tr>\n",
       "    <tr>\n",
       "      <th>2022-03-11</th>\n",
       "      <td>1</td>\n",
       "      <td>1</td>\n",
       "      <td>1</td>\n",
       "      <td>1</td>\n",
       "      <td>1</td>\n",
       "    </tr>\n",
       "    <tr>\n",
       "      <th>2022-03-12</th>\n",
       "      <td>1</td>\n",
       "      <td>1</td>\n",
       "      <td>1</td>\n",
       "      <td>1</td>\n",
       "      <td>1</td>\n",
       "    </tr>\n",
       "    <tr>\n",
       "      <th>2022-03-13</th>\n",
       "      <td>3</td>\n",
       "      <td>3</td>\n",
       "      <td>3</td>\n",
       "      <td>3</td>\n",
       "      <td>3</td>\n",
       "    </tr>\n",
       "    <tr>\n",
       "      <th>2022-03-14</th>\n",
       "      <td>1</td>\n",
       "      <td>1</td>\n",
       "      <td>1</td>\n",
       "      <td>1</td>\n",
       "      <td>1</td>\n",
       "    </tr>\n",
       "    <tr>\n",
       "      <th>2022-03-15</th>\n",
       "      <td>1</td>\n",
       "      <td>1</td>\n",
       "      <td>1</td>\n",
       "      <td>1</td>\n",
       "      <td>1</td>\n",
       "    </tr>\n",
       "    <tr>\n",
       "      <th>2022-03-20</th>\n",
       "      <td>1</td>\n",
       "      <td>1</td>\n",
       "      <td>1</td>\n",
       "      <td>1</td>\n",
       "      <td>1</td>\n",
       "    </tr>\n",
       "    <tr>\n",
       "      <th rowspan=\"7\" valign=\"top\">5</th>\n",
       "      <th>2022-03-14</th>\n",
       "      <td>4</td>\n",
       "      <td>4</td>\n",
       "      <td>4</td>\n",
       "      <td>4</td>\n",
       "      <td>4</td>\n",
       "    </tr>\n",
       "    <tr>\n",
       "      <th>2022-03-15</th>\n",
       "      <td>1</td>\n",
       "      <td>1</td>\n",
       "      <td>1</td>\n",
       "      <td>1</td>\n",
       "      <td>1</td>\n",
       "    </tr>\n",
       "    <tr>\n",
       "      <th>2022-03-16</th>\n",
       "      <td>2</td>\n",
       "      <td>2</td>\n",
       "      <td>2</td>\n",
       "      <td>2</td>\n",
       "      <td>2</td>\n",
       "    </tr>\n",
       "    <tr>\n",
       "      <th>2022-03-17</th>\n",
       "      <td>1</td>\n",
       "      <td>1</td>\n",
       "      <td>1</td>\n",
       "      <td>1</td>\n",
       "      <td>1</td>\n",
       "    </tr>\n",
       "    <tr>\n",
       "      <th>2022-03-18</th>\n",
       "      <td>2</td>\n",
       "      <td>2</td>\n",
       "      <td>2</td>\n",
       "      <td>2</td>\n",
       "      <td>2</td>\n",
       "    </tr>\n",
       "    <tr>\n",
       "      <th>2022-03-19</th>\n",
       "      <td>2</td>\n",
       "      <td>2</td>\n",
       "      <td>2</td>\n",
       "      <td>2</td>\n",
       "      <td>2</td>\n",
       "    </tr>\n",
       "    <tr>\n",
       "      <th>2022-03-20</th>\n",
       "      <td>3</td>\n",
       "      <td>3</td>\n",
       "      <td>3</td>\n",
       "      <td>3</td>\n",
       "      <td>3</td>\n",
       "    </tr>\n",
       "  </tbody>\n",
       "</table>\n",
       "</div>"
      ],
      "text/plain": [
       "                      Contestant  Problem  Deadline  days_from_deadline  \\\n",
       "week submission_time                                                      \n",
       "1    2020-12-01                1        1         1                   1   \n",
       "     2022-02-14               10       10        10                  10   \n",
       "     2022-02-15                5        5         5                   5   \n",
       "     2022-02-16                3        3         3                   3   \n",
       "     2022-02-17                3        3         3                   3   \n",
       "     2022-02-18                1        1         1                   1   \n",
       "     2022-02-21                1        1         1                   1   \n",
       "     2022-02-24                1        1         1                   1   \n",
       "     2022-02-27                1        1         1                   1   \n",
       "2    2022-02-21                6        6         6                   6   \n",
       "     2022-02-22                5        5         5                   5   \n",
       "     2022-02-23                2        2         2                   2   \n",
       "     2022-02-24                2        2         2                   2   \n",
       "     2022-02-26                2        2         2                   2   \n",
       "     2022-02-27                4        4         4                   4   \n",
       "     2022-03-01                1        1         1                   1   \n",
       "     2022-03-09                1        1         1                   1   \n",
       "     2022-03-13                1        1         1                   1   \n",
       "3    2022-02-21                1        1         1                   1   \n",
       "     2022-02-28                8        8         8                   8   \n",
       "     2022-03-01                2        2         2                   2   \n",
       "     2022-03-02                1        1         1                   1   \n",
       "     2022-03-04                2        2         2                   2   \n",
       "     2022-03-05                1        1         1                   1   \n",
       "     2022-03-06                2        2         2                   2   \n",
       "     2022-03-08                1        1         1                   1   \n",
       "4    2022-02-21                1        1         1                   1   \n",
       "     2022-02-24                1        1         1                   1   \n",
       "     2022-03-07                5        5         5                   5   \n",
       "     2022-03-08                1        1         1                   1   \n",
       "     2022-03-09                4        4         4                   4   \n",
       "     2022-03-10                1        1         1                   1   \n",
       "     2022-03-11                1        1         1                   1   \n",
       "     2022-03-12                1        1         1                   1   \n",
       "     2022-03-13                3        3         3                   3   \n",
       "     2022-03-14                1        1         1                   1   \n",
       "     2022-03-15                1        1         1                   1   \n",
       "     2022-03-20                1        1         1                   1   \n",
       "5    2022-03-14                4        4         4                   4   \n",
       "     2022-03-15                1        1         1                   1   \n",
       "     2022-03-16                2        2         2                   2   \n",
       "     2022-03-17                1        1         1                   1   \n",
       "     2022-03-18                2        2         2                   2   \n",
       "     2022-03-19                2        2         2                   2   \n",
       "     2022-03-20                3        3         3                   3   \n",
       "\n",
       "                      cum_count  \n",
       "week submission_time             \n",
       "1    2020-12-01               1  \n",
       "     2022-02-14              10  \n",
       "     2022-02-15               5  \n",
       "     2022-02-16               3  \n",
       "     2022-02-17               3  \n",
       "     2022-02-18               1  \n",
       "     2022-02-21               1  \n",
       "     2022-02-24               1  \n",
       "     2022-02-27               1  \n",
       "2    2022-02-21               6  \n",
       "     2022-02-22               5  \n",
       "     2022-02-23               2  \n",
       "     2022-02-24               2  \n",
       "     2022-02-26               2  \n",
       "     2022-02-27               4  \n",
       "     2022-03-01               1  \n",
       "     2022-03-09               1  \n",
       "     2022-03-13               1  \n",
       "3    2022-02-21               1  \n",
       "     2022-02-28               8  \n",
       "     2022-03-01               2  \n",
       "     2022-03-02               1  \n",
       "     2022-03-04               2  \n",
       "     2022-03-05               1  \n",
       "     2022-03-06               2  \n",
       "     2022-03-08               1  \n",
       "4    2022-02-21               1  \n",
       "     2022-02-24               1  \n",
       "     2022-03-07               5  \n",
       "     2022-03-08               1  \n",
       "     2022-03-09               4  \n",
       "     2022-03-10               1  \n",
       "     2022-03-11               1  \n",
       "     2022-03-12               1  \n",
       "     2022-03-13               3  \n",
       "     2022-03-14               1  \n",
       "     2022-03-15               1  \n",
       "     2022-03-20               1  \n",
       "5    2022-03-14               4  \n",
       "     2022-03-15               1  \n",
       "     2022-03-16               2  \n",
       "     2022-03-17               1  \n",
       "     2022-03-18               2  \n",
       "     2022-03-19               2  \n",
       "     2022-03-20               3  "
      ]
     },
     "execution_count": 65,
     "metadata": {},
     "output_type": "execute_result"
    }
   ],
   "source": [
    "submissions.groupby([\"week\",\"submission_time\"]).count()"
   ]
  },
  {
   "cell_type": "code",
   "execution_count": 66,
   "id": "b1bef98b",
   "metadata": {},
   "outputs": [
    {
     "data": {
      "text/html": [
       "<div>\n",
       "<style scoped>\n",
       "    .dataframe tbody tr th:only-of-type {\n",
       "        vertical-align: middle;\n",
       "    }\n",
       "\n",
       "    .dataframe tbody tr th {\n",
       "        vertical-align: top;\n",
       "    }\n",
       "\n",
       "    .dataframe thead th {\n",
       "        text-align: right;\n",
       "    }\n",
       "</style>\n",
       "<table border=\"1\" class=\"dataframe\">\n",
       "  <thead>\n",
       "    <tr style=\"text-align: right;\">\n",
       "      <th></th>\n",
       "      <th>week</th>\n",
       "      <th>Contestant</th>\n",
       "    </tr>\n",
       "  </thead>\n",
       "  <tbody>\n",
       "    <tr>\n",
       "      <th>0</th>\n",
       "      <td>1</td>\n",
       "      <td>26</td>\n",
       "    </tr>\n",
       "    <tr>\n",
       "      <th>1</th>\n",
       "      <td>2</td>\n",
       "      <td>24</td>\n",
       "    </tr>\n",
       "    <tr>\n",
       "      <th>2</th>\n",
       "      <td>3</td>\n",
       "      <td>18</td>\n",
       "    </tr>\n",
       "    <tr>\n",
       "      <th>3</th>\n",
       "      <td>4</td>\n",
       "      <td>21</td>\n",
       "    </tr>\n",
       "    <tr>\n",
       "      <th>4</th>\n",
       "      <td>5</td>\n",
       "      <td>15</td>\n",
       "    </tr>\n",
       "  </tbody>\n",
       "</table>\n",
       "</div>"
      ],
      "text/plain": [
       "   week  Contestant\n",
       "0     1          26\n",
       "1     2          24\n",
       "2     3          18\n",
       "3     4          21\n",
       "4     5          15"
      ]
     },
     "execution_count": 66,
     "metadata": {},
     "output_type": "execute_result"
    }
   ],
   "source": [
    "only_submitted.groupby(\"week\").count().reset_index()[['week', 'Contestant']]"
   ]
  },
  {
   "cell_type": "code",
   "execution_count": null,
   "id": "9b504ce3",
   "metadata": {},
   "outputs": [],
   "source": []
  }
 ],
 "metadata": {
  "kernelspec": {
   "display_name": "Python [conda env:aoc]",
   "language": "python",
   "name": "conda-env-aoc-py"
  },
  "language_info": {
   "codemirror_mode": {
    "name": "ipython",
    "version": 3
   },
   "file_extension": ".py",
   "mimetype": "text/x-python",
   "name": "python",
   "nbconvert_exporter": "python",
   "pygments_lexer": "ipython3",
   "version": "3.9.7"
  }
 },
 "nbformat": 4,
 "nbformat_minor": 5
}
