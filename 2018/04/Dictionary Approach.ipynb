{
 "cells": [
  {
   "cell_type": "markdown",
   "id": "00b59056-f362-4c4a-a443-45b941cc808c",
   "metadata": {},
   "source": [
    "# Imports"
   ]
  },
  {
   "cell_type": "code",
   "execution_count": null,
   "id": "6cb6c6de-9cc8-4edb-87ba-4d73c254d6c2",
   "metadata": {},
   "outputs": [],
   "source": [
    "import math\n",
    "import sys\n",
    "import numpy as np\n",
    "from collections import Counter, defaultdict\n",
    "from itertools import combinations, permutations\n",
    "import time\n",
    "import os\n",
    "from pathlib import Path\n",
    "import pandas as pd\n",
    "from collections import defaultdict"
   ]
  },
  {
   "cell_type": "markdown",
   "id": "04bfa0fc-aad8-45bf-b275-849b856cec14",
   "metadata": {
    "jp-MarkdownHeadingCollapsed": true,
    "tags": []
   },
   "source": [
    "# Find Input"
   ]
  },
  {
   "cell_type": "code",
   "execution_count": null,
   "id": "f2c019ad-6961-48f6-9126-62e385eb0f4e",
   "metadata": {
    "tags": []
   },
   "outputs": [],
   "source": [
    "path = os.getcwd()\n",
    "\n",
    "input_file = Path(path)/\"input.txt\""
   ]
  },
  {
   "cell_type": "markdown",
   "id": "1e120eac-0b98-42bd-bbc1-e870d0ca9054",
   "metadata": {
    "jp-MarkdownHeadingCollapsed": true,
    "tags": []
   },
   "source": [
    "# Parse Input "
   ]
  },
  {
   "cell_type": "code",
   "execution_count": null,
   "id": "86052eb8-dcb7-4c41-a439-43c4724f349c",
   "metadata": {},
   "outputs": [],
   "source": [
    "def read_input(raw_input):\n",
    "    with open(raw_input) as f:\n",
    "        puzzle_input = f.read().splitlines()\n",
    "        puzzle_input = sorted(puzzle_input) # Test input is sorted, actual input is not\n",
    "    return puzzle_input"
   ]
  },
  {
   "cell_type": "code",
   "execution_count": null,
   "id": "a919afe9-1ef2-4d79-90ed-6b2857796660",
   "metadata": {},
   "outputs": [],
   "source": [
    "def parse_input(raw_input):\n",
    "    \n",
    "    puzzle_input = read_input(raw_input)\n",
    "    \n",
    "    # If we do this, we don't have to check if a value already exists when we extend\n",
    "    guards = defaultdict(list)\n",
    "    \n",
    "    # Handle first line\n",
    "    indicator, time = parse_line(puzzle_input[0])\n",
    "    \n",
    "    for line in puzzle_input:\n",
    "        \n",
    "        indicator, time = parse_line(line)\n",
    "        \n",
    "        # \"G\" = Guard begins shift\n",
    "        if indicator == \"G\":\n",
    "            curr_guard = int(line[19:].split(' ')[1][1:])\n",
    "\n",
    "        # \"f\" = falls asleep\n",
    "        elif indicator == \"f\":\n",
    "            asleep_time = time\n",
    "\n",
    "        # \"w\" = wakes up\n",
    "        elif indicator == \"w\":\n",
    "            guards[curr_guard].extend(list(range(asleep_time, time)))\n",
    "\n",
    "    return guards"
   ]
  },
  {
   "cell_type": "code",
   "execution_count": null,
   "id": "d280a0e9-7950-4bec-b69c-5bfc3bd8f96a",
   "metadata": {},
   "outputs": [],
   "source": [
    "def parse_line(line):\n",
    "    time = int(line[15:17])\n",
    "    indicator = line[19]\n",
    "    \n",
    "    return indicator, time"
   ]
  },
  {
   "cell_type": "markdown",
   "id": "8a9d162c-cd48-49d7-8e83-56c4b87f48eb",
   "metadata": {
    "jp-MarkdownHeadingCollapsed": true,
    "tags": []
   },
   "source": [
    "# Helper Funcs"
   ]
  },
  {
   "cell_type": "code",
   "execution_count": null,
   "id": "9f0ed463-b108-4af0-ae29-1b24e0fe36f7",
   "metadata": {},
   "outputs": [],
   "source": [
    "def create_total_asleep(guards_dict):\n",
    "    total_asleep = dict()\n",
    "\n",
    "    for guard, minutes in guards_dict.items():\n",
    "         total_asleep[guard] = len(minutes)\n",
    "\n",
    "    return total_asleep"
   ]
  },
  {
   "cell_type": "code",
   "execution_count": null,
   "id": "a655ce33-fe0f-491b-bd6a-ad1b1be57c7b",
   "metadata": {},
   "outputs": [],
   "source": [
    "def create_most_common_min(guards_dict):\n",
    "    most_common_min = dict()\n",
    "    \n",
    "    for guard, minutes in guards_dict.items():\n",
    "         most_common_min[guard] = Counter(minutes).most_common(1)[0]\n",
    "\n",
    "    return most_common_min"
   ]
  },
  {
   "cell_type": "markdown",
   "id": "6995c34d-af28-4607-b5c4-a4366a2951f6",
   "metadata": {},
   "source": [
    "# Parse Input"
   ]
  },
  {
   "cell_type": "code",
   "execution_count": null,
   "id": "91ea5e9a-dde8-4911-88e5-4cd5944928dc",
   "metadata": {},
   "outputs": [],
   "source": [
    "guards_dict = parse_input(input_file)\n",
    "total_asleep = create_total_asleep(guards_dict)\n",
    "most_common_min = create_most_common_min(guards_dict)"
   ]
  },
  {
   "cell_type": "markdown",
   "id": "69cd51bc-5046-42f0-aa89-c13983a427ff",
   "metadata": {
    "tags": []
   },
   "source": [
    "# Part 1\n",
    "__Strategy 1:__ Find the guard that has the most minutes asleep. What minute does that guard spend asleep the most?\n",
    "\n",
    "What is the ID of the guard you chose multiplied by the minute you chose?"
   ]
  },
  {
   "cell_type": "code",
   "execution_count": null,
   "id": "4a095cc4-c302-4dd0-adf7-64c1132e821e",
   "metadata": {},
   "outputs": [],
   "source": [
    "guard_id = max(total_asleep, key=total_asleep.get)\n",
    "minute = most_common_min[guard_id][0]\n",
    "\n",
    "guard_id * minute"
   ]
  },
  {
   "cell_type": "markdown",
   "id": "556774d5-1587-4521-90b1-cf23bb042a97",
   "metadata": {},
   "source": [
    "# Part 2\n",
    "__Strategy 2__: Of all guards, which guard is most frequently asleep on the same minute?\n",
    "\n",
    "What is the ID of the guard you chose multiplied by the minute you chose?"
   ]
  },
  {
   "cell_type": "code",
   "execution_count": null,
   "id": "79c87cff-0ce2-4c82-8b9b-be75fc03020f",
   "metadata": {},
   "outputs": [],
   "source": [
    "guard_id = max(most_common_min, key=lambda x: most_common_min.get(x)[1])\n",
    "minute = most_common_min[guard_id][0]\n",
    "\n",
    "guard_id * minute"
   ]
  }
 ],
 "metadata": {
  "kernelspec": {
   "display_name": "Python 3 (ipykernel)",
   "language": "python",
   "name": "python3"
  },
  "language_info": {
   "codemirror_mode": {
    "name": "ipython",
    "version": 3
   },
   "file_extension": ".py",
   "mimetype": "text/x-python",
   "name": "python",
   "nbconvert_exporter": "python",
   "pygments_lexer": "ipython3",
   "version": "3.9.7"
  }
 },
 "nbformat": 4,
 "nbformat_minor": 5
}
