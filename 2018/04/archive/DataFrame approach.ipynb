{
 "cells": [
  {
   "cell_type": "markdown",
   "id": "00b59056-f362-4c4a-a443-45b941cc808c",
   "metadata": {},
   "source": [
    "# Imports"
   ]
  },
  {
   "cell_type": "code",
   "execution_count": 1,
   "id": "6cb6c6de-9cc8-4edb-87ba-4d73c254d6c2",
   "metadata": {},
   "outputs": [],
   "source": [
    "import math\n",
    "import sys\n",
    "import numpy as np\n",
    "from collections import Counter, defaultdict\n",
    "from itertools import combinations, permutations\n",
    "import time\n",
    "import os\n",
    "from pathlib import Path\n",
    "import pandas as pd\n"
   ]
  },
  {
   "cell_type": "markdown",
   "id": "1e120eac-0b98-42bd-bbc1-e870d0ca9054",
   "metadata": {},
   "source": [
    "# Parse Input "
   ]
  },
  {
   "cell_type": "code",
   "execution_count": 202,
   "id": "46445d09-4753-45bc-aeb8-e6b4f3c8d94f",
   "metadata": {},
   "outputs": [],
   "source": [
    "def parse_input(raw_input):\n",
    "    with open(raw_input) as f:\n",
    "        puzzle_input = f.read().splitlines()\n",
    "        puzzle_input = sorted(puzzle_input) # Test input is sorted, actual input is not\n",
    "    guards = []\n",
    "    asleep = []\n",
    "    awake = []\n",
    "    date = []\n",
    "    \n",
    "    # Handle first line\n",
    "    curr_guard, curr_status, curr_time, curr_date = parse_line(puzzle_input[0], 0)\n",
    "    \n",
    "    for line in puzzle_input[1:]:\n",
    "        # prev_guard = curr_guard\n",
    "        curr_guard, curr_status, curr_time, curr_date = parse_line(line, curr_guard)\n",
    "        \n",
    "        if curr_status == \"awake\":\n",
    "            \n",
    "            # Assumption: Guards end their shift awake\n",
    "            # Assumption: data in order\n",
    "            if (curr_time < asleep[-1]) | (curr_guard != guards[-1]):\n",
    "\n",
    "                continue\n",
    "            # guards.append(curr_guard)\n",
    "            else:\n",
    "                awake.append(curr_time)\n",
    "            # date.append(curr_date)\n",
    "\n",
    "        else:\n",
    "            asleep.append(curr_time)\n",
    "            guards.append(curr_guard)\n",
    "            date.append(curr_date)\n",
    "    # asleep.append(59)    \n",
    "    \n",
    "    puzzle_input = pd.DataFrame({\"guard\":guards, \"asleep\":asleep, \"awake\":awake, \"date\": date})\n",
    "    \n",
    "    puzzle_input = input_df_parsing(puzzle_input)\n",
    "    return puzzle_input\n",
    "\n",
    "# Helper Functions\n",
    "def parse_line(line, curr_guard):\n",
    "    date = line[1:11]\n",
    "    hour = int(line[12:14])\n",
    "    minute = int(line[15:17])\n",
    "    time = minute if hour == 0 else minute - 60\n",
    "\n",
    "    if line[19] == \"f\":\n",
    "        status = \"asleep\"\n",
    "    else:\n",
    "        if line[19] == \"G\":\n",
    "            curr_guard = int(line[19:].split(' ')[1][1:])\n",
    "            # time = 0\n",
    "        status = \"awake\"\n",
    "    \n",
    "    return curr_guard, status, time, date"
   ]
  },
  {
   "cell_type": "code",
   "execution_count": 203,
   "id": "2467bed0-6941-456d-9f33-52beaf9449cc",
   "metadata": {},
   "outputs": [],
   "source": [
    "def input_df_parsing(df):\n",
    "    df.loc[:,\"mins_asleep\"] = df.awake - df.asleep\n",
    "    df.loc[:,\"asleep_mins\"] = df.apply(lambda x: list(range(x[\"asleep\"], x[\"awake\"])), axis=1)\n",
    "\n",
    "    df_agg = df.groupby(\"guard\").agg({\"mins_asleep\":\"sum\", \"asleep_mins\":\"sum\"}).reset_index()\n",
    "    df_agg[[\"sleepiest_min\",\"num_times\"]] = df_agg.asleep_mins.apply(lambda x: Counter(x).most_common(1)[0]).apply(pd.Series)\n",
    "\n",
    "    return df_agg"
   ]
  },
  {
   "cell_type": "code",
   "execution_count": 206,
   "id": "79a545eb-3cb2-44e6-b010-e29f66a1939a",
   "metadata": {},
   "outputs": [],
   "source": [
    "def get_sleepiest_guard(df):\n",
    "    df = df.sort_values(by=\"mins_asleep\", ascending=False)\n",
    "    return df.iloc[0].guard, df_agg.iloc[0].mins_asleep"
   ]
  },
  {
   "cell_type": "code",
   "execution_count": 167,
   "id": "36c31020-d8da-4ac2-bcd0-1fa5cda2772b",
   "metadata": {},
   "outputs": [],
   "source": [
    "def get_most_common_min(df):\n",
    "    df = df[df.guard == sleepiest_guard]\n",
    "\n",
    "    sleepiest_minute = Counter(list(df.asleep_mins.explode())).most_common(1)\n",
    "    return sleepiest_minute[0]"
   ]
  },
  {
   "cell_type": "code",
   "execution_count": 219,
   "id": "7955583d-6b08-4569-a854-48452379f097",
   "metadata": {},
   "outputs": [],
   "source": [
    "def part_one(df):\n",
    "    \n",
    "    sleepiest_guard, mins_asleep = get_sleepiest_guard(df)\n",
    "    df = df[df.guard == sleepiest_guard]\n",
    "    most_common_min = df.iloc[0].sleepiest_min\n",
    "    return sleepiest_guard * most_common_min"
   ]
  },
  {
   "cell_type": "code",
   "execution_count": 226,
   "id": "3954c74b-6b06-4c91-aab2-6e48ffd54078",
   "metadata": {},
   "outputs": [],
   "source": [
    "def part_two(df):\n",
    "    sleepiest_instance = df.sort_values(by=\"num_times\", ascending=False).iloc[0]\n",
    "    sleepiest_guard = sleepiest_instance.guard\n",
    "    most_common_min = sleepiest_instance.sleepiest_min\n",
    "    return sleepiest_guard * most_common_min"
   ]
  },
  {
   "cell_type": "markdown",
   "id": "281d1036-d467-4f23-bc52-a8a2b2f24660",
   "metadata": {},
   "source": [
    "# Do the thing"
   ]
  },
  {
   "cell_type": "code",
   "execution_count": 231,
   "id": "b7f31e4a-234f-461c-9398-447de00a8f94",
   "metadata": {},
   "outputs": [],
   "source": [
    "path = os.getcwd()\n",
    "\n",
    "# Assumption: my test and final input files also follow these naming conventions\n",
    "input_file = Path(path)/\"input.txt\""
   ]
  },
  {
   "cell_type": "code",
   "execution_count": 232,
   "id": "f591f1d3-4214-4891-869f-f485d0efb7f1",
   "metadata": {},
   "outputs": [],
   "source": [
    "df = parse_input(input_file)"
   ]
  },
  {
   "cell_type": "code",
   "execution_count": 233,
   "id": "35866f18-fc2b-4f00-b375-062bc4852dec",
   "metadata": {},
   "outputs": [
    {
     "data": {
      "text/plain": [
       "38813"
      ]
     },
     "execution_count": 233,
     "metadata": {},
     "output_type": "execute_result"
    }
   ],
   "source": [
    "part_one(df)"
   ]
  },
  {
   "cell_type": "code",
   "execution_count": 234,
   "id": "20a1922c-8958-4fb1-a6a6-6b26d2ba62c0",
   "metadata": {},
   "outputs": [
    {
     "data": {
      "text/plain": [
       "141071"
      ]
     },
     "execution_count": 234,
     "metadata": {},
     "output_type": "execute_result"
    }
   ],
   "source": [
    "part_two(df)"
   ]
  }
 ],
 "metadata": {
  "kernelspec": {
   "display_name": "Python 3 (ipykernel)",
   "language": "python",
   "name": "python3"
  },
  "language_info": {
   "codemirror_mode": {
    "name": "ipython",
    "version": 3
   },
   "file_extension": ".py",
   "mimetype": "text/x-python",
   "name": "python",
   "nbconvert_exporter": "python",
   "pygments_lexer": "ipython3",
   "version": "3.9.7"
  }
 },
 "nbformat": 4,
 "nbformat_minor": 5
}
