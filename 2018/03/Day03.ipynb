{
 "cells": [
  {
   "cell_type": "markdown",
   "id": "00b59056-f362-4c4a-a443-45b941cc808c",
   "metadata": {},
   "source": [
    "# Imports"
   ]
  },
  {
   "cell_type": "code",
   "execution_count": 59,
   "id": "6cb6c6de-9cc8-4edb-87ba-4d73c254d6c2",
   "metadata": {},
   "outputs": [],
   "source": [
    "import math\n",
    "import sys\n",
    "import numpy as np\n",
    "from collections import Counter, defaultdict\n",
    "from itertools import combinations, permutations\n",
    "from itertools import takewhile, dropwhile\n",
    "\n",
    "import time\n",
    "import os\n",
    "from pathlib import Path\n",
    "import pandas as pd\n",
    "from collections import defaultdict\n",
    "from Levenshtein import distance as levenshtein_distance"
   ]
  },
  {
   "cell_type": "markdown",
   "id": "04bfa0fc-aad8-45bf-b275-849b856cec14",
   "metadata": {
    "tags": []
   },
   "source": [
    "# Find Input"
   ]
  },
  {
   "cell_type": "code",
   "execution_count": 60,
   "id": "f2c019ad-6961-48f6-9126-62e385eb0f4e",
   "metadata": {
    "tags": []
   },
   "outputs": [],
   "source": [
    "path = os.getcwd()\n",
    "\n",
    "input_file = Path(path)/\"input.txt\""
   ]
  },
  {
   "cell_type": "markdown",
   "id": "1e120eac-0b98-42bd-bbc1-e870d0ca9054",
   "metadata": {
    "tags": []
   },
   "source": [
    "# Helper Funcs"
   ]
  },
  {
   "cell_type": "code",
   "execution_count": 61,
   "id": "86052eb8-dcb7-4c41-a439-43c4724f349c",
   "metadata": {},
   "outputs": [],
   "source": [
    "def read_input(raw_input):\n",
    "    with open(raw_input) as f:\n",
    "        puzzle_input = f.read().splitlines()\n",
    "    return puzzle_input"
   ]
  },
  {
   "cell_type": "code",
   "execution_count": 91,
   "id": "84c2a807",
   "metadata": {},
   "outputs": [],
   "source": [
    "def parse_line(line):\n",
    "    i, _, start, size = line.split(\" \")\n",
    "    \n",
    "    x_start, y_start = [int(x) for x in start[:-1].split(\",\")]\n",
    "    x_len, y_len = [int(x) for x in size.split(\"x\")]\n",
    "    \n",
    "    points = []\n",
    "    \n",
    "    for x in range(x_start, x_start+x_len):\n",
    "        for y in range(y_start, y_start+y_len):\n",
    "            points.append((x,y))\n",
    "\n",
    "    return points\n",
    "\n",
    "def parse_input(puzzle_input):\n",
    "    \n",
    "    all_points = Counter()\n",
    "    singles = []\n",
    "    \n",
    "    for line in puzzle_input:\n",
    "        points = parse_line(line)\n",
    "\n",
    "        all_points += Counter(points)\n",
    "   \n",
    "    \n",
    "    return all_points"
   ]
  },
  {
   "cell_type": "markdown",
   "id": "90527e97",
   "metadata": {},
   "source": [
    "# Parse Input"
   ]
  },
  {
   "cell_type": "code",
   "execution_count": 92,
   "id": "9757791c",
   "metadata": {},
   "outputs": [],
   "source": [
    "puzzle_input = read_input(input_file)\n",
    "all_points = parse_input(puzzle_input)"
   ]
  },
  {
   "cell_type": "markdown",
   "id": "69cd51bc-5046-42f0-aa89-c13983a427ff",
   "metadata": {
    "tags": []
   },
   "source": [
    "# Part 1\n",
    "If the Elves all proceed with their own plans, none of them will have enough fabric. How many square inches of fabric are within two or more claims?"
   ]
  },
  {
   "cell_type": "code",
   "execution_count": 93,
   "id": "4a095cc4-c302-4dd0-adf7-64c1132e821e",
   "metadata": {},
   "outputs": [
    {
     "data": {
      "text/plain": [
       "111630"
      ]
     },
     "execution_count": 93,
     "metadata": {},
     "output_type": "execute_result"
    }
   ],
   "source": [
    "keep = dict(takewhile(lambda i: i[1] > 1, all_points.most_common()))\n",
    "len(keep)"
   ]
  },
  {
   "cell_type": "markdown",
   "id": "556774d5-1587-4521-90b1-cf23bb042a97",
   "metadata": {},
   "source": [
    "# Part 2\n",
    "What is the ID of the only claim that doesn't overlap?"
   ]
  },
  {
   "cell_type": "code",
   "execution_count": 104,
   "id": "79c87cff-0ce2-4c82-8b9b-be75fc03020f",
   "metadata": {},
   "outputs": [],
   "source": [
    "singles = dict(dropwhile(lambda i: i[1] > 1, all_points.most_common()))"
   ]
  },
  {
   "cell_type": "code",
   "execution_count": 110,
   "id": "2fa78c01",
   "metadata": {},
   "outputs": [
    {
     "name": "stdout",
     "output_type": "stream",
     "text": [
      "724\n"
     ]
    }
   ],
   "source": [
    "for line in puzzle_input:\n",
    "    points = parse_line(line)\n",
    "    \n",
    "    if all([(x in singles) for x in points]):\n",
    "        print(line.split(\" \")[0][1:])"
   ]
  }
 ],
 "metadata": {
  "kernelspec": {
   "display_name": "Python 3 (ipykernel)",
   "language": "python",
   "name": "python3"
  },
  "language_info": {
   "codemirror_mode": {
    "name": "ipython",
    "version": 3
   },
   "file_extension": ".py",
   "mimetype": "text/x-python",
   "name": "python",
   "nbconvert_exporter": "python",
   "pygments_lexer": "ipython3",
   "version": "3.9.5"
  }
 },
 "nbformat": 4,
 "nbformat_minor": 5
}
