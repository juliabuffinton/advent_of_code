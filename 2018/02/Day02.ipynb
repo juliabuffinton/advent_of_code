{
 "cells": [
  {
   "cell_type": "markdown",
   "id": "00b59056-f362-4c4a-a443-45b941cc808c",
   "metadata": {},
   "source": [
    "# Imports"
   ]
  },
  {
   "cell_type": "code",
   "execution_count": 1,
   "id": "6cb6c6de-9cc8-4edb-87ba-4d73c254d6c2",
   "metadata": {},
   "outputs": [],
   "source": [
    "import math\n",
    "import sys\n",
    "import numpy as np\n",
    "from collections import Counter, defaultdict\n",
    "from itertools import combinations, permutations\n",
    "import time\n",
    "import os\n",
    "from pathlib import Path\n",
    "import pandas as pd\n",
    "from collections import defaultdict\n",
    "from Levenshtein import distance as levenshtein_distance"
   ]
  },
  {
   "cell_type": "markdown",
   "id": "04bfa0fc-aad8-45bf-b275-849b856cec14",
   "metadata": {
    "tags": []
   },
   "source": [
    "# Find Input"
   ]
  },
  {
   "cell_type": "code",
   "execution_count": 2,
   "id": "f2c019ad-6961-48f6-9126-62e385eb0f4e",
   "metadata": {
    "tags": []
   },
   "outputs": [],
   "source": [
    "path = os.getcwd()\n",
    "\n",
    "input_file = Path(path)/\"input.txt\""
   ]
  },
  {
   "cell_type": "markdown",
   "id": "1e120eac-0b98-42bd-bbc1-e870d0ca9054",
   "metadata": {
    "tags": []
   },
   "source": [
    "# Helper Funcs"
   ]
  },
  {
   "cell_type": "code",
   "execution_count": 3,
   "id": "86052eb8-dcb7-4c41-a439-43c4724f349c",
   "metadata": {},
   "outputs": [],
   "source": [
    "def read_input(raw_input):\n",
    "    with open(raw_input) as f:\n",
    "        puzzle_input = f.read().splitlines()\n",
    "    return puzzle_input"
   ]
  },
  {
   "cell_type": "code",
   "execution_count": 4,
   "id": "a919afe9-1ef2-4d79-90ed-6b2857796660",
   "metadata": {},
   "outputs": [],
   "source": [
    "def count_letters(puzzle_input):\n",
    "    \n",
    "    threes = 0\n",
    "    twos = 0\n",
    "    \n",
    "    for box in puzzle_input:\n",
    "        letter_counts = Counter(box)\n",
    "        counts = letter_counts.values()\n",
    "        if 3 in counts:\n",
    "            threes += 1\n",
    "        if 2 in counts:\n",
    "            twos += 1\n",
    "            \n",
    "    return twos, threes"
   ]
  },
  {
   "cell_type": "code",
   "execution_count": 45,
   "id": "07dd2434",
   "metadata": {},
   "outputs": [],
   "source": [
    "def get_similar_boxes(puzzle_input):\n",
    "    \n",
    "    sorted_input = sorted(puzzle_input)\n",
    "    \n",
    "    for i in range(0, len(sorted_input)-1):\n",
    "        box1 = sorted_input[i]\n",
    "        box2 = sorted_input[i+1]\n",
    "        \n",
    "        \n",
    "        distance = levenshtein_distance(box1, box2)\n",
    "        if distance == 1:\n",
    "            return \"\".join([x for x in box1 if x in box2])"
   ]
  },
  {
   "cell_type": "markdown",
   "id": "8a9d162c-cd48-49d7-8e83-56c4b87f48eb",
   "metadata": {
    "tags": []
   },
   "source": [
    "# Helper Funcs"
   ]
  },
  {
   "cell_type": "markdown",
   "id": "90527e97",
   "metadata": {},
   "source": [
    "# Parse Input"
   ]
  },
  {
   "cell_type": "code",
   "execution_count": 46,
   "id": "9757791c",
   "metadata": {},
   "outputs": [],
   "source": [
    "puzzle_input = read_input(input_file)"
   ]
  },
  {
   "cell_type": "markdown",
   "id": "69cd51bc-5046-42f0-aa89-c13983a427ff",
   "metadata": {
    "tags": []
   },
   "source": [
    "# Part 1\n",
    "Of these box IDs, four of them contain a letter which appears exactly twice, and three of them contain a letter which appears exactly three times. Multiplying these together produces a checksum of 4 * 3 = 12.\n",
    "\n",
    "__What is the checksum__ for your list of box IDs?"
   ]
  },
  {
   "cell_type": "code",
   "execution_count": 47,
   "id": "4a095cc4-c302-4dd0-adf7-64c1132e821e",
   "metadata": {},
   "outputs": [
    {
     "data": {
      "text/plain": [
       "8610"
      ]
     },
     "execution_count": 47,
     "metadata": {},
     "output_type": "execute_result"
    }
   ],
   "source": [
    "twos, threes = count_letters(puzzle_input)\n",
    "twos * threes"
   ]
  },
  {
   "cell_type": "markdown",
   "id": "556774d5-1587-4521-90b1-cf23bb042a97",
   "metadata": {},
   "source": [
    "# Part 2\n",
    "__Strategy 2__: Of all guards, which guard is most frequently asleep on the same minute?\n",
    "\n",
    "What is the ID of the guard you chose multiplied by the minute you chose?"
   ]
  },
  {
   "cell_type": "code",
   "execution_count": 48,
   "id": "79c87cff-0ce2-4c82-8b9b-be75fc03020f",
   "metadata": {},
   "outputs": [
    {
     "data": {
      "text/plain": [
       "'iosnxmfkpabcjpdywvrtahluy'"
      ]
     },
     "execution_count": 48,
     "metadata": {},
     "output_type": "execute_result"
    }
   ],
   "source": [
    "get_similar_boxes(puzzle_input)"
   ]
  },
  {
   "cell_type": "code",
   "execution_count": null,
   "id": "758c03fd",
   "metadata": {},
   "outputs": [],
   "source": []
  }
 ],
 "metadata": {
  "kernelspec": {
   "display_name": "Python 3 (ipykernel)",
   "language": "python",
   "name": "python3"
  },
  "language_info": {
   "codemirror_mode": {
    "name": "ipython",
    "version": 3
   },
   "file_extension": ".py",
   "mimetype": "text/x-python",
   "name": "python",
   "nbconvert_exporter": "python",
   "pygments_lexer": "ipython3",
   "version": "3.9.5"
  }
 },
 "nbformat": 4,
 "nbformat_minor": 5
}
