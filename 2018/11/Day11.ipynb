{
 "cells": [
  {
   "cell_type": "markdown",
   "id": "322ff10f",
   "metadata": {},
   "source": [
    "# Imports"
   ]
  },
  {
   "cell_type": "code",
   "execution_count": 1,
   "id": "5da99799",
   "metadata": {},
   "outputs": [],
   "source": [
    "import numpy as np\n",
    "from scipy import signal\n",
    "import os\n",
    "from pathlib import Path"
   ]
  },
  {
   "cell_type": "markdown",
   "id": "6fad2f3e",
   "metadata": {},
   "source": [
    "# Find Input"
   ]
  },
  {
   "cell_type": "code",
   "execution_count": 2,
   "id": "177e339d",
   "metadata": {},
   "outputs": [],
   "source": [
    "path = os.getcwd()\n",
    "\n",
    "input_file = Path(path)/\"input.txt\""
   ]
  },
  {
   "cell_type": "markdown",
   "id": "2a678536",
   "metadata": {},
   "source": [
    "# Helper Funcs"
   ]
  },
  {
   "cell_type": "code",
   "execution_count": 11,
   "id": "bde8a573",
   "metadata": {},
   "outputs": [],
   "source": [
    "def create_grid(serial_num):\n",
    "    \n",
    "    grid = np.zeros((300,300))\n",
    "    \n",
    "    for x_coord in range(1, 301):\n",
    "        for y_coord in range(1,301):\n",
    "            \n",
    "            # Find the fuel cell's rack ID, which is its X coordinate plus 10.\n",
    "            rack_id = x_coord + 10\n",
    "            \n",
    "            # Begin with a power level of the rack ID times the Y coordinate.\n",
    "            power_level = rack_id * y_coord\n",
    "            \n",
    "            # Increase the power level by the value of the grid serial number (your puzzle input).\n",
    "            power_level += serial_num\n",
    "            \n",
    "            # Set the power level to itself multiplied by the rack ID.\n",
    "            power_level = power_level * rack_id\n",
    "            \n",
    "            # Keep only the hundreds digit of the power level\n",
    "            power_level = int(power_level % 1000 / 100)\n",
    "            \n",
    "            # Subtract 5 from the power level.\n",
    "            power_level -= 5\n",
    "            \n",
    "            grid[x_coord-1,y_coord-1] = power_level\n",
    "    \n",
    "    return grid"
   ]
  },
  {
   "cell_type": "code",
   "execution_count": 4,
   "id": "9bbf7e42",
   "metadata": {},
   "outputs": [],
   "source": [
    "def find_max_square(grid,size=3):\n",
    "    convolved_grid =  signal.convolve2d(grid, np.ones((size,size)), mode=\"valid\")\n",
    "    \n",
    "    one_d_loc = convolved_grid.argmax()\n",
    "    max_value = convolved_grid.max()\n",
    "    \n",
    "    x_coord = int(one_d_loc / convolved_grid.shape[0]) + 1 # because 1-indexed\n",
    "    y_coord = one_d_loc % convolved_grid.shape[1] + 1 # because 1-indexed\n",
    "    \n",
    "    return max_value,x_coord,y_coord,size"
   ]
  },
  {
   "cell_type": "code",
   "execution_count": 5,
   "id": "b39a7481",
   "metadata": {},
   "outputs": [],
   "source": [
    "def track_biggest(grid):\n",
    "    \n",
    "    max_value = -1000\n",
    "    loc_and_size = (0,0,0)\n",
    "    num_fails = 0\n",
    "    size = 1\n",
    "    \n",
    "    while num_fails < 10: # arbitrary\n",
    "        \n",
    "        results = find_max_square(grid,size)\n",
    "        if results[0] > max_value:\n",
    "            max_value = results[0]\n",
    "            loc_and_size = results[1:]\n",
    "        else:\n",
    "            num_fails += 1\n",
    "        size += 1\n",
    "            \n",
    "    return loc_and_size"
   ]
  },
  {
   "cell_type": "code",
   "execution_count": 6,
   "id": "4a7ff81f",
   "metadata": {},
   "outputs": [],
   "source": [
    "def check_results(x,y,size):\n",
    "    return grid[x-1:x-1+size,y-1:y-1+size]"
   ]
  },
  {
   "cell_type": "markdown",
   "id": "1acc72bb",
   "metadata": {},
   "source": [
    "# Parse Input"
   ]
  },
  {
   "cell_type": "code",
   "execution_count": 7,
   "id": "717b968e",
   "metadata": {},
   "outputs": [],
   "source": [
    "with open(input_file) as f:\n",
    "    puzzle_input = int(f.read().splitlines()[0])"
   ]
  },
  {
   "cell_type": "code",
   "execution_count": 8,
   "id": "f28d1052",
   "metadata": {},
   "outputs": [],
   "source": [
    "grid = create_grid(puzzle_input)"
   ]
  },
  {
   "cell_type": "markdown",
   "id": "dc59bd7b",
   "metadata": {},
   "source": [
    "# Part 1"
   ]
  },
  {
   "cell_type": "code",
   "execution_count": 9,
   "id": "934c86d4",
   "metadata": {
    "scrolled": true
   },
   "outputs": [
    {
     "data": {
      "text/plain": [
       "(243, 68)"
      ]
     },
     "execution_count": 9,
     "metadata": {},
     "output_type": "execute_result"
    }
   ],
   "source": [
    "find_max_square(grid)[1:3]"
   ]
  },
  {
   "cell_type": "markdown",
   "id": "41d68a9e",
   "metadata": {},
   "source": [
    "# Part 2"
   ]
  },
  {
   "cell_type": "code",
   "execution_count": 10,
   "id": "b6e06593",
   "metadata": {
    "scrolled": false
   },
   "outputs": [
    {
     "data": {
      "text/plain": [
       "(236, 252, 12)"
      ]
     },
     "execution_count": 10,
     "metadata": {},
     "output_type": "execute_result"
    }
   ],
   "source": [
    "track_biggest(grid)"
   ]
  }
 ],
 "metadata": {
  "kernelspec": {
   "display_name": "Python 3 (ipykernel)",
   "language": "python",
   "name": "python3"
  },
  "language_info": {
   "codemirror_mode": {
    "name": "ipython",
    "version": 3
   },
   "file_extension": ".py",
   "mimetype": "text/x-python",
   "name": "python",
   "nbconvert_exporter": "python",
   "pygments_lexer": "ipython3",
   "version": "3.9.5"
  }
 },
 "nbformat": 4,
 "nbformat_minor": 5
}
