{
 "cells": [
  {
   "cell_type": "code",
   "execution_count": 1,
   "metadata": {},
   "outputs": [],
   "source": [
    "import pandas as pd\n",
    "from collections import Counter"
   ]
  },
  {
   "cell_type": "markdown",
   "metadata": {},
   "source": [
    "# Part 1"
   ]
  },
  {
   "cell_type": "markdown",
   "metadata": {},
   "source": [
    "--- Day 5: Hydrothermal Venture ---\n",
    "\n",
    "You come across a field of hydrothermal vents on the ocean floor! These vents constantly produce large, opaque clouds, so it would be best to avoid them if possible.\n",
    "\n",
    "They tend to form in lines; the submarine helpfully produces a list of nearby lines of vents (your puzzle input) for you to review. For example:\n",
    "```\n",
    "0,9 -> 5,9\n",
    "8,0 -> 0,8\n",
    "9,4 -> 3,4\n",
    "2,2 -> 2,1\n",
    "7,0 -> 7,4\n",
    "6,4 -> 2,0\n",
    "0,9 -> 2,9\n",
    "3,4 -> 1,4\n",
    "0,0 -> 8,8\n",
    "5,5 -> 8,2\n",
    "```\n",
    "Each line of vents is given as a line segment in the format x1,y1 -> x2,y2 where x1,y1 are the coordinates of one end the line segment and x2,y2 are the coordinates of the other end. These line segments include the points at both ends. In other words:\n",
    "\n",
    "An entry like 1,1 -> 1,3 covers points 1,1, 1,2, and 1,3.\n",
    "An entry like 9,7 -> 7,7 covers points 9,7, 8,7, and 7,7.\n",
    "For now, only consider horizontal and vertical lines: lines where either x1 = x2 or y1 = y2.\n",
    "\n",
    "So, the horizontal and vertical lines from the above list would produce the following diagram:\n",
    "```\n",
    ".......1..\n",
    "..1....1..\n",
    "..1....1..\n",
    ".......1..\n",
    ".112111211\n",
    "..........\n",
    "..........\n",
    "..........\n",
    "..........\n",
    "222111....\n",
    "```\n",
    "In this diagram, the top left corner is 0,0 and the bottom right corner is 9,9. Each position is shown as the number of lines which cover that point or . if no line covers that point. The top-left pair of 1s, for example, comes from 2,2 -> 2,1; the very bottom row is formed by the overlapping lines 0,9 -> 5,9 and 0,9 -> 2,9.\n",
    "\n",
    "To avoid the most dangerous areas, you need to determine the number of points where at least two lines overlap. In the above example, this is anywhere in the diagram with a 2 or larger - a total of 5 points.\n",
    "\n",
    "Consider only horizontal and vertical lines. At how many points do at least two lines overlap?"
   ]
  },
  {
   "cell_type": "code",
   "execution_count": 18,
   "metadata": {},
   "outputs": [],
   "source": [
    "df = pd.read_csv('dec5_input.csv')"
   ]
  },
  {
   "cell_type": "code",
   "execution_count": 6,
   "metadata": {
    "scrolled": true
   },
   "outputs": [
    {
     "data": {
      "text/html": [
       "<div>\n",
       "<style scoped>\n",
       "    .dataframe tbody tr th:only-of-type {\n",
       "        vertical-align: middle;\n",
       "    }\n",
       "\n",
       "    .dataframe tbody tr th {\n",
       "        vertical-align: top;\n",
       "    }\n",
       "\n",
       "    .dataframe thead th {\n",
       "        text-align: right;\n",
       "    }\n",
       "</style>\n",
       "<table border=\"1\" class=\"dataframe\">\n",
       "  <thead>\n",
       "    <tr style=\"text-align: right;\">\n",
       "      <th></th>\n",
       "      <th>point1</th>\n",
       "      <th>point2</th>\n",
       "    </tr>\n",
       "  </thead>\n",
       "  <tbody>\n",
       "    <tr>\n",
       "      <th>0</th>\n",
       "      <td>777,778</td>\n",
       "      <td>777,676</td>\n",
       "    </tr>\n",
       "    <tr>\n",
       "      <th>1</th>\n",
       "      <td>500,510</td>\n",
       "      <td>378,510</td>\n",
       "    </tr>\n",
       "    <tr>\n",
       "      <th>2</th>\n",
       "      <td>441,657</td>\n",
       "      <td>441,638</td>\n",
       "    </tr>\n",
       "    <tr>\n",
       "      <th>3</th>\n",
       "      <td>724,480</td>\n",
       "      <td>724,778</td>\n",
       "    </tr>\n",
       "    <tr>\n",
       "      <th>4</th>\n",
       "      <td>702,85</td>\n",
       "      <td>44,85</td>\n",
       "    </tr>\n",
       "  </tbody>\n",
       "</table>\n",
       "</div>"
      ],
      "text/plain": [
       "    point1   point2\n",
       "0  777,778  777,676\n",
       "1  500,510  378,510\n",
       "2  441,657  441,638\n",
       "3  724,480  724,778\n",
       "4   702,85    44,85"
      ]
     },
     "execution_count": 6,
     "metadata": {},
     "output_type": "execute_result"
    }
   ],
   "source": [
    "df.head()"
   ]
  },
  {
   "cell_type": "code",
   "execution_count": 13,
   "metadata": {},
   "outputs": [],
   "source": [
    "def preprocess(coords):\n",
    "    return tuple([int(x) for x in coords.split(\",\")])"
   ]
  },
  {
   "cell_type": "code",
   "execution_count": 19,
   "metadata": {},
   "outputs": [],
   "source": [
    "df['point1'] = df.point1.apply(preprocess)\n",
    "df['point2'] = df.point2.apply(preprocess)"
   ]
  },
  {
   "cell_type": "code",
   "execution_count": 66,
   "metadata": {},
   "outputs": [],
   "source": [
    "df['points'] = df[['point1', 'point2']].apply(tuple, axis=1)"
   ]
  },
  {
   "cell_type": "code",
   "execution_count": 122,
   "metadata": {},
   "outputs": [],
   "source": [
    "def generate_points_2(points, consider_diag=False):\n",
    "    \n",
    "    # unpack\n",
    "    point1, point2 = points\n",
    "    \n",
    "    x1, y1 = point1\n",
    "    x2, y2 = point2\n",
    "    \n",
    "    # Figure out steps\n",
    "    x_step = 1\n",
    "    y_step = 1\n",
    "          \n",
    "    if y1 > y2:\n",
    "        y_step = -1\n",
    "        \n",
    "    if x1 > x2:\n",
    "        x_step = -1\n",
    "    \n",
    "    points = []\n",
    "    \n",
    "    x_range = range(x1, x2+x_step, x_step)\n",
    "    y_range = range(y1, y2+y_step, y_step)\n",
    "    \n",
    "    # Vertical line\n",
    "    if x1 == x2:\n",
    "        x_range = [x1] * len(y_range)\n",
    "    \n",
    "    # Horizontal line\n",
    "    elif y1 == y2:            \n",
    "        y_range = [y1] * len(x_range)\n",
    "\n",
    "    # nothing more needs to be done for diag points\n",
    "    points = points + list(zip(x_range,y_range))\n",
    "           \n",
    "    return points"
   ]
  },
  {
   "cell_type": "code",
   "execution_count": 124,
   "metadata": {},
   "outputs": [],
   "source": [
    "df['all_points'] = df.points.apply(lambda x: generate_points_2(x, False))\n",
    "df.head()"
   ]
  },
  {
   "cell_type": "code",
   "execution_count": 126,
   "metadata": {
    "scrolled": true
   },
   "outputs": [
    {
     "data": {
      "text/plain": [
       "0      None\n",
       "1      None\n",
       "2      None\n",
       "3      None\n",
       "4      None\n",
       "       ... \n",
       "495    None\n",
       "496    None\n",
       "497    None\n",
       "498    None\n",
       "499    None\n",
       "Name: points, Length: 500, dtype: object"
      ]
     },
     "execution_count": 126,
     "metadata": {},
     "output_type": "execute_result"
    }
   ],
   "source": [
    "point_counts = Counter()\n",
    "df.all_points.apply(lambda x: point_counts.update(x))"
   ]
  },
  {
   "cell_type": "code",
   "execution_count": 127,
   "metadata": {},
   "outputs": [
    {
     "data": {
      "text/plain": [
       "6283"
      ]
     },
     "execution_count": 127,
     "metadata": {},
     "output_type": "execute_result"
    }
   ],
   "source": [
    "# ANSWER\n",
    "len({ x: count for x, count in point_counts.items() if count >= 2 })"
   ]
  },
  {
   "cell_type": "markdown",
   "metadata": {},
   "source": [
    "# Part 2"
   ]
  },
  {
   "cell_type": "markdown",
   "metadata": {},
   "source": [
    "--- Part Two ---\n",
    "Unfortunately, considering only horizontal and vertical lines doesn't give you the full picture; you need to also consider diagonal lines.\n",
    "\n",
    "Because of the limits of the hydrothermal vent mapping system, the lines in your list will only ever be horizontal, vertical, or a diagonal line at exactly 45 degrees. In other words:\n",
    "\n",
    "An entry like 1,1 -> 3,3 covers points 1,1, 2,2, and 3,3.\n",
    "An entry like 9,7 -> 7,9 covers points 9,7, 8,8, and 7,9.\n",
    "Considering all lines from the above example would now produce the following diagram:\n",
    "\n",
    "```\n",
    "1.1....11.\n",
    ".111...2..\n",
    "..2.1.111.\n",
    "...1.2.2..\n",
    ".112313211\n",
    "...1.2....\n",
    "..1...1...\n",
    ".1.....1..\n",
    "1.......1.\n",
    "222111....\n",
    "```\n",
    "\n",
    "You still need to determine the number of points where at least two lines overlap. In the above example, this is still anywhere in the diagram with a 2 or larger - now a total of 12 points.\n",
    "\n",
    "Consider all of the lines. At how many points do at least two lines overlap?"
   ]
  },
  {
   "cell_type": "code",
   "execution_count": 128,
   "metadata": {},
   "outputs": [],
   "source": [
    "df['all_points_w_diag'] = df.points.apply(lambda x: generate_points(x, True))"
   ]
  },
  {
   "cell_type": "code",
   "execution_count": 129,
   "metadata": {},
   "outputs": [
    {
     "data": {
      "text/html": [
       "<div>\n",
       "<style scoped>\n",
       "    .dataframe tbody tr th:only-of-type {\n",
       "        vertical-align: middle;\n",
       "    }\n",
       "\n",
       "    .dataframe tbody tr th {\n",
       "        vertical-align: top;\n",
       "    }\n",
       "\n",
       "    .dataframe thead th {\n",
       "        text-align: right;\n",
       "    }\n",
       "</style>\n",
       "<table border=\"1\" class=\"dataframe\">\n",
       "  <thead>\n",
       "    <tr style=\"text-align: right;\">\n",
       "      <th></th>\n",
       "      <th>point1</th>\n",
       "      <th>point2</th>\n",
       "      <th>points</th>\n",
       "      <th>all_points</th>\n",
       "      <th>all_points_w_diag</th>\n",
       "    </tr>\n",
       "  </thead>\n",
       "  <tbody>\n",
       "    <tr>\n",
       "      <th>495</th>\n",
       "      <td>(835, 304)</td>\n",
       "      <td>(964, 304)</td>\n",
       "      <td>((835, 304), (964, 304))</td>\n",
       "      <td>[(835, 304), (836, 304), (837, 304), (838, 304...</td>\n",
       "      <td>[(835, 304), (836, 304), (837, 304), (838, 304...</td>\n",
       "    </tr>\n",
       "    <tr>\n",
       "      <th>496</th>\n",
       "      <td>(480, 249)</td>\n",
       "      <td>(74, 655)</td>\n",
       "      <td>((480, 249), (74, 655))</td>\n",
       "      <td>[(480, 249), (479, 250), (478, 251), (477, 252...</td>\n",
       "      <td>[(480, 249), (479, 250), (478, 251), (477, 252...</td>\n",
       "    </tr>\n",
       "    <tr>\n",
       "      <th>497</th>\n",
       "      <td>(742, 883)</td>\n",
       "      <td>(213, 883)</td>\n",
       "      <td>((742, 883), (213, 883))</td>\n",
       "      <td>[(742, 883), (741, 883), (740, 883), (739, 883...</td>\n",
       "      <td>[(742, 883), (741, 883), (740, 883), (739, 883...</td>\n",
       "    </tr>\n",
       "    <tr>\n",
       "      <th>498</th>\n",
       "      <td>(943, 41)</td>\n",
       "      <td>(378, 41)</td>\n",
       "      <td>((943, 41), (378, 41))</td>\n",
       "      <td>[(943, 41), (942, 41), (941, 41), (940, 41), (...</td>\n",
       "      <td>[(943, 41), (942, 41), (941, 41), (940, 41), (...</td>\n",
       "    </tr>\n",
       "    <tr>\n",
       "      <th>499</th>\n",
       "      <td>(869, 924)</td>\n",
       "      <td>(869, 563)</td>\n",
       "      <td>((869, 924), (869, 563))</td>\n",
       "      <td>[(869, 924), (869, 923), (869, 922), (869, 921...</td>\n",
       "      <td>[(869, 924), (869, 923), (869, 922), (869, 921...</td>\n",
       "    </tr>\n",
       "  </tbody>\n",
       "</table>\n",
       "</div>"
      ],
      "text/plain": [
       "         point1      point2                    points  \\\n",
       "495  (835, 304)  (964, 304)  ((835, 304), (964, 304))   \n",
       "496  (480, 249)   (74, 655)   ((480, 249), (74, 655))   \n",
       "497  (742, 883)  (213, 883)  ((742, 883), (213, 883))   \n",
       "498   (943, 41)   (378, 41)    ((943, 41), (378, 41))   \n",
       "499  (869, 924)  (869, 563)  ((869, 924), (869, 563))   \n",
       "\n",
       "                                            all_points  \\\n",
       "495  [(835, 304), (836, 304), (837, 304), (838, 304...   \n",
       "496  [(480, 249), (479, 250), (478, 251), (477, 252...   \n",
       "497  [(742, 883), (741, 883), (740, 883), (739, 883...   \n",
       "498  [(943, 41), (942, 41), (941, 41), (940, 41), (...   \n",
       "499  [(869, 924), (869, 923), (869, 922), (869, 921...   \n",
       "\n",
       "                                     all_points_w_diag  \n",
       "495  [(835, 304), (836, 304), (837, 304), (838, 304...  \n",
       "496  [(480, 249), (479, 250), (478, 251), (477, 252...  \n",
       "497  [(742, 883), (741, 883), (740, 883), (739, 883...  \n",
       "498  [(943, 41), (942, 41), (941, 41), (940, 41), (...  \n",
       "499  [(869, 924), (869, 923), (869, 922), (869, 921...  "
      ]
     },
     "execution_count": 129,
     "metadata": {},
     "output_type": "execute_result"
    }
   ],
   "source": [
    "df.tail()"
   ]
  },
  {
   "cell_type": "code",
   "execution_count": 130,
   "metadata": {},
   "outputs": [
    {
     "data": {
      "text/plain": [
       "0      None\n",
       "1      None\n",
       "2      None\n",
       "3      None\n",
       "4      None\n",
       "       ... \n",
       "495    None\n",
       "496    None\n",
       "497    None\n",
       "498    None\n",
       "499    None\n",
       "Name: all_points_w_diag, Length: 500, dtype: object"
      ]
     },
     "execution_count": 130,
     "metadata": {},
     "output_type": "execute_result"
    }
   ],
   "source": [
    "point_counts_w_diag = Counter()\n",
    "df.all_points_w_diag.apply(lambda x: point_counts_w_diag.update(x))"
   ]
  },
  {
   "cell_type": "code",
   "execution_count": 131,
   "metadata": {},
   "outputs": [
    {
     "data": {
      "text/plain": [
       "18864"
      ]
     },
     "execution_count": 131,
     "metadata": {},
     "output_type": "execute_result"
    }
   ],
   "source": [
    "# ANSWER\n",
    "len({ x: count for x, count in point_counts_w_diag.items() if count >= 2 })"
   ]
  }
 ],
 "metadata": {
  "kernelspec": {
   "display_name": "Python 3",
   "language": "python",
   "name": "python3"
  },
  "language_info": {
   "codemirror_mode": {
    "name": "ipython",
    "version": 3
   },
   "file_extension": ".py",
   "mimetype": "text/x-python",
   "name": "python",
   "nbconvert_exporter": "python",
   "pygments_lexer": "ipython3",
   "version": "3.7.3"
  }
 },
 "nbformat": 4,
 "nbformat_minor": 4
}
