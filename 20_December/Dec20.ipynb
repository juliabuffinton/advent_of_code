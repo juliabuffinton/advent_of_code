{
 "cells": [
  {
   "cell_type": "markdown",
   "id": "e1822de2",
   "metadata": {},
   "source": [
    "# Part 1"
   ]
  },
  {
   "cell_type": "code",
   "execution_count": 1,
   "id": "6dc34182",
   "metadata": {},
   "outputs": [],
   "source": [
    "import numpy as np\n",
    "import time"
   ]
  },
  {
   "cell_type": "code",
   "execution_count": 2,
   "id": "d3f92f4e",
   "metadata": {},
   "outputs": [],
   "source": [
    "def get_input(puzzle_input):\n",
    "    with open(puzzle_input) as f:\n",
    "        puzzle_input = f.read().splitlines()\n",
    "        \n",
    "    image_enhancement_algo = puzzle_input[0]\n",
    "    image_input = np.asarray([[x for x in list(x)] for x in puzzle_input[2:]])\n",
    "    \n",
    "    return image_enhancement_algo, image_input"
   ]
  },
  {
   "cell_type": "code",
   "execution_count": 3,
   "id": "57695686",
   "metadata": {},
   "outputs": [],
   "source": [
    "def generate_new_pixel(loc,padded_image,algo):   \n",
    "    \n",
    "    x,y = loc\n",
    "    binary_num = []\n",
    "\n",
    "    for i in range(x-1,x+2):\n",
    "        three_pixel_row = padded_image[i][(y-1):(y+2)]        \n",
    "        binary_num += (list(three_pixel_row))\n",
    "    \n",
    "    binary_num = (\"\").join(['0' if x=='.' else '1' for x in binary_num])\n",
    "    ix = int(binary_num,2)\n",
    "    \n",
    "    new_pixel = algo[ix]\n",
    "    return new_pixel"
   ]
  },
  {
   "cell_type": "code",
   "execution_count": 4,
   "id": "fb88fbbe",
   "metadata": {},
   "outputs": [],
   "source": [
    "def apply_algo(image,algo,val_to_pad):\n",
    "            \n",
    "    padded_image = np.pad(image, 3, mode='constant', constant_values=val_to_pad)\n",
    "\n",
    "    new_image = np.empty_like(padded_image)\n",
    "    \n",
    "    for row in range(1,padded_image.shape[0]-1):\n",
    "        for col in range(1,padded_image.shape[1]-1):\n",
    "            new_image[row][col] = generate_new_pixel((row,col),padded_image,algo)\n",
    "    \n",
    "    cropped_image = new_image[1:new_image.shape[1]-1,1:new_image.shape[0]-1]\n",
    "    val_to_pad = cropped_image[1,1]\n",
    "    \n",
    "    return val_to_pad,cropped_image"
   ]
  },
  {
   "cell_type": "code",
   "execution_count": 5,
   "id": "59260a8c",
   "metadata": {},
   "outputs": [],
   "source": [
    "def apply_algo_steps(image,algo,num_steps):\n",
    "    \n",
    "    # to start, pad with dark\n",
    "    pad_val = '.'\n",
    "    for step in range(num_steps):\n",
    "        if step % 10 == 0:\n",
    "            print(\"At step \",step)\n",
    "        \n",
    "        pad_val,image = apply_algo(image,algo,pad_val)\n",
    "        \n",
    "    return image\n",
    "        "
   ]
  },
  {
   "cell_type": "code",
   "execution_count": 6,
   "id": "23a2c75d",
   "metadata": {},
   "outputs": [],
   "source": [
    "def count_lit(puzzle_input,num_steps):\n",
    "    \n",
    "    start= time.time()\n",
    "    \n",
    "    image_enhancement_algo, image_input = get_input(puzzle_input)\n",
    "    \n",
    "    final_image = apply_algo_steps(image_input,image_enhancement_algo,num_steps)\n",
    "    \n",
    "    lit = (final_image == '#').sum()\n",
    "    \n",
    "    print(f\"Counted lit pixels in {round(time.time()-start,2)} seconds\")\n",
    "    return lit"
   ]
  },
  {
   "cell_type": "code",
   "execution_count": 7,
   "id": "99bed048",
   "metadata": {},
   "outputs": [
    {
     "name": "stdout",
     "output_type": "stream",
     "text": [
      "At step  0\n",
      "Counted lit pixels in 0.17 seconds\n"
     ]
    },
    {
     "data": {
      "text/plain": [
       "5203"
      ]
     },
     "execution_count": 7,
     "metadata": {},
     "output_type": "execute_result"
    }
   ],
   "source": [
    "count_lit('puzzle_input.txt',2)"
   ]
  },
  {
   "cell_type": "markdown",
   "id": "56b023e4",
   "metadata": {},
   "source": [
    "# Part 2"
   ]
  },
  {
   "cell_type": "code",
   "execution_count": 8,
   "id": "0ed0529b",
   "metadata": {},
   "outputs": [
    {
     "name": "stdout",
     "output_type": "stream",
     "text": [
      "At step  0\n",
      "At step  10\n",
      "At step  20\n",
      "At step  30\n",
      "At step  40\n",
      "Counted lit pixels in 15.17 seconds\n"
     ]
    },
    {
     "data": {
      "text/plain": [
       "18806"
      ]
     },
     "execution_count": 8,
     "metadata": {},
     "output_type": "execute_result"
    }
   ],
   "source": [
    "count_lit('puzzle_input.txt',50)"
   ]
  }
 ],
 "metadata": {
  "kernelspec": {
   "display_name": "Python [conda env:aoc]",
   "language": "python",
   "name": "conda-env-aoc-py"
  },
  "language_info": {
   "codemirror_mode": {
    "name": "ipython",
    "version": 3
   },
   "file_extension": ".py",
   "mimetype": "text/x-python",
   "name": "python",
   "nbconvert_exporter": "python",
   "pygments_lexer": "ipython3",
   "version": "3.9.7"
  }
 },
 "nbformat": 4,
 "nbformat_minor": 5
}
