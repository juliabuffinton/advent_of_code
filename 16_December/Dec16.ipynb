{
 "cells": [
  {
   "cell_type": "markdown",
   "metadata": {},
   "source": [
    "# Part 1"
   ]
  },
  {
   "cell_type": "code",
   "execution_count": 44,
   "metadata": {},
   "outputs": [],
   "source": [
    "import numpy as np"
   ]
  },
  {
   "cell_type": "code",
   "execution_count": 45,
   "metadata": {},
   "outputs": [],
   "source": [
    "puzzle_input = '220D69802BE00A0803711E1441B1006E39C318A12730C200DCE66D2CCE360FA0055652CD32966E3004677EDF600B0803B1361741510076254138D8A00E4FFF3E3393ABE4FC7AC10410010799D2A4430003764DBE281802F3102CA00D4840198430EE0E00021D04E3F41F84AE0154DFDE65A17CCBFAFA14ADA56854FE5E3FD5BCC53B0D2598027A00848C63F2B918C7E513DEC3290051B3867E009CCC5FE46BD520007FE5E8AD344B37583D0803E40085475887144C01A8C10FE2B9803B0720D45A3004652FD8FA05F80122CAF91E5F50E66BEF8AB000BB0F4802039C20917B920B9221200ABF0017B9C92CCDC76BD3A8C4012CCB13CB22CDB243E9C3D2002067440400D9BE62DAC4D2DC0249BF76B6F72BE459B279F759AE7BE42E0058801CC059B08018A0070012CEC045BA01006C03A8000D46C02FA000A8EA007200800E00618018E00410034220061801D36BF178C01796FC52B4017100763547E86000084C7E8910AC0027E9B029FE2F4952F96D81B34C8400C24AA8CDAF4F1E98027C00FACDE3BA86982570D13AA640195CD67B046F004662711E989C468C01F1007A10C4C8320008742287117C401A8C715A3FC2C8EB3777540048272DFE7DE1C0149AC8BC9E79D63200B674013978E8BE5E3A2E9AA3CCDD538C01193CFAB0A146006AA00087C3E88B130401D8E304A239802F39FAC922C0169EA3248DF2D600247C89BCDFE9CA7FFD8BB49686236C9FF9795D80C0139BEC4D6C017978CF78C5EB981FCE7D4D801FA9FB63B14789534584010B5802F3467346D2C1D1E080355B00424FC99290C7E5D729586504803A2D005E677F868C271AA479CEEB131592EE5450043A932697E6A92C6E164991EFC4268F25A294600B5002A3393B31CC834B972804D2F3A4FD72B928E59219C9C771EC3DC89D1802135C9806802729694A6E723FD6134C0129A019E600'"
   ]
  },
  {
   "cell_type": "code",
   "execution_count": 46,
   "metadata": {},
   "outputs": [],
   "source": [
    "hex_str_dict = {\n",
    "    \"0\": \"0000\",\n",
    "    \"1\": \"0001\",\n",
    "    \"2\": \"0010\",\n",
    "    \"3\": \"0011\",\n",
    "    \"4\": \"0100\",\n",
    "    \"5\": \"0101\",\n",
    "    \"6\": \"0110\",\n",
    "    \"7\": \"0111\",\n",
    "    \"8\": \"1000\",\n",
    "    \"9\": \"1001\",\n",
    "    \"A\": \"1010\",\n",
    "    \"B\": \"1011\",\n",
    "    \"C\": \"1100\",\n",
    "    \"D\": \"1101\",\n",
    "    \"E\": \"1110\",\n",
    "    \"F\": \"1111\"\n",
    "}"
   ]
  },
  {
   "cell_type": "code",
   "execution_count": 47,
   "metadata": {},
   "outputs": [],
   "source": [
    "# Could be done with out of the box tools\n",
    "# But not sure if the same results\n",
    "def hex_to_binary(hex_str):\n",
    "    \n",
    "    return (\"\").join([hex_str_dict[char] for char in hex_str])"
   ]
  },
  {
   "cell_type": "code",
   "execution_count": 48,
   "metadata": {},
   "outputs": [],
   "source": [
    "binary_str = hex_to_binary(puzzle_input)"
   ]
  },
  {
   "cell_type": "code",
   "execution_count": 49,
   "metadata": {},
   "outputs": [],
   "source": [
    "def discover_hierarchy(packet):\n",
    "        \n",
    "    version, packet= parse_packet(packet,0)\n",
    "    print(version)"
   ]
  },
  {
   "cell_type": "code",
   "execution_count": null,
   "metadata": {},
   "outputs": [],
   "source": []
  },
  {
   "cell_type": "code",
   "execution_count": 50,
   "metadata": {},
   "outputs": [],
   "source": [
    "def parse_packet(packet, version_num):\n",
    "\n",
    "    if packet:\n",
    "\n",
    "        version = int(packet[:3],2)\n",
    "        version_num += version\n",
    "\n",
    "        type_id = int(packet[3:6],2)\n",
    "\n",
    "        packet = packet[6:]\n",
    "\n",
    "        if type_id == 4:\n",
    "            literal = ''\n",
    "\n",
    "            for i in range(0,len(packet),5):\n",
    "\n",
    "                chunk = packet[i:i+5]\n",
    "                # If chunk starts with 1 then not last\n",
    "                if packet[i] == '1':\n",
    "                    literal = literal + chunk[1:]  \n",
    "\n",
    "                # assume it's a 0, so we're at the end\n",
    "                else:\n",
    "                    literal = literal + chunk[1:]  \n",
    "                    # Don't execute anything after\n",
    "                    break\n",
    "            if packet:\n",
    "                return packet[i+5:],version_num\n",
    "            else:\n",
    "                return packet,version_num\n",
    "\n",
    "        # Only other option but just to be safe\n",
    "        # We're at an operator\n",
    "        else:\n",
    "\n",
    "            length_type_id = packet[0]\n",
    "\n",
    "            if length_type_id == '0':\n",
    "                length = int(packet[1:16],2)\n",
    "                packet = packet[16:]\n",
    "\n",
    "                length_attempted = 0\n",
    "                \n",
    "                while length_attempted < length:\n",
    "                    start_len = len(packet)\n",
    "                    packet,version_num = parse_packet(packet,version_num)\n",
    "                    end_len = len(packet)\n",
    "                    length_attempted += start_len - end_len\n",
    "\n",
    "            # assume it's legnth ID 1\n",
    "            elif length_type_id == '1':\n",
    "                num_subpackets = int(packet[1:12],2)\n",
    "                packet = packet[12:]\n",
    "                \n",
    "                subpackets_completed = 0\n",
    "                while subpackets_completed < num_subpackets:\n",
    "                    subpackets_completed += 1\n",
    "                    packet,version_num = parse_packet(packet,version_num)\n",
    "\n",
    " \n",
    "    return packet,version_num"
   ]
  },
  {
   "cell_type": "code",
   "execution_count": 51,
   "metadata": {},
   "outputs": [],
   "source": [
    "def total_version_nums(puzzle_input):\n",
    "    \n",
    "    binary_input = hex_to_binary(puzzle_input)\n",
    "    \n",
    "    parsed_packet,version_sum = parse_packet(binary_input,0)\n",
    "    \n",
    "    return version_sum"
   ]
  },
  {
   "cell_type": "code",
   "execution_count": 52,
   "metadata": {},
   "outputs": [
    {
     "data": {
      "text/plain": [
       "1002"
      ]
     },
     "execution_count": 52,
     "metadata": {},
     "output_type": "execute_result"
    }
   ],
   "source": [
    "total_version_nums(puzzle_input)"
   ]
  },
  {
   "cell_type": "markdown",
   "metadata": {},
   "source": [
    "# Part 2"
   ]
  },
  {
   "cell_type": "code",
   "execution_count": 100,
   "metadata": {},
   "outputs": [],
   "source": [
    "def operate(operator, vals):\n",
    "    if operator == 0:\n",
    "        print('sum')\n",
    "        return [sum(vals)]\n",
    "    if operator == 1:\n",
    "        print('product')\n",
    "        return [np.prod(vals)]\n",
    "    if operator == 2:\n",
    "        return [min(vals)]\n",
    "    if operator == 3:\n",
    "        return [max(vals)]\n",
    "    if operator == 5:\n",
    "        return [int(vals[0] > vals[1])]\n",
    "    if operator == 6:\n",
    "        return [int(vals[0] < vals[1])]\n",
    "    if operator == 7:\n",
    "        print('equals')\n",
    "        return [int(vals[0] == vals[1])]"
   ]
  },
  {
   "cell_type": "code",
   "execution_count": 103,
   "metadata": {},
   "outputs": [],
   "source": [
    "def parse_packet_for_value(packet,subvals):\n",
    "    print()\n",
    "    print(\"packet:\",packet)\n",
    "    print(subvals)\n",
    "    if packet:\n",
    "\n",
    "        type_id = int(packet[3:6],2)\n",
    "\n",
    "        packet = packet[6:]\n",
    "\n",
    "        if type_id == 4:\n",
    "            literal = ''\n",
    "\n",
    "            for i in range(0,len(packet),5):\n",
    "\n",
    "                chunk = packet[i:i+5]\n",
    "                # If chunk starts with 1 then not last\n",
    "                if packet[i] == '1':\n",
    "                    literal = literal + chunk[1:]  \n",
    "\n",
    "                # assume it's a 0, so we're at the end\n",
    "                else:\n",
    "                    literal = literal + chunk[1:]  \n",
    "                    value = int(literal,2)\n",
    "                    # Don't execute anything after\n",
    "                    break\n",
    "            if packet:\n",
    "                return packet[i+5:],subvals+[value]\n",
    "            else:\n",
    "                return packet,subvals+[value]\n",
    "\n",
    "        # Only other option but just to be safe\n",
    "        # We're at an operator\n",
    "        else:\n",
    "                \n",
    "            length_type_id = packet[0]\n",
    "\n",
    "            if length_type_id == '0':\n",
    "\n",
    "                length = int(packet[1:16],2)\n",
    "                print(\"length:\",length)\n",
    "                packet = packet[16:]\n",
    "\n",
    "                length_attempted = 0\n",
    "                \n",
    "                while length_attempted < length:\n",
    "                    start_len = len(packet)\n",
    "                    packet,subvals = parse_packet_for_value(packet,subvals)\n",
    "                    end_len = len(packet)\n",
    "                    length_attempted += start_len - end_len\n",
    "                subvals = operate(type_id,subvals)\n",
    "\n",
    "\n",
    "            # assume it's legnth ID 1\n",
    "            elif length_type_id == '1':\n",
    "                num_subpackets = int(packet[1:12],2)\n",
    "                packet = packet[12:]\n",
    "                print(\"num subpackets:\",num_subpackets)\n",
    "                \n",
    "                subpackets_completed = 0\n",
    "                while subpackets_completed < num_subpackets:\n",
    "                    print('going through subpackets')\n",
    "                    subpackets_completed += 1\n",
    "                    packet,subvals = parse_packet_for_value(packet,subvals)\n",
    "                subvals = operate(type_id,subvals)\n",
    " \n",
    "    return packet,subvals"
   ]
  },
  {
   "cell_type": "code",
   "execution_count": 104,
   "metadata": {
    "scrolled": true
   },
   "outputs": [
    {
     "name": "stdout",
     "output_type": "stream",
     "text": [
      "\n",
      "packet: 10011100000000010100000100001000000000100101000000110010000011110001100000000010000100000100101000001000\n",
      "[]\n",
      "length: 80\n",
      "\n",
      "packet: 0100001000000000100101000000110010000011110001100000000010000100000100101000001000\n",
      "[]\n",
      "num subpackets: 2\n",
      "going through subpackets\n",
      "\n",
      "packet: 0101000000110010000011110001100000000010000100000100101000001000\n",
      "[]\n",
      "going through subpackets\n",
      "\n",
      "packet: 10010000011110001100000000010000100000100101000001000\n",
      "[1]\n",
      "sum\n",
      "\n",
      "packet: 110001100000000010000100000100101000001000\n",
      "[4]\n",
      "num subpackets: 2\n",
      "going through subpackets\n",
      "\n",
      "packet: 000100000100101000001000\n",
      "[4]\n",
      "going through subpackets\n",
      "\n",
      "packet: 0101000001000\n",
      "[4, 2]\n",
      "product\n",
      "equals\n"
     ]
    },
    {
     "ename": "IndexError",
     "evalue": "list index out of range",
     "output_type": "error",
     "traceback": [
      "\u001b[1;31m---------------------------------------------------------------------------\u001b[0m",
      "\u001b[1;31mIndexError\u001b[0m                                Traceback (most recent call last)",
      "\u001b[1;32m<ipython-input-104-63c71e0aa3e2>\u001b[0m in \u001b[0;36m<module>\u001b[1;34m\u001b[0m\n\u001b[1;32m----> 1\u001b[1;33m \u001b[0mparse_packet_for_value\u001b[0m\u001b[1;33m(\u001b[0m\u001b[0mhex_to_binary\u001b[0m\u001b[1;33m(\u001b[0m\u001b[1;34m'9C0141080250320F1802104A08'\u001b[0m\u001b[1;33m)\u001b[0m\u001b[1;33m,\u001b[0m\u001b[1;33m[\u001b[0m\u001b[1;33m]\u001b[0m\u001b[1;33m)\u001b[0m\u001b[1;33m\u001b[0m\u001b[1;33m\u001b[0m\u001b[0m\n\u001b[0m",
      "\u001b[1;32m<ipython-input-103-fa7bc2b32843>\u001b[0m in \u001b[0;36mparse_packet_for_value\u001b[1;34m(packet, subvals)\u001b[0m\n\u001b[0;32m     58\u001b[0m                     \u001b[0mend_len\u001b[0m \u001b[1;33m=\u001b[0m \u001b[0mlen\u001b[0m\u001b[1;33m(\u001b[0m\u001b[0mpacket\u001b[0m\u001b[1;33m)\u001b[0m\u001b[1;33m\u001b[0m\u001b[1;33m\u001b[0m\u001b[0m\n\u001b[0;32m     59\u001b[0m                     \u001b[0mlength_attempted\u001b[0m \u001b[1;33m+=\u001b[0m \u001b[0mstart_len\u001b[0m \u001b[1;33m-\u001b[0m \u001b[0mend_len\u001b[0m\u001b[1;33m\u001b[0m\u001b[1;33m\u001b[0m\u001b[0m\n\u001b[1;32m---> 60\u001b[1;33m                 \u001b[0msubvals\u001b[0m \u001b[1;33m=\u001b[0m \u001b[0moperate\u001b[0m\u001b[1;33m(\u001b[0m\u001b[0mtype_id\u001b[0m\u001b[1;33m,\u001b[0m\u001b[0msubvals\u001b[0m\u001b[1;33m)\u001b[0m\u001b[1;33m\u001b[0m\u001b[1;33m\u001b[0m\u001b[0m\n\u001b[0m\u001b[0;32m     61\u001b[0m \u001b[1;33m\u001b[0m\u001b[0m\n\u001b[0;32m     62\u001b[0m \u001b[1;33m\u001b[0m\u001b[0m\n",
      "\u001b[1;32m<ipython-input-100-ce0217d104ed>\u001b[0m in \u001b[0;36moperate\u001b[1;34m(operator, vals)\u001b[0m\n\u001b[0;32m     16\u001b[0m     \u001b[1;32mif\u001b[0m \u001b[0moperator\u001b[0m \u001b[1;33m==\u001b[0m \u001b[1;36m7\u001b[0m\u001b[1;33m:\u001b[0m\u001b[1;33m\u001b[0m\u001b[1;33m\u001b[0m\u001b[0m\n\u001b[0;32m     17\u001b[0m         \u001b[0mprint\u001b[0m\u001b[1;33m(\u001b[0m\u001b[1;34m'equals'\u001b[0m\u001b[1;33m)\u001b[0m\u001b[1;33m\u001b[0m\u001b[1;33m\u001b[0m\u001b[0m\n\u001b[1;32m---> 18\u001b[1;33m         \u001b[1;32mreturn\u001b[0m \u001b[1;33m[\u001b[0m\u001b[0mint\u001b[0m\u001b[1;33m(\u001b[0m\u001b[0mvals\u001b[0m\u001b[1;33m[\u001b[0m\u001b[1;36m0\u001b[0m\u001b[1;33m]\u001b[0m \u001b[1;33m==\u001b[0m \u001b[0mvals\u001b[0m\u001b[1;33m[\u001b[0m\u001b[1;36m1\u001b[0m\u001b[1;33m]\u001b[0m\u001b[1;33m)\u001b[0m\u001b[1;33m]\u001b[0m\u001b[1;33m\u001b[0m\u001b[1;33m\u001b[0m\u001b[0m\n\u001b[0m",
      "\u001b[1;31mIndexError\u001b[0m: list index out of range"
     ]
    }
   ],
   "source": [
    "parse_packet_for_value(hex_to_binary('9C0141080250320F1802104A08'),[])"
   ]
  },
  {
   "cell_type": "markdown",
   "metadata": {},
   "source": [
    "```\n",
    "C200B40A82 finds the sum of 1 and 2, resulting in the value 3.\n",
    "04005AC33890 finds the product of 6 and 9, resulting in the value 54.\n",
    "880086C3E88112 finds the minimum of 7, 8, and 9, resulting in the value 7.\n",
    "CE00C43D881120 finds the maximum of 7, 8, and 9, resulting in the value 9.\n",
    "D8005AC2A8F0 produces 1, because 5 is less than 15.\n",
    "F600BC2D8F produces 0, because 5 is not greater than 15.\n",
    "9C005AC2F8F0 produces 0, because 5 is not equal to 15.\n",
    "9C0141080250320F1802104A08 produces 1, because 1 + 3 = 2 * 2.\n",
    "```"
   ]
  },
  {
   "cell_type": "code",
   "execution_count": null,
   "metadata": {},
   "outputs": [],
   "source": []
  }
 ],
 "metadata": {
  "kernelspec": {
   "display_name": "Python 3",
   "language": "python",
   "name": "python3"
  },
  "language_info": {
   "codemirror_mode": {
    "name": "ipython",
    "version": 3
   },
   "file_extension": ".py",
   "mimetype": "text/x-python",
   "name": "python",
   "nbconvert_exporter": "python",
   "pygments_lexer": "ipython3",
   "version": "3.7.3"
  }
 },
 "nbformat": 4,
 "nbformat_minor": 4
}
