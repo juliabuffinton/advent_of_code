{
 "cells": [
  {
   "cell_type": "code",
   "execution_count": 25,
   "id": "8722fe9e",
   "metadata": {},
   "outputs": [],
   "source": [
    "import numpy as np"
   ]
  },
  {
   "cell_type": "code",
   "execution_count": 34,
   "id": "6f449daa",
   "metadata": {},
   "outputs": [],
   "source": [
    "with open(\"day10_input.txt\") as f:\n",
    "    puzzle_input = [int(x) for x in f.read().splitlines()]"
   ]
  },
  {
   "cell_type": "code",
   "execution_count": 35,
   "id": "11043153",
   "metadata": {},
   "outputs": [],
   "source": [
    "diffs = np.diff(sorted(puzzle_input + [0])).tolist() # need to add starting of 0"
   ]
  },
  {
   "cell_type": "code",
   "execution_count": 36,
   "id": "f8bdb63d",
   "metadata": {},
   "outputs": [],
   "source": [
    "threes = diffs.count(3) + 1 # last one is always three\n",
    "ones = diffs.count(1)"
   ]
  },
  {
   "cell_type": "code",
   "execution_count": 37,
   "id": "d452cce5",
   "metadata": {
    "scrolled": true
   },
   "outputs": [
    {
     "name": "stdout",
     "output_type": "stream",
     "text": [
      "There are 40 three and 75 one\n"
     ]
    }
   ],
   "source": [
    "print(f\"There are {threes} three and {ones} one\")"
   ]
  },
  {
   "cell_type": "code",
   "execution_count": 38,
   "id": "4b943122",
   "metadata": {},
   "outputs": [
    {
     "data": {
      "text/plain": [
       "3000"
      ]
     },
     "execution_count": 38,
     "metadata": {},
     "output_type": "execute_result"
    }
   ],
   "source": [
    "threes * ones"
   ]
  },
  {
   "cell_type": "markdown",
   "id": "4ebf8535",
   "metadata": {},
   "source": [
    "## Part 2"
   ]
  },
  {
   "cell_type": "code",
   "execution_count": null,
   "id": "0cc871e6",
   "metadata": {},
   "outputs": [],
   "source": [
    "# need to keep last, but don't need to keep first\n",
    "# how many combos of 1, 2, and 3 get us to the final sum"
   ]
  }
 ],
 "metadata": {
  "kernelspec": {
   "display_name": "Python [conda env:aoc]",
   "language": "python",
   "name": "conda-env-aoc-py"
  },
  "language_info": {
   "codemirror_mode": {
    "name": "ipython",
    "version": 3
   },
   "file_extension": ".py",
   "mimetype": "text/x-python",
   "name": "python",
   "nbconvert_exporter": "python",
   "pygments_lexer": "ipython3",
   "version": "3.9.7"
  }
 },
 "nbformat": 4,
 "nbformat_minor": 5
}
