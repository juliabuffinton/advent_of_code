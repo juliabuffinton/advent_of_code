{
 "cells": [
  {
   "cell_type": "code",
   "execution_count": 48,
   "metadata": {},
   "outputs": [],
   "source": [
    "from itertools import combinations\n",
    "import numpy as np\n",
    "import math"
   ]
  },
  {
   "cell_type": "markdown",
   "metadata": {},
   "source": [
    "# Day 1"
   ]
  },
  {
   "cell_type": "code",
   "execution_count": 14,
   "metadata": {},
   "outputs": [],
   "source": [
    "with open('day1_input.txt') as f:\n",
    "    puzzle_input = [int(x) for x in f.read().splitlines()]"
   ]
  },
  {
   "cell_type": "code",
   "execution_count": 31,
   "metadata": {},
   "outputs": [],
   "source": [
    "def find_2020_sum(puzzle_input, n):\n",
    "    pairs = list(combinations(puzzle_input,n))\n",
    "    sums = [sum(x) for x in pairs]\n",
    "    \n",
    "    # assumption that there's only 1 valid pair\n",
    "    ix = sums.index(2020)\n",
    "    \n",
    "    return np.product(pairs[ix])"
   ]
  },
  {
   "cell_type": "code",
   "execution_count": 33,
   "metadata": {},
   "outputs": [
    {
     "data": {
      "text/plain": [
       "955584"
      ]
     },
     "execution_count": 33,
     "metadata": {},
     "output_type": "execute_result"
    }
   ],
   "source": [
    "find_2020_sum(puzzle_input,2)"
   ]
  },
  {
   "cell_type": "code",
   "execution_count": 32,
   "metadata": {},
   "outputs": [
    {
     "data": {
      "text/plain": [
       "287503934"
      ]
     },
     "execution_count": 32,
     "metadata": {},
     "output_type": "execute_result"
    }
   ],
   "source": [
    "find_2020_sum(puzzle_input,3)"
   ]
  },
  {
   "cell_type": "markdown",
   "metadata": {},
   "source": [
    "# Day 5"
   ]
  },
  {
   "cell_type": "code",
   "execution_count": 35,
   "metadata": {},
   "outputs": [],
   "source": [
    "with open('day5_input.txt') as f:\n",
    "    puzzle_input = f.read().splitlines()"
   ]
  },
  {
   "cell_type": "code",
   "execution_count": 102,
   "metadata": {},
   "outputs": [],
   "source": [
    "def partition(boarding_pass, upper):\n",
    "    \n",
    "    lower = 0\n",
    "    \n",
    "    for loc in boarding_pass:\n",
    "        rng = upper - lower\n",
    "\n",
    "        if loc == 'B':\n",
    "            lower = lower + math.ceil(rng/2)\n",
    "        else:\n",
    "            upper = lower + math.floor(rng/2)\n",
    "        \n",
    "    return lower"
   ]
  },
  {
   "cell_type": "code",
   "execution_count": 107,
   "metadata": {},
   "outputs": [],
   "source": [
    "def find_seat_id(boarding_pass):\n",
    "    \n",
    "    boarding_pass = boarding_pass.replace(\"R\",\"B\").replace(\"L\",\"F\")\n",
    "    \n",
    "    row = partition(boarding_pass[:7],128)\n",
    "    col = partition(boarding_pass[7:],8)\n",
    "    \n",
    "    return row * 8 + col"
   ]
  },
  {
   "cell_type": "code",
   "execution_count": 116,
   "metadata": {},
   "outputs": [],
   "source": [
    "all_seat_ids = sorted([find_seat_id(x) for x in puzzle_input])"
   ]
  },
  {
   "cell_type": "code",
   "execution_count": 117,
   "metadata": {},
   "outputs": [
    {
     "data": {
      "text/plain": [
       "994"
      ]
     },
     "execution_count": 117,
     "metadata": {},
     "output_type": "execute_result"
    }
   ],
   "source": [
    "max(all_seat_ids)"
   ]
  },
  {
   "cell_type": "markdown",
   "metadata": {},
   "source": [
    "## Part 2"
   ]
  },
  {
   "cell_type": "code",
   "execution_count": 122,
   "metadata": {},
   "outputs": [],
   "source": [
    "seats = range(all_seat_ids[0],all_seat_ids[-1]+1)"
   ]
  },
  {
   "cell_type": "code",
   "execution_count": 124,
   "metadata": {},
   "outputs": [
    {
     "data": {
      "text/plain": [
       "{741}"
      ]
     },
     "execution_count": 124,
     "metadata": {},
     "output_type": "execute_result"
    }
   ],
   "source": [
    "set(all_seat_ids).symmetric_difference(set(seats))"
   ]
  },
  {
   "cell_type": "markdown",
   "metadata": {},
   "source": [
    "# Day 9"
   ]
  },
  {
   "cell_type": "code",
   "execution_count": 199,
   "metadata": {},
   "outputs": [],
   "source": [
    "with open('day9_input.txt') as f:\n",
    "    puzzle_input = [int(x) for x in f.read().splitlines()]"
   ]
  },
  {
   "cell_type": "code",
   "execution_count": 200,
   "metadata": {},
   "outputs": [],
   "source": [
    "def valid_num(prev_25,curr_num):\n",
    "    \n",
    "    pairs = list(combinations(prev_25,2))\n",
    "    sums = [sum(x) for x in pairs]\n",
    "    \n",
    "    return curr_num in sums"
   ]
  },
  {
   "cell_type": "code",
   "execution_count": 201,
   "metadata": {},
   "outputs": [],
   "source": [
    "def find_invaid_num(nums):\n",
    "    nums = nums.copy()\n",
    "    \n",
    "    is_valid = True\n",
    "    i = 25\n",
    "    \n",
    "    while is_valid:\n",
    "        curr_num = nums[i]\n",
    "        is_valid = valid_num(nums[:i],curr_num)\n",
    "        nums.pop(0)\n",
    "    \n",
    "    return curr_num"
   ]
  },
  {
   "cell_type": "code",
   "execution_count": 202,
   "metadata": {},
   "outputs": [
    {
     "data": {
      "text/plain": [
       "57195069"
      ]
     },
     "execution_count": 202,
     "metadata": {},
     "output_type": "execute_result"
    }
   ],
   "source": [
    "find_invaid_num(puzzle_input)"
   ]
  },
  {
   "cell_type": "markdown",
   "metadata": {},
   "source": [
    "## Part 2"
   ]
  },
  {
   "cell_type": "code",
   "execution_count": 203,
   "metadata": {},
   "outputs": [],
   "source": [
    "def find_contiguous(nums, target_num):\n",
    "    \n",
    "    for i,num in enumerate(nums):\n",
    "        total = 0\n",
    "        \n",
    "        j = i\n",
    "        \n",
    "        while total <= target_num:\n",
    "            if total == target_num:\n",
    "                return nums[i:j]\n",
    "            else:\n",
    "                total += nums[j]\n",
    "                j+=1"
   ]
  },
  {
   "cell_type": "code",
   "execution_count": 204,
   "metadata": {},
   "outputs": [],
   "source": [
    "def find_weakness(nums):\n",
    "    \n",
    "    invalid_num = find_invaid_num(nums)\n",
    "    \n",
    "    contiguous = find_contiguous(nums,invalid_num)\n",
    "    \n",
    "    weakness = max(contiguous) + min(contiguous)\n",
    "    \n",
    "    return weakness"
   ]
  },
  {
   "cell_type": "code",
   "execution_count": 205,
   "metadata": {},
   "outputs": [
    {
     "data": {
      "text/plain": [
       "7409241"
      ]
     },
     "execution_count": 205,
     "metadata": {},
     "output_type": "execute_result"
    }
   ],
   "source": [
    "find_weakness(puzzle_input)"
   ]
  },
  {
   "cell_type": "markdown",
   "metadata": {},
   "source": [
    "# Day 10"
   ]
  },
  {
   "cell_type": "code",
   "execution_count": null,
   "metadata": {},
   "outputs": [],
   "source": []
  }
 ],
 "metadata": {
  "kernelspec": {
   "display_name": "Python 3",
   "language": "python",
   "name": "python3"
  },
  "language_info": {
   "codemirror_mode": {
    "name": "ipython",
    "version": 3
   },
   "file_extension": ".py",
   "mimetype": "text/x-python",
   "name": "python",
   "nbconvert_exporter": "python",
   "pygments_lexer": "ipython3",
   "version": "3.7.3"
  }
 },
 "nbformat": 4,
 "nbformat_minor": 4
}
