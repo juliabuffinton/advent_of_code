{
 "cells": [
  {
   "cell_type": "markdown",
   "id": "caf95044",
   "metadata": {},
   "source": [
    "# Parse Input"
   ]
  },
  {
   "cell_type": "code",
   "execution_count": 7,
   "id": "274ce9df",
   "metadata": {},
   "outputs": [],
   "source": [
    "with open(\"day16_input.txt\") as f:\n",
    "    puzzle_input = f.read().split(\"\\n\\n\")"
   ]
  },
  {
   "cell_type": "code",
   "execution_count": 35,
   "id": "f16b8fd0",
   "metadata": {},
   "outputs": [],
   "source": [
    "def parse_tickets(ticket_list):\n",
    "    tickets = ticket_list.split(\"\\n\")[1:]\n",
    "    tickets = [ticket.split(\",\") for ticket in tickets]\n",
    "    tickets = [[int(x) for x in ticket] for ticket in tickets]\n",
    "    return tickets"
   ]
  },
  {
   "cell_type": "code",
   "execution_count": 41,
   "id": "a75f4617",
   "metadata": {},
   "outputs": [],
   "source": [
    "valid_fields = puzzle_input[0].split(\"\\n\")\n",
    "my_ticket = parse_tickets(puzzle_input[1])[0]\n",
    "other_tickets = parse_tickets(puzzle_input[2])"
   ]
  },
  {
   "cell_type": "code",
   "execution_count": 71,
   "id": "fe1017e9",
   "metadata": {},
   "outputs": [],
   "source": [
    "def clean_fields(fields):\n",
    "    fields_dict = {}\n",
    "    \n",
    "    for field in fields:\n",
    "        field_name, vals = field.split(\": \")\n",
    "        ranges = [[int(x) for x in rng.split(\"-\")] for rng in vals.split(\" or \")]\n",
    "\n",
    "        fields_dict[field_name] = ranges\n",
    "    return fields_dict"
   ]
  },
  {
   "cell_type": "code",
   "execution_count": 74,
   "id": "3f7c8e65",
   "metadata": {},
   "outputs": [],
   "source": [
    "valid_fields = clean_fields(valid_fields)"
   ]
  },
  {
   "cell_type": "markdown",
   "id": "cad1b468",
   "metadata": {},
   "source": [
    "# Part 1"
   ]
  },
  {
   "cell_type": "code",
   "execution_count": 101,
   "id": "679e098a",
   "metadata": {},
   "outputs": [],
   "source": [
    "def get_overall_ranges(valid_field_values):\n",
    "    \n",
    "    rng1_min = min([rng1[0] for rng1,rng2 in valid_field_values])\n",
    "    rng1_max = max([rng1[1] for rng1,rng2 in valid_field_values])\n",
    "    \n",
    "    rng2_min = min([rng2[0] for rng1,rng2 in valid_field_values])\n",
    "    rng2_max = max([rng2[1] for rng1,rng2 in valid_field_values])\n",
    "\n",
    "    # If they overlap - I could have hard coded this but I didn't\n",
    "    if rng2_min < rng1_max:\n",
    "        return [(rng1_min, rng2_max)]\n",
    "    else:\n",
    "        return [(rng1_min, rng1_max), (rng2_min, rng2_max)]"
   ]
  },
  {
   "cell_type": "code",
   "execution_count": 103,
   "id": "e5d34c45",
   "metadata": {},
   "outputs": [],
   "source": [
    "overall_valid_range = get_overall_ranges(valid_fields.values())"
   ]
  },
  {
   "cell_type": "code",
   "execution_count": 136,
   "id": "bad0ff04",
   "metadata": {},
   "outputs": [],
   "source": [
    "def check_valid_num(num, rng):\n",
    "    lower,upper = rng[0]\n",
    "    # we know there is only one range - this I did hard code :(\n",
    "    return (num >= lower) & (num <= upper)"
   ]
  },
  {
   "cell_type": "code",
   "execution_count": 133,
   "id": "75d217c8",
   "metadata": {},
   "outputs": [],
   "source": [
    "def check_valid_tickets(tickets, rng):\n",
    "    \n",
    "    invalid_nums = []\n",
    "    for ticket in tickets:\n",
    "        invalid_nums.extend([x for x in ticket if not check_valid_num(x,rng)])\n",
    "    return sum(invalid_nums)"
   ]
  },
  {
   "cell_type": "code",
   "execution_count": 135,
   "id": "3fb1351f",
   "metadata": {
    "scrolled": true
   },
   "outputs": [
    {
     "data": {
      "text/plain": [
       "27898"
      ]
     },
     "execution_count": 135,
     "metadata": {},
     "output_type": "execute_result"
    }
   ],
   "source": [
    "check_valid_tickets(other_tickets, overall_valid_range)"
   ]
  },
  {
   "cell_type": "markdown",
   "id": "91257ab7",
   "metadata": {},
   "source": [
    "# Part 2"
   ]
  },
  {
   "cell_type": "code",
   "execution_count": null,
   "id": "8802498d",
   "metadata": {},
   "outputs": [],
   "source": []
  }
 ],
 "metadata": {
  "kernelspec": {
   "display_name": "Python 3 (ipykernel)",
   "language": "python",
   "name": "python3"
  },
  "language_info": {
   "codemirror_mode": {
    "name": "ipython",
    "version": 3
   },
   "file_extension": ".py",
   "mimetype": "text/x-python",
   "name": "python",
   "nbconvert_exporter": "python",
   "pygments_lexer": "ipython3",
   "version": "3.9.5"
  }
 },
 "nbformat": 4,
 "nbformat_minor": 5
}
