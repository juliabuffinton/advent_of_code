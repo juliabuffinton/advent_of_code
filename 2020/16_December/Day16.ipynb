{
 "cells": [
  {
   "cell_type": "markdown",
   "id": "caf95044",
   "metadata": {},
   "source": [
    "# Parse Input"
   ]
  },
  {
   "cell_type": "code",
   "execution_count": 1,
   "id": "274ce9df",
   "metadata": {},
   "outputs": [],
   "source": [
    "with open(\"day16_input.txt\") as f:\n",
    "    puzzle_input = f.read().split(\"\\n\\n\")"
   ]
  },
  {
   "cell_type": "code",
   "execution_count": 2,
   "id": "f16b8fd0",
   "metadata": {},
   "outputs": [],
   "source": [
    "def parse_tickets(ticket_list):\n",
    "    tickets = ticket_list.split(\"\\n\")[1:]\n",
    "    tickets = [ticket.split(\",\") for ticket in tickets]\n",
    "    tickets = [[int(x) for x in ticket] for ticket in tickets]\n",
    "    return tickets"
   ]
  },
  {
   "cell_type": "code",
   "execution_count": 3,
   "id": "a75f4617",
   "metadata": {},
   "outputs": [],
   "source": [
    "valid_fields = puzzle_input[0].split(\"\\n\")\n",
    "my_ticket = parse_tickets(puzzle_input[1])[0]\n",
    "other_tickets = parse_tickets(puzzle_input[2])"
   ]
  },
  {
   "cell_type": "code",
   "execution_count": 4,
   "id": "fe1017e9",
   "metadata": {},
   "outputs": [],
   "source": [
    "def clean_fields(fields):\n",
    "    fields_dict = {}\n",
    "    \n",
    "    for field in fields:\n",
    "        field_name, vals = field.split(\": \")\n",
    "        ranges = [[int(x) for x in rng.split(\"-\")] for rng in vals.split(\" or \")]\n",
    "\n",
    "        fields_dict[field_name] = ranges\n",
    "    return fields_dict"
   ]
  },
  {
   "cell_type": "code",
   "execution_count": 5,
   "id": "3f7c8e65",
   "metadata": {},
   "outputs": [],
   "source": [
    "valid_fields = clean_fields(valid_fields)"
   ]
  },
  {
   "cell_type": "markdown",
   "id": "cad1b468",
   "metadata": {},
   "source": [
    "# Part 1"
   ]
  },
  {
   "cell_type": "code",
   "execution_count": 6,
   "id": "679e098a",
   "metadata": {},
   "outputs": [],
   "source": [
    "def get_overall_ranges(valid_field_values):\n",
    "    \n",
    "    rng1_min = min([rng1[0] for rng1,rng2 in valid_field_values])\n",
    "    rng1_max = max([rng1[1] for rng1,rng2 in valid_field_values])\n",
    "    \n",
    "    rng2_min = min([rng2[0] for rng1,rng2 in valid_field_values])\n",
    "    rng2_max = max([rng2[1] for rng1,rng2 in valid_field_values])\n",
    "\n",
    "    # If they overlap - I could have hard coded this but I didn't\n",
    "    if rng2_min < rng1_max:\n",
    "        return [(rng1_min, rng2_max)]\n",
    "    else:\n",
    "        return [(rng1_min, rng1_max), (rng2_min, rng2_max)]"
   ]
  },
  {
   "cell_type": "code",
   "execution_count": 7,
   "id": "e5d34c45",
   "metadata": {},
   "outputs": [],
   "source": [
    "overall_valid_range = get_overall_ranges(valid_fields.values())"
   ]
  },
  {
   "cell_type": "code",
   "execution_count": 8,
   "id": "bad0ff04",
   "metadata": {},
   "outputs": [],
   "source": [
    "def check_valid_num(num, rng):\n",
    "    lower,upper = rng[0]\n",
    "    # we know there is only one range - this I did hard code :(\n",
    "    return (num >= lower) & (num <= upper)"
   ]
  },
  {
   "cell_type": "code",
   "execution_count": 9,
   "id": "75d217c8",
   "metadata": {},
   "outputs": [],
   "source": [
    "def check_valid_tickets(tickets, rng):\n",
    "    \n",
    "    invalid_nums = []\n",
    "    num_tickets = 0\n",
    "    \n",
    "    for ticket in tickets:\n",
    "        invalid_numbers = [x for x in ticket if not check_valid_num(x,rng)]\n",
    "        if len(invalid_numbers) > 0:\n",
    "            invalid_nums.extend(invalid_numbers)\n",
    "            num_tickets += 1\n",
    "    return sum(invalid_nums), num_tickets"
   ]
  },
  {
   "cell_type": "code",
   "execution_count": 10,
   "id": "3fb1351f",
   "metadata": {
    "scrolled": true
   },
   "outputs": [
    {
     "data": {
      "text/plain": [
       "(27898, 50)"
      ]
     },
     "execution_count": 10,
     "metadata": {},
     "output_type": "execute_result"
    }
   ],
   "source": [
    "check_valid_tickets(other_tickets, overall_valid_range)"
   ]
  },
  {
   "cell_type": "markdown",
   "id": "91257ab7",
   "metadata": {},
   "source": [
    "# Part 2"
   ]
  },
  {
   "cell_type": "code",
   "execution_count": 11,
   "id": "8802498d",
   "metadata": {},
   "outputs": [],
   "source": [
    "def num_in_ranges(num, rng1, rng2):\n",
    "    \n",
    "    num_in_rng1 = rng1[0] <= num <= rng1[1]\n",
    "    num_in_rng2 = rng2[0] <= num <= rng2[1]\n",
    "    \n",
    "    return num_in_rng1 | num_in_rng2"
   ]
  },
  {
   "cell_type": "code",
   "execution_count": 12,
   "id": "7baa0aa1",
   "metadata": {},
   "outputs": [],
   "source": [
    "from collections import defaultdict\n",
    "import numpy as np"
   ]
  },
  {
   "cell_type": "code",
   "execution_count": 13,
   "id": "a25b1384",
   "metadata": {},
   "outputs": [],
   "source": [
    "def map_fields_to_cols(potential_fields):\n",
    "    \n",
    "    actual_fields = {}\n",
    "    n = 1\n",
    "    used = []\n",
    "    \n",
    "    while len(potential_fields) > 0:        \n",
    "        # Assumption that one column can only be assigned to one field\n",
    "        # Find the one. This is sketchy.\n",
    "        field, columns = [(k,v) for (k,v) in potential_fields.items() if len(v) == n][0]\n",
    "        \n",
    "        # Assumption we should be narrowing to 1\n",
    "        confirmed_column = [x for x in columns if x not in used][0]\n",
    "        \n",
    "        # Add to actual fields. \n",
    "        actual_fields[field] = confirmed_column\n",
    "                \n",
    "        # pop this key from the dictionary\n",
    "        potential_fields.pop(field)\n",
    "        \n",
    "        n += 1\n",
    "        used.append(confirmed_column)\n",
    "        \n",
    "    return actual_fields "
   ]
  },
  {
   "cell_type": "code",
   "execution_count": 16,
   "id": "19e283f9",
   "metadata": {},
   "outputs": [],
   "source": [
    "def part2(valid_fields, other_tickets, my_ticket):\n",
    "    \n",
    "    # Get the list of tickets that are actually valid\n",
    "    valid_tickets = [ticket for ticket in other_tickets if all([check_valid_num(num, overall_valid_range) for num in ticket])]\n",
    "    \n",
    "    potential_fields = {key: [] for key in valid_fields}\n",
    "    \n",
    "    # Find all the 'columns' that could work for each field\n",
    "    for field_name, rngs in valid_fields.items():\n",
    "        rng1, rng2 = rngs\n",
    "        \n",
    "        # get a list of all ticket locs            \n",
    "        potential_locs = [column for column in range(len(valid_fields)) if all([num_in_ranges(x, rng1, rng2) for x in [ticket[column] for ticket in valid_tickets]])]        \n",
    "        potential_fields[field_name] = potential_locs\n",
    "    \n",
    "    # Process of elimination: one col will only be valid for one field, then cross them off from there\n",
    "    actual_fields = map_fields_to_cols(potential_fields)\n",
    "    \n",
    "    # Finally, get the departure values and multiple them together\n",
    "    departure_cols = [field[1] for field in actual_fields.items() if \"departure\" in field[0]]\n",
    "    departure_values = [value for (i, value) in enumerate(my_ticket) if i in departure_cols]\n",
    "         \n",
    "    return np.prod(departure_values)"
   ]
  },
  {
   "cell_type": "code",
   "execution_count": 17,
   "id": "82e7e56a",
   "metadata": {},
   "outputs": [
    {
     "data": {
      "text/plain": [
       "2766491048287"
      ]
     },
     "execution_count": 17,
     "metadata": {},
     "output_type": "execute_result"
    }
   ],
   "source": [
    "part2(valid_fields, other_tickets, my_ticket)"
   ]
  },
  {
   "cell_type": "code",
   "execution_count": null,
   "id": "f42aed1c",
   "metadata": {},
   "outputs": [],
   "source": []
  }
 ],
 "metadata": {
  "kernelspec": {
   "display_name": "Python 3 (ipykernel)",
   "language": "python",
   "name": "python3"
  },
  "language_info": {
   "codemirror_mode": {
    "name": "ipython",
    "version": 3
   },
   "file_extension": ".py",
   "mimetype": "text/x-python",
   "name": "python",
   "nbconvert_exporter": "python",
   "pygments_lexer": "ipython3",
   "version": "3.9.5"
  }
 },
 "nbformat": 4,
 "nbformat_minor": 5
}
