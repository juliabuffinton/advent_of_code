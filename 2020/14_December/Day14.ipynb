{
 "cells": [
  {
   "cell_type": "code",
   "execution_count": 1,
   "id": "80b18646",
   "metadata": {},
   "outputs": [],
   "source": [
    "import re\n",
    "from itertools import permutations, combinations_with_replacement"
   ]
  },
  {
   "cell_type": "markdown",
   "id": "ade054d3",
   "metadata": {},
   "source": [
    "# Parse Input"
   ]
  },
  {
   "cell_type": "code",
   "execution_count": 2,
   "id": "a53fc0fc",
   "metadata": {},
   "outputs": [],
   "source": [
    "with open(\"day14_input.txt\") as f:\n",
    "    puzzle_input = f.read().splitlines()"
   ]
  },
  {
   "cell_type": "markdown",
   "id": "aad68c9e",
   "metadata": {},
   "source": [
    "# Part 1"
   ]
  },
  {
   "cell_type": "markdown",
   "id": "7c2043eb",
   "metadata": {},
   "source": [
    "* Read in the mask (input starts with one so don't need to worry about initialization)\n",
    "* Create \"mem\" dictionary\n",
    "* At each line in the input, we either read into memory or update mask\n",
    "    * IF reading to memory:\n",
    "        * NUM : convert to binary with bin(integer) --> string\n",
    "        * NUM zero-pad to 36\n",
    "        * NUM apply mask (details TBD)\n",
    "            * for each non-X value in the mask, NUM[ix] = mask[ix]\n",
    "        * NUM convert back to integer int('str_num',2)\n",
    "        * update mem dictionary with new NUM (overwrite)\n",
    "    * IF updating mask:\n",
    "        * update mask variable\n",
    "* sum up all values stored in mem (sum(mem.values()))"
   ]
  },
  {
   "cell_type": "code",
   "execution_count": 3,
   "id": "3fb60ff7",
   "metadata": {},
   "outputs": [],
   "source": [
    "def initialize_docking_program(instructions):\n",
    "    \n",
    "    mask = 0 \n",
    "    mem = {} \n",
    "    \n",
    "    for instruction in instructions:\n",
    "        parts = instruction.split(\" = \")\n",
    "        \n",
    "        if parts[0] == \"mask\":\n",
    "            mask = parts[1]\n",
    "            \n",
    "        else:\n",
    "            # convert to binary & zero-pad\n",
    "            binary_num = bin(int(parts[1]))[2:].zfill(36)\n",
    "            \n",
    "            # apply mask\n",
    "            binary_num = \"\".join([msk if msk != \"X\" else num for num,msk in zip(list(binary_num), mask)])\n",
    "            \n",
    "            # figure out where to write it to memory; write it\n",
    "            mem_loc = re.search(\"[0-9]+\", parts[0]).group(0)\n",
    "            mem[mem_loc] = int(binary_num,2)\n",
    "        \n",
    "    return sum(mem.values())"
   ]
  },
  {
   "cell_type": "code",
   "execution_count": 4,
   "id": "6f156741",
   "metadata": {
    "scrolled": true
   },
   "outputs": [
    {
     "data": {
      "text/plain": [
       "6631883285184"
      ]
     },
     "execution_count": 4,
     "metadata": {},
     "output_type": "execute_result"
    }
   ],
   "source": [
    "initialize_docking_program(puzzle_input)"
   ]
  },
  {
   "cell_type": "markdown",
   "id": "6ec916aa",
   "metadata": {},
   "source": [
    "# Part 2"
   ]
  },
  {
   "cell_type": "markdown",
   "id": "cdc175bd",
   "metadata": {},
   "source": [
    "* Read in the mask (input starts with one so don't need to worry about initialization)\n",
    "* Create \"mem\" dictionary\n",
    "* At each line in the input, we either read into memory or update mask\n",
    "    * IF reading to memory:\n",
    "        * NUM : NO CHANGE\n",
    "        * MEM LOC: convert to binary + zero-pad to 36\n",
    "        * MEM LOC apply mask:\n",
    "            * get the number of Xs in the mask, need all permutations of 1,0 in those slots\n",
    "        * write NUM (overwrite) to mem[base-10-int] for each of those \n",
    "    * IF updating mask:\n",
    "        * update mask variable\n",
    "* sum up all values stored in mem (sum(mem.values()))"
   ]
  },
  {
   "cell_type": "code",
   "execution_count": 5,
   "id": "d211294b",
   "metadata": {},
   "outputs": [],
   "source": [
    "def generate_combos(n):\n",
    "    perms = set()\n",
    "    for combo in list(combinations_with_replacement([1,0], n)):\n",
    "        for perm in list(permutations(list(combo))):\n",
    "            perms.add(perm)\n",
    "\n",
    "    return perms"
   ]
  },
  {
   "cell_type": "code",
   "execution_count": 14,
   "id": "107ddfde",
   "metadata": {},
   "outputs": [],
   "source": [
    "def initialize_docking_program_2(instructions):\n",
    "    \n",
    "    mask = 0 \n",
    "    mem = {} \n",
    "    \n",
    "    for i,instruction in enumerate(instructions):\n",
    "        if i % 50 == 0: \n",
    "            print(f\"working on instruction {i}...\")\n",
    "        parts = instruction.split(\" = \")\n",
    "        \n",
    "        if parts[0] == \"mask\":\n",
    "            mask = list(parts[1])\n",
    "\n",
    "        else:\n",
    "            # save the number to write for later\n",
    "            num = int(parts[1])\n",
    "            \n",
    "            # convert to binary & zero-pad\n",
    "            mem_loc = re.search(\"[0-9]+\", parts[0]).group(0)\n",
    "            mem_loc = bin(int(mem_loc))[2:].zfill(36)\n",
    "            \n",
    "            # apply mask\n",
    "            mem_loc_w_mask = \"\".join([msk if msk != \"0\" else num for num,msk in zip(list(mem_loc), mask)])\n",
    "            \n",
    "            # generate all possible memory locations\n",
    "            xs = [ i for i in range(len(mem_loc_w_mask)) if mem_loc_w_mask[i] == 'X']\n",
    "        \n",
    "            combos = generate_combos(len(xs))\n",
    "            mem_locs = []\n",
    "            \n",
    "            for combo in combos:\n",
    "                new_mem_loc = \"\"\n",
    "            \n",
    "                for i,elem in enumerate(mem_loc_w_mask):\n",
    "                    if elem == \"X\":\n",
    "                        elem = str(combo[xs.index(i)])\n",
    "                        \n",
    "                    new_mem_loc = new_mem_loc + elem\n",
    "            \n",
    "                # write to memory\n",
    "                mem[int(new_mem_loc,2)] = num\n",
    "                    \n",
    "    return sum(mem.values())"
   ]
  },
  {
   "cell_type": "code",
   "execution_count": 15,
   "id": "8a2fd437",
   "metadata": {
    "scrolled": true
   },
   "outputs": [
    {
     "name": "stdout",
     "output_type": "stream",
     "text": [
      "working on instruction 0...\n",
      "working on instruction 50...\n",
      "working on instruction 100...\n",
      "working on instruction 150...\n",
      "working on instruction 200...\n",
      "working on instruction 250...\n",
      "working on instruction 300...\n",
      "working on instruction 350...\n",
      "working on instruction 400...\n",
      "working on instruction 450...\n",
      "working on instruction 500...\n",
      "working on instruction 550...\n"
     ]
    },
    {
     "data": {
      "text/plain": [
       "3161838538691"
      ]
     },
     "execution_count": 15,
     "metadata": {},
     "output_type": "execute_result"
    }
   ],
   "source": [
    "initialize_docking_program_2(puzzle_input)"
   ]
  }
 ],
 "metadata": {
  "kernelspec": {
   "display_name": "Python 3 (ipykernel)",
   "language": "python",
   "name": "python3"
  },
  "language_info": {
   "codemirror_mode": {
    "name": "ipython",
    "version": 3
   },
   "file_extension": ".py",
   "mimetype": "text/x-python",
   "name": "python",
   "nbconvert_exporter": "python",
   "pygments_lexer": "ipython3",
   "version": "3.9.5"
  }
 },
 "nbformat": 4,
 "nbformat_minor": 5
}
