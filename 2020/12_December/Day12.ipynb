{
 "cells": [
  {
   "cell_type": "markdown",
   "id": "047f163f",
   "metadata": {},
   "source": [
    "# Parse Input"
   ]
  },
  {
   "cell_type": "code",
   "execution_count": 60,
   "id": "735b9a8f",
   "metadata": {},
   "outputs": [],
   "source": [
    "with open(\"day12_input.txt\") as f:\n",
    "    puzzle_input = f.read().splitlines()"
   ]
  },
  {
   "cell_type": "markdown",
   "id": "968d5491",
   "metadata": {},
   "source": [
    "# Set up"
   ]
  },
  {
   "cell_type": "code",
   "execution_count": 61,
   "id": "7cac56b5",
   "metadata": {},
   "outputs": [],
   "source": [
    "# so we can iterate through them L -> R\n",
    "dirs = [\"N\", \"E\", \"S\", \"W\"]"
   ]
  },
  {
   "cell_type": "markdown",
   "id": "d1332e8f",
   "metadata": {},
   "source": [
    "# Part 1"
   ]
  },
  {
   "cell_type": "code",
   "execution_count": 62,
   "id": "924fe4a0",
   "metadata": {},
   "outputs": [],
   "source": [
    "def follow_instruction(instruction, curr_position, curr_orientation):\n",
    "    \n",
    "    mult = 1 # increase nums (N, E)\n",
    "    axis = 0 # x\n",
    "    turn_direction = 1 # 1 = Right\n",
    "    new_orientation = curr_orientation # Unless we turn it stays the same\n",
    "    \n",
    "    move_direction = instruction[0]\n",
    "    magnitude = int(instruction[1:])\n",
    "    \n",
    "    # Convert F, L, R to cardinal directions\n",
    "    if move_direction == \"F\":\n",
    "        move_direction = curr_orientation\n",
    "    if move_direction in [\"L\", \"R\"]:\n",
    "        if move_direction == \"L\": \n",
    "            turn_direction = -1\n",
    "            \n",
    "        new_orientation = dirs[(dirs.index(curr_orientation)+(turn_direction*int(magnitude/90))) % len(dirs)]\n",
    "        magnitude = 0 # Don't move, just turn\n",
    "    \n",
    "    # N/S is up/down; E/W is left/right    \n",
    "    if move_direction in [\"N\", \"S\"]:\n",
    "        axis = 1\n",
    "    if move_direction in [\"S\", \"W\"]:\n",
    "        mult = -1\n",
    "        \n",
    "    # Return new position and direction\n",
    "    curr_position[axis] = curr_position[axis] + mult*magnitude\n",
    "    return curr_position,new_orientation\n",
    "        "
   ]
  },
  {
   "cell_type": "code",
   "execution_count": 63,
   "id": "410d850e",
   "metadata": {},
   "outputs": [],
   "source": [
    "def follow_instructions(instructions, curr_position, curr_direction):\n",
    "    \n",
    "    for instruction in instructions:     \n",
    "        curr_position, curr_direction = follow_instruction(instruction, curr_position, curr_direction)\n",
    "    \n",
    "    return abs(curr_position[0]) + abs(curr_position[1])"
   ]
  },
  {
   "cell_type": "code",
   "execution_count": 64,
   "id": "32d1b0ac",
   "metadata": {
    "scrolled": true
   },
   "outputs": [
    {
     "data": {
      "text/plain": [
       "1457"
      ]
     },
     "execution_count": 64,
     "metadata": {},
     "output_type": "execute_result"
    }
   ],
   "source": [
    "follow_instructions(puzzle_input, [0,0], \"E\")"
   ]
  },
  {
   "cell_type": "markdown",
   "id": "0df308da",
   "metadata": {},
   "source": [
    "# Part 2"
   ]
  },
  {
   "cell_type": "code",
   "execution_count": 74,
   "id": "0daaa6ea",
   "metadata": {},
   "outputs": [],
   "source": [
    "def follow_instruction_w_waypoint(instruction, curr_position, wp_position):\n",
    "    \n",
    "    direction = 1 # 1 moves N,E; -1 moves S, W\n",
    "    axis = 0 # 0 = x axis; 1 = y-axis\n",
    "    \n",
    "    wp_move_direction = instruction[0]\n",
    "    wp_magnitude = int(instruction[1:])\n",
    "    \n",
    "    if wp_move_direction == \"F\": \n",
    "        curr_position = [x+(y * wp_magnitude) for x,y in zip(curr_position,wp_position)]\n",
    "    \n",
    "    elif wp_move_direction in [\"L\", \"R\"]:\n",
    "        if wp_move_direction == \"L\": \n",
    "            wp_magnitude = 360 - wp_magnitude\n",
    "            \n",
    "        # This could probably be cleaner\n",
    "        # 180 changes the signs\n",
    "        if wp_magnitude == 180:\n",
    "            wp_position = [-1 * coord for coord in wp_position]\n",
    "        \n",
    "        # 90/270 swaps and changes one sign\n",
    "        else:\n",
    "            wp_position = [wp_position[1], wp_position[0]]\n",
    "            if wp_magnitude == 90: \n",
    "                axis = 1\n",
    "            wp_position[axis] = wp_position[axis]*-1        \n",
    "        # 360 no change\n",
    "        \n",
    "    else:\n",
    "        # N/S is up/down; E/W is left/right    \n",
    "        if wp_move_direction in [\"N\", \"S\"]:\n",
    "            axis = 1\n",
    "        if wp_move_direction in [\"S\", \"W\"]:\n",
    "            direction = -1\n",
    "\n",
    "        # Return new position and direction\n",
    "        wp_position[axis] = wp_position[axis] + direction*wp_magnitude\n",
    "\n",
    "    return curr_position,wp_position\n",
    "    "
   ]
  },
  {
   "cell_type": "code",
   "execution_count": 75,
   "id": "d8b818f5",
   "metadata": {},
   "outputs": [],
   "source": [
    "def follow_instructions_w_waypoint(instructions, curr_position, wp_position):\n",
    "    \n",
    "    for instruction in instructions:       \n",
    "        curr_position, wp_position = follow_instruction_w_waypoint(instruction, curr_position, wp_position)\n",
    "     \n",
    "    return abs(curr_position[0]) + abs(curr_position[1])"
   ]
  },
  {
   "cell_type": "code",
   "execution_count": 76,
   "id": "62e5f111",
   "metadata": {},
   "outputs": [
    {
     "data": {
      "text/plain": [
       "106860"
      ]
     },
     "execution_count": 76,
     "metadata": {},
     "output_type": "execute_result"
    }
   ],
   "source": [
    "follow_instructions_w_waypoint(puzzle_input, [0,0], [10,1])"
   ]
  }
 ],
 "metadata": {
  "kernelspec": {
   "display_name": "Python 3 (ipykernel)",
   "language": "python",
   "name": "python3"
  },
  "language_info": {
   "codemirror_mode": {
    "name": "ipython",
    "version": 3
   },
   "file_extension": ".py",
   "mimetype": "text/x-python",
   "name": "python",
   "nbconvert_exporter": "python",
   "pygments_lexer": "ipython3",
   "version": "3.9.5"
  }
 },
 "nbformat": 4,
 "nbformat_minor": 5
}
