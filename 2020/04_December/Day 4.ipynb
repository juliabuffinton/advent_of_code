{
 "cells": [
  {
   "cell_type": "code",
   "execution_count": 12,
   "id": "6194bbf7",
   "metadata": {},
   "outputs": [],
   "source": [
    "import re"
   ]
  },
  {
   "cell_type": "markdown",
   "id": "92181be4",
   "metadata": {},
   "source": [
    "# Parse Input"
   ]
  },
  {
   "cell_type": "code",
   "execution_count": 13,
   "id": "a53e014c",
   "metadata": {},
   "outputs": [],
   "source": [
    "expected_fields = ['byr', 'iyr', 'eyr', 'hgt', 'hcl', 'ecl', 'pid', 'cid']"
   ]
  },
  {
   "cell_type": "code",
   "execution_count": 23,
   "id": "7e5a6f44",
   "metadata": {},
   "outputs": [],
   "source": [
    "with open(\"day4_input.txt\") as f:\n",
    "    puzzle_input = f.read().split(\"\\n\\n\")\n",
    "    puzzle_input = [x.replace(\"\\n\", \" \") for x in puzzle_input]"
   ]
  },
  {
   "cell_type": "code",
   "execution_count": 81,
   "id": "5cb4157a",
   "metadata": {},
   "outputs": [],
   "source": [
    "def parse_passport(passport):\n",
    "    passport = passport.split(\" \")\n",
    "    \n",
    "    return dict(map(lambda s : s.split(':'), passport))"
   ]
  },
  {
   "cell_type": "code",
   "execution_count": 82,
   "id": "425f761e",
   "metadata": {},
   "outputs": [],
   "source": [
    "passports = [parse_passport(x) for x in puzzle_input]"
   ]
  },
  {
   "cell_type": "markdown",
   "id": "3606a322",
   "metadata": {},
   "source": [
    "# Part 1"
   ]
  },
  {
   "cell_type": "code",
   "execution_count": 76,
   "id": "9b2d49e1",
   "metadata": {},
   "outputs": [],
   "source": [
    "def check_valid_passport(passport):\n",
    "    \n",
    "    # Gives empty set if everything is included\n",
    "    missing_fields = expected_fields - passport.keys()\n",
    "\n",
    "    return missing_fields in [set(),{\"cid\"}]"
   ]
  },
  {
   "cell_type": "code",
   "execution_count": 77,
   "id": "2f583e04",
   "metadata": {
    "scrolled": true
   },
   "outputs": [
    {
     "data": {
      "text/plain": [
       "206"
      ]
     },
     "execution_count": 77,
     "metadata": {},
     "output_type": "execute_result"
    }
   ],
   "source": [
    "sum([check_valid_passport(passport) for passport in passports])"
   ]
  },
  {
   "cell_type": "markdown",
   "id": "19fe6fb0",
   "metadata": {},
   "source": [
    "# Part 2"
   ]
  },
  {
   "cell_type": "markdown",
   "id": "8ad3f212",
   "metadata": {},
   "source": [
    "```byr (Birth Year) - four digits; at least 1920 and at most 2002.\n",
    "iyr (Issue Year) - four digits; at least 2010 and at most 2020.\n",
    "eyr (Expiration Year) - four digits; at least 2020 and at most 2030.\n",
    "hgt (Height) - a number followed by either cm or in:\n",
    "If cm, the number must be at least 150 and at most 193.\n",
    "If in, the number must be at least 59 and at most 76.\n",
    "hcl (Hair Color) - a # followed by exactly six characters 0-9 or a-f.\n",
    "ecl (Eye Color) - exactly one of: amb blu brn gry grn hzl oth.\n",
    "pid (Passport ID) - a nine-digit number, including leading zeroes.\n",
    "cid (Country ID) - ignored, missing or not.```"
   ]
  },
  {
   "cell_type": "code",
   "execution_count": 68,
   "id": "f416e4da",
   "metadata": {},
   "outputs": [],
   "source": [
    "def check_valid_passport2(passport):\n",
    "\n",
    "    def check_valid_num(num, lower, upper):\n",
    "        return num.isdigit() & (int(num) >= lower) & (int(num) <= upper)\n",
    "    \n",
    "    def check_height(height):\n",
    "        if re.match('[0-9]+cm|[0-9]+in', height):\n",
    "            num = re.search(\"[0-9]+\", height).group(0)\n",
    "            unit = re.search(\"[a-z]+\", height).group(0)\n",
    "\n",
    "            if unit == \"cm\": return check_valid_num(num, 150, 193)\n",
    "            if unit == \"in\": return check_valid_num(num, 59, 76)\n",
    "\n",
    "        return False\n",
    "    \n",
    "    if check_valid_passport(passport):\n",
    "\n",
    "        valid_byr = check_valid_num(passport[\"byr\"], 1920, 2002)\n",
    "        valid_iyr = check_valid_num(passport[\"iyr\"], 2010, 2020)\n",
    "        valid_eyr = check_valid_num(passport[\"eyr\"], 2020, 2030)  \n",
    "        valid_hgt = check_height(passport[\"hgt\"])\n",
    "        valid_hcl = bool(re.match('#[0-9a-f]{6}', passport[\"hcl\"]))\n",
    "        valid_ecl = passport[\"ecl\"] in [\"amb\",\"blu\",\"brn\",\"gry\",\"grn\",\"hzl\",\"oth\"]\n",
    "        valid_pid = bool(re.match(\"^[0-9]{9}$\", passport[\"pid\"])) # EXACTLY 9 chars\n",
    "\n",
    "        if valid_byr & valid_iyr & valid_eyr & valid_hgt & valid_hcl & valid_ecl & valid_pid:\n",
    "            return True\n",
    "    \n",
    "    return False"
   ]
  },
  {
   "cell_type": "code",
   "execution_count": 69,
   "id": "62e40113",
   "metadata": {},
   "outputs": [
    {
     "data": {
      "text/plain": [
       "123"
      ]
     },
     "execution_count": 69,
     "metadata": {},
     "output_type": "execute_result"
    }
   ],
   "source": [
    "sum([check_valid_passport2(passport) for passport in passports])"
   ]
  }
 ],
 "metadata": {
  "kernelspec": {
   "display_name": "Python 3 (ipykernel)",
   "language": "python",
   "name": "python3"
  },
  "language_info": {
   "codemirror_mode": {
    "name": "ipython",
    "version": 3
   },
   "file_extension": ".py",
   "mimetype": "text/x-python",
   "name": "python",
   "nbconvert_exporter": "python",
   "pygments_lexer": "ipython3",
   "version": "3.9.5"
  }
 },
 "nbformat": 4,
 "nbformat_minor": 5
}
