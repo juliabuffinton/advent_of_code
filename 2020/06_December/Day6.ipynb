{
 "cells": [
  {
   "cell_type": "markdown",
   "metadata": {},
   "source": [
    "# Imports"
   ]
  },
  {
   "cell_type": "code",
   "execution_count": null,
   "metadata": {},
   "outputs": [],
   "source": [
    "from collections import Counter"
   ]
  },
  {
   "cell_type": "markdown",
   "metadata": {},
   "source": [
    "# Open Input"
   ]
  },
  {
   "cell_type": "code",
   "execution_count": null,
   "metadata": {},
   "outputs": [],
   "source": [
    "with open('day6_input.txt') as f:\n",
    "    # Reading it in and splitting on empty lines makes it easier to do groups\n",
    "    puzzle_input = f.read().split(\"\\n\\n\")"
   ]
  },
  {
   "cell_type": "markdown",
   "metadata": {},
   "source": [
    "# Part 1"
   ]
  },
  {
   "cell_type": "code",
   "execution_count": null,
   "metadata": {},
   "outputs": [],
   "source": [
    "# Split the input into characters which each represent a question\n",
    "# And use sets to count how many unique questions are in each group\n",
    "# And clean up the within-group line breaks\n",
    "cleaned_input = [x.replace(\"\\n\", \"\") for x in puzzle_input]\n",
    "unique_questions_per_group = [set([char for char in x]) for x in cleaned_input]"
   ]
  },
  {
   "cell_type": "code",
   "execution_count": null,
   "metadata": {},
   "outputs": [],
   "source": [
    "# Sum the counts\n",
    "sum([len(x) for x in unique_questions_per_group])"
   ]
  },
  {
   "cell_type": "markdown",
   "metadata": {},
   "source": [
    "# Part 2 "
   ]
  },
  {
   "cell_type": "code",
   "execution_count": null,
   "metadata": {},
   "outputs": [],
   "source": [
    "# Get the size of each group\n",
    "group_size = [x.count(\"\\n\")+1 for x in puzzle_input]"
   ]
  },
  {
   "cell_type": "code",
   "execution_count": null,
   "metadata": {},
   "outputs": [],
   "source": [
    "# Then make a counter of each question\n",
    "question_counts = [Counter(x.replace(\"\\n\",\"\")) for x in puzzle_input]\n",
    "\n",
    "# And only keep the questions with count == size\n",
    "# This is definitely sloppy\n",
    "for i, quests in enumerate(question_counts):\n",
    "    question_counts[i] = {x: count for x, count in quests.items() if count == group_size[i]}"
   ]
  },
  {
   "cell_type": "code",
   "execution_count": null,
   "metadata": {},
   "outputs": [],
   "source": [
    "# Then count how many questions are left\n",
    "sum([len(x) for x in question_counts])"
   ]
  }
 ],
 "metadata": {
  "kernelspec": {
   "display_name": "Python 3",
   "language": "python",
   "name": "python3"
  },
  "language_info": {
   "codemirror_mode": {
    "name": "ipython",
    "version": 3
   },
   "file_extension": ".py",
   "mimetype": "text/x-python",
   "name": "python",
   "nbconvert_exporter": "python",
   "pygments_lexer": "ipython3",
   "version": "3.7.3"
  }
 },
 "nbformat": 4,
 "nbformat_minor": 4
}
