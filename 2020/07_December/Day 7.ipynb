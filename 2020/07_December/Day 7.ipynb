{
 "cells": [
  {
   "cell_type": "markdown",
   "id": "326b2694",
   "metadata": {},
   "source": [
    "# Read and Parse Input"
   ]
  },
  {
   "cell_type": "code",
   "execution_count": 1,
   "id": "b234c04a",
   "metadata": {},
   "outputs": [],
   "source": [
    "with open(\"day7_input.txt\") as f:\n",
    "    puzzle_input = f.read().splitlines()"
   ]
  },
  {
   "cell_type": "code",
   "execution_count": 2,
   "id": "224f34cc",
   "metadata": {},
   "outputs": [],
   "source": [
    "def parse_bag_rule(rule):\n",
    "    \n",
    "    bag, contents = rule.split(\" bags contain \")\n",
    "    contents = contents.split(\",\")\n",
    "\n",
    "    content_dict = {}\n",
    "\n",
    "    if \"no other\" in contents[0]:\n",
    "        return bag, {}\n",
    "    else:\n",
    "        for bag_name in contents:\n",
    "\n",
    "            bag_parts = bag_name.split()\n",
    "\n",
    "            bag_name = \" \".join(bag_parts[1:-1])\n",
    "            bag_count = int(bag_parts[0])\n",
    "\n",
    "            content_dict[bag_name] = bag_count\n",
    "   \n",
    "        return bag, content_dict"
   ]
  },
  {
   "cell_type": "code",
   "execution_count": 3,
   "id": "4a39d7f9",
   "metadata": {},
   "outputs": [],
   "source": [
    "rules = {}\n",
    "for rule in puzzle_input:\n",
    "    bag, contains = parse_bag_rule(rule)\n",
    "    rules[bag] = contains"
   ]
  },
  {
   "cell_type": "markdown",
   "id": "aa656202",
   "metadata": {},
   "source": [
    "# Part 1"
   ]
  },
  {
   "cell_type": "code",
   "execution_count": 4,
   "id": "f56eaeb6",
   "metadata": {},
   "outputs": [],
   "source": [
    "def find_bag_in_bags(bag_rules, parent_bag):\n",
    "    \n",
    "    shiny_gold_found = False\n",
    "    \n",
    "    contents = bag_rules[parent_bag]\n",
    "\n",
    "    for bag in contents:\n",
    "        if bag == \"shiny gold\":\n",
    "            shiny_gold_found = True\n",
    "        \n",
    "        # Assumption: shiny gold bags can't contain shiny gold bags\n",
    "        else:\n",
    "            shiny_gold_found = shiny_gold_found or find_bag_in_bags(bag_rules, bag)\n",
    "    return shiny_gold_found"
   ]
  },
  {
   "cell_type": "code",
   "execution_count": 5,
   "id": "87b71df3",
   "metadata": {},
   "outputs": [],
   "source": [
    "def find_all_parent_bags(rules):\n",
    "    \n",
    "    count = 0\n",
    "    \n",
    "    for rule in rules:\n",
    "        if find_bag_in_bags(rules,rule):\n",
    "            count += 1\n",
    "            \n",
    "    return count"
   ]
  },
  {
   "cell_type": "code",
   "execution_count": 6,
   "id": "9af172a3",
   "metadata": {},
   "outputs": [
    {
     "data": {
      "text/plain": [
       "148"
      ]
     },
     "execution_count": 6,
     "metadata": {},
     "output_type": "execute_result"
    }
   ],
   "source": [
    "find_all_parent_bags(rules)"
   ]
  },
  {
   "cell_type": "markdown",
   "id": "1baabd3d",
   "metadata": {},
   "source": [
    "# Part 2"
   ]
  },
  {
   "cell_type": "code",
   "execution_count": 7,
   "id": "40f09f16",
   "metadata": {},
   "outputs": [],
   "source": [
    "def count_all_sub_bags(bag_rules,parent_bag):\n",
    "    \n",
    "    total_bags = 0\n",
    "    \n",
    "    contents = bag_rules[parent_bag]\n",
    "    \n",
    "    if contents:\n",
    "        for bag in contents:\n",
    "            # Need to count the top level bag(s) and everything each of them contains\n",
    "            total_bags += (contents[bag] + (contents[bag] * count_all_sub_bags(bag_rules,bag)))\n",
    "\n",
    "    return total_bags"
   ]
  },
  {
   "cell_type": "code",
   "execution_count": 8,
   "id": "304235cd",
   "metadata": {},
   "outputs": [
    {
     "data": {
      "text/plain": [
       "24867"
      ]
     },
     "execution_count": 8,
     "metadata": {},
     "output_type": "execute_result"
    }
   ],
   "source": [
    "count_all_sub_bags(rules,\"shiny gold\")"
   ]
  }
 ],
 "metadata": {
  "kernelspec": {
   "display_name": "Python 3 (ipykernel)",
   "language": "python",
   "name": "python3"
  },
  "language_info": {
   "codemirror_mode": {
    "name": "ipython",
    "version": 3
   },
   "file_extension": ".py",
   "mimetype": "text/x-python",
   "name": "python",
   "nbconvert_exporter": "python",
   "pygments_lexer": "ipython3",
   "version": "3.9.5"
  }
 },
 "nbformat": 4,
 "nbformat_minor": 5
}
