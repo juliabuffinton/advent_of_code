{
 "cells": [
  {
   "cell_type": "markdown",
   "metadata": {},
   "source": [
    "# Part 1"
   ]
  },
  {
   "cell_type": "code",
   "execution_count": 1,
   "metadata": {},
   "outputs": [],
   "source": [
    "from collections import defaultdict\n",
    "import heapq as heap\n",
    "import sys\n",
    "import numpy as np"
   ]
  },
  {
   "cell_type": "code",
   "execution_count": 2,
   "metadata": {},
   "outputs": [],
   "source": [
    "def read_input(puzzle_input):\n",
    "\n",
    "    with open(puzzle_input) as f:\n",
    "        puzzle_input = f.read().splitlines()\n",
    "        \n",
    "    puzzle_input = [[int(x) for x in list(row)] for row in puzzle_input]\n",
    "        \n",
    "    return puzzle_input"
   ]
  },
  {
   "cell_type": "code",
   "execution_count": 3,
   "metadata": {},
   "outputs": [],
   "source": [
    "def find_adjacent_nodes(point, width, height):\n",
    "    \n",
    "    adjacent_nodes = []\n",
    "    \n",
    "    x,y = point\n",
    "    \n",
    "    # Find all adjacent horizontal nodes\n",
    "    if (x != 0):\n",
    "        adjacent_nodes.append((x-1,y))\n",
    "\n",
    "    if (x != width):\n",
    "        adjacent_nodes.append((x+1,y)) \n",
    "\n",
    "    # Now check vertical adjacency\n",
    "    if (y != 0):\n",
    "        adjacent_nodes.append((x,y-1))\n",
    "\n",
    "    if (y != height):\n",
    "        adjacent_nodes.append((x,y+1))\n",
    "        \n",
    "    return adjacent_nodes"
   ]
  },
  {
   "cell_type": "code",
   "execution_count": 4,
   "metadata": {},
   "outputs": [],
   "source": [
    "# h/t to https://levelup.gitconnected.com/dijkstra-algorithm-in-python-8f0e75e3f16e\n",
    "def dijkstra(nodes, start, width, height):\n",
    "        \n",
    "    visited = set()\n",
    "    prev_node ={}\n",
    "    path_costs = defaultdict(lambda: sys.maxsize)\n",
    "    to_visit = []\n",
    "\n",
    "    # Starting node\n",
    "    path_costs[start] = 0\n",
    "    heap.heappush(to_visit, (0, start))\n",
    "    \n",
    "    # While we've still got nodes to visit\n",
    "    while to_visit:\n",
    "        \n",
    "        # Mark node as visited\n",
    "        cost, node = heap.heappop(to_visit)\n",
    "        visited.add(node)      \n",
    "        \n",
    "        adj_nodes = find_adjacent_nodes(node,width,height)    \n",
    "    \n",
    "        for adj_node in adj_nodes:\n",
    "            if adj_node not in visited:\n",
    "                \n",
    "                curr_cost = path_costs[adj_node]\n",
    "                new_cost = path_costs[node] + nodes[adj_node[0]][adj_node[1]]\n",
    "                \n",
    "                if new_cost < curr_cost:\n",
    "                    prev_node[adj_node] = node\n",
    "                    path_costs[adj_node] = new_cost              \n",
    "                    heap.heappush(to_visit, (new_cost, adj_node))  \n",
    "        \n",
    "    return path_costs "
   ]
  },
  {
   "cell_type": "code",
   "execution_count": 5,
   "metadata": {},
   "outputs": [],
   "source": [
    "def calc_new_node(node, row_increase, col_increase):\n",
    "    new_node = node+row_increase+col_increase\n",
    "    \n",
    "    if new_node > 9:\n",
    "        new_node -= 9\n",
    "    return new_node\n",
    "\n",
    "def enlarge_map(nodes,multiplier):\n",
    "    \n",
    "    # Build this row by row\n",
    "    new_map = []\n",
    "    \n",
    "    # Repeat map 5 times\n",
    "    for row_increase in range(multiplier):\n",
    "            \n",
    "        for row in nodes:\n",
    "            new_row = []\n",
    "            # Repeat map 5x\n",
    "            for col_increase in range(multiplier):\n",
    "                new_row = new_row + [calc_new_node(node, row_increase, col_increase) for node in row]\n",
    "        \n",
    "            new_map.append(new_row)\n",
    "\n",
    "    return new_map"
   ]
  },
  {
   "cell_type": "code",
   "execution_count": 6,
   "metadata": {},
   "outputs": [],
   "source": [
    "def find_shortest_path(puzzle_input,multiplier=1):\n",
    "    \n",
    "    nodes = read_input(puzzle_input)\n",
    "    nodes = enlarge_map(nodes,multiplier)\n",
    "    # Get size of graph\n",
    "    width = len(nodes[0]) - 1 \n",
    "    height = len(nodes) - 1\n",
    "    \n",
    "    start = (0,0)\n",
    "    \n",
    "    paths = dijkstra(nodes, start, width, height)\n",
    "\n",
    "    return paths[(width,height)]\n",
    "    "
   ]
  },
  {
   "cell_type": "code",
   "execution_count": 7,
   "metadata": {},
   "outputs": [
    {
     "data": {
      "text/plain": [
       "410"
      ]
     },
     "execution_count": 7,
     "metadata": {},
     "output_type": "execute_result"
    }
   ],
   "source": [
    "find_shortest_path(\"puzzle_input.txt\")"
   ]
  },
  {
   "cell_type": "markdown",
   "metadata": {},
   "source": [
    "# Part 2"
   ]
  },
  {
   "cell_type": "code",
   "execution_count": 8,
   "metadata": {
    "scrolled": true
   },
   "outputs": [
    {
     "data": {
      "text/plain": [
       "2809"
      ]
     },
     "execution_count": 8,
     "metadata": {},
     "output_type": "execute_result"
    }
   ],
   "source": [
    "find_shortest_path(\"puzzle_input.txt\",5)"
   ]
  }
 ],
 "metadata": {
  "kernelspec": {
   "display_name": "Python 3",
   "language": "python",
   "name": "python3"
  },
  "language_info": {
   "codemirror_mode": {
    "name": "ipython",
    "version": 3
   },
   "file_extension": ".py",
   "mimetype": "text/x-python",
   "name": "python",
   "nbconvert_exporter": "python",
   "pygments_lexer": "ipython3",
   "version": "3.7.3"
  }
 },
 "nbformat": 4,
 "nbformat_minor": 4
}
