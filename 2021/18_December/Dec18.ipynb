{
 "cells": [
  {
   "cell_type": "markdown",
   "metadata": {},
   "source": [
    "# Part 1"
   ]
  },
  {
   "cell_type": "code",
   "execution_count": 4,
   "metadata": {},
   "outputs": [],
   "source": [
    "import math"
   ]
  },
  {
   "cell_type": "code",
   "execution_count": 3,
   "metadata": {},
   "outputs": [],
   "source": [
    "def parse_lists(numbers):\n",
    "    \n",
    "    depth = 0\n",
    "    parsed = [] # Need to maintain order \n",
    "    \n",
    "    def parse(numbers,parsed,depth):\n",
    "        \n",
    "        for number in numbers:            \n",
    "            if isinstance(number,int):\n",
    "                parsed.append((number,depth))\n",
    "            else:\n",
    "                parse(number,parsed,depth+1)\n",
    "        \n",
    "        return numbers,parsed,depth\n",
    "        \n",
    "    numbers, parsed, depth = parse(numbers,parsed,depth)\n",
    "    return parsed"
   ]
  },
  {
   "cell_type": "code",
   "execution_count": 7,
   "metadata": {},
   "outputs": [],
   "source": [
    "def split(numbers,ix_to_split):\n",
    "    \n",
    "    split_val,split_depth = numbers[ix_to_split]\n",
    "    \n",
    "    half = split_val / 2\n",
    "    new_l = math.floor(half)\n",
    "    new_r = math.ceil(half)\n",
    "    \n",
    "    # Remove the old one and \n",
    "    # insert the new ones down one level\n",
    "    numbers.insert(ix_to_split+1, (new_l,split_depth+1))\n",
    "    numbers.insert(ix_to_split+2, (new_r,split_depth+1))\n",
    "    numbers.remove(numbers[ix_to_split])\n",
    "    \n",
    "    return numbers"
   ]
  },
  {
   "cell_type": "code",
   "execution_count": 8,
   "metadata": {},
   "outputs": [],
   "source": [
    "def parse_input(puzzle_input):\n",
    "    with open(puzzle_input) as f:\n",
    "        puzzle_input = [parse_lists(eval(x)) for x in f.read().splitlines()]\n",
    "    return puzzle_input"
   ]
  },
  {
   "cell_type": "code",
   "execution_count": 2,
   "metadata": {},
   "outputs": [
    {
     "data": {
      "text/plain": [
       "0.0"
      ]
     },
     "execution_count": 2,
     "metadata": {},
     "output_type": "execute_result"
    }
   ],
   "source": [
    "0 / 1"
   ]
  },
  {
   "cell_type": "code",
   "execution_count": 9,
   "metadata": {},
   "outputs": [],
   "source": [
    "puzzle_input = parse_input('puzzle_input.txt')"
   ]
  },
  {
   "cell_type": "code",
   "execution_count": null,
   "metadata": {
    "scrolled": true
   },
   "outputs": [],
   "source": [
    "# add_and_reduce(\"puzzle_input.txt\")"
   ]
  },
  {
   "cell_type": "markdown",
   "metadata": {},
   "source": [
    "```\n",
    "To check whether it's the right answer, the snailfish teacher only checks the magnitude of the final sum. The magnitude of a pair is 3 times the magnitude of its left element plus 2 times the magnitude of its right element. The magnitude of a regular number is just that number.\n",
    "\n",
    "For example, the magnitude of [9,1] is 3*9 + 2*1 = 29; the magnitude of [1,9] is 3*1 + 2*9 = 21. Magnitude calculations are recursive: the magnitude of [[9,1],[1,9]] is 3*29 + 2*21 = 129.\n",
    "    ```"
   ]
  },
  {
   "cell_type": "code",
   "execution_count": null,
   "metadata": {},
   "outputs": [],
   "source": [
    "# def parse_lists(numbers):\n",
    "    \n",
    "#     depth = 0\n",
    "#     parsed = [] # Need to maintain order \n",
    "    \n",
    "#     def parse(numbers,parsed,depth):\n",
    "        \n",
    "#         for number in numbers:            \n",
    "#             if isinstance(number,int):\n",
    "#                 parsed.append((number,depth))\n",
    "#             else:\n",
    "#                 parse(number,parsed,depth+1)\n",
    "        \n",
    "#         return numbers,parsed,depth\n",
    "        \n",
    "#     numbers, parsed, depth = parse(numbers,parsed,depth)\n",
    "#     return parsed"
   ]
  },
  {
   "cell_type": "code",
   "execution_count": 5,
   "metadata": {
    "scrolled": true
   },
   "outputs": [
    {
     "data": {
      "text/plain": [
       "[(9, 1), (1, 1), (1, 1), (9, 1)]"
      ]
     },
     "execution_count": 5,
     "metadata": {},
     "output_type": "execute_result"
    }
   ],
   "source": [
    "# But if there's a bunch of even stuff..\n",
    "# Need to maintain the order\n",
    "sorted(parse_lists([[9,1],[1,9]]), key=lambda x: x[1])"
   ]
  },
  {
   "cell_type": "code",
   "execution_count": 36,
   "metadata": {},
   "outputs": [],
   "source": [
    "# def magnitude(reduced):\n",
    "    \n",
    "#     total_magnitude = 0\n",
    "#     mags = []\n",
    "#     print(reduced)\n",
    "#     running_level = reduced[0][1]\n",
    "    \n",
    "#     def calc_magnitude(reduced,mags):\n",
    "        \n",
    "#         # If we found a pair\n",
    "#             print(reduced)\n",
    "#             if reduced[0][1] == reduced[1][1]:\n",
    "#                 print(\"hello\")\n",
    "# #                 total_magnitude += 3*reduced[0][1] + 2*reduced[1][1]\n",
    "#                 mags.append((3*reduced[0][1] + 2*reduced[1][1]))\n",
    "#                 calc_magnitude(reduced[2:],mags)\n",
    "#             else:\n",
    "#                 calc_magnitude(reduced[2:],mags)\n",
    "           \n",
    "#     reduced,mags = calc_magnitude(reduced,mags)\n",
    "\n",
    "#     return mags\n",
    "# #         return "
   ]
  },
  {
   "cell_type": "code",
   "execution_count": 34,
   "metadata": {},
   "outputs": [],
   "source": [
    "# magnitude(parse_lists([[9,1],[1,9]]))"
   ]
  },
  {
   "cell_type": "code",
   "execution_count": 18,
   "metadata": {
    "scrolled": false
   },
   "outputs": [
    {
     "data": {
      "text/plain": [
       "[(7, 3),\n",
       " (7, 3),\n",
       " (8, 3),\n",
       " (8, 3),\n",
       " (0, 3),\n",
       " (8, 3),\n",
       " (9, 3),\n",
       " (8, 3),\n",
       " (9, 2),\n",
       " (3, 2),\n",
       " (8, 2),\n",
       " (2, 3),\n",
       " (6, 3)]"
      ]
     },
     "execution_count": 18,
     "metadata": {},
     "output_type": "execute_result"
    }
   ],
   "source": [
    "add_and_reduce(\"puzzle_input.txt\")"
   ]
  },
  {
   "cell_type": "code",
   "execution_count": null,
   "metadata": {},
   "outputs": [],
   "source": []
  },
  {
   "cell_type": "code",
   "execution_count": 17,
   "metadata": {},
   "outputs": [],
   "source": [
    "def add_and_reduce(puzzle_input):\n",
    "    \n",
    "    puzzle_input = parse_input(puzzle_input)\n",
    "    \n",
    "    curr_num = puzzle_input.pop(0) \n",
    "    \n",
    "    # Go until we've fully reduced to one\n",
    "    while puzzle_input:\n",
    "        try_to_reduce = True\n",
    "\n",
    "        next_num = puzzle_input.pop(0)\n",
    "#         print(\"Running number\",curr_num)\n",
    "#         print(\"Next number\",next_num)\n",
    "#         print()\n",
    "#         print(\"**********************************\")\n",
    "        curr_num = add(curr_num,next_num)\n",
    "\n",
    "        while try_to_reduce:\n",
    "            curr_num, try_to_reduce = reduce_2(curr_num)\n",
    "            \n",
    "#         puzzle_input = []\n",
    "    return curr_num"
   ]
  },
  {
   "cell_type": "code",
   "execution_count": 12,
   "metadata": {},
   "outputs": [],
   "source": [
    "def add(num1,num2):\n",
    "    \n",
    "    def reduce_depths(num):\n",
    "        return [(x[0],x[1]+1) for x in num]\n",
    "    \n",
    "    new_num1 = reduce_depths(num1)\n",
    "    new_num2 = reduce_depths(num2)\n",
    "     \n",
    "    return new_num1 + new_num2"
   ]
  },
  {
   "cell_type": "code",
   "execution_count": 13,
   "metadata": {},
   "outputs": [],
   "source": [
    "def reduce_2(parsed_numbers):\n",
    "#     print()\n",
    "#     print(\"Reducing..\",parsed_numbers)\n",
    "    \n",
    "    depths = [x[1] for x in parsed_numbers]\n",
    "    if 4 in depths:\n",
    "        parsed_numbers = explode(parsed_numbers,depths.index(4))\n",
    "        return parsed_numbers,True\n",
    "    \n",
    "    big_nums = [True if x[0]>9 else False for x in parsed_numbers]\n",
    "    if True in big_nums:\n",
    "        parsed_numbers = split(parsed_numbers,big_nums.index(True))\n",
    "        return parsed_numbers,True \n",
    "    \n",
    "    return parsed_numbers,False"
   ]
  },
  {
   "cell_type": "code",
   "execution_count": 14,
   "metadata": {},
   "outputs": [],
   "source": [
    "def reduce(parsed_numbers):\n",
    "    print()\n",
    "    print(\"Reducing..\",parsed_numbers)\n",
    "\n",
    "            \n",
    "    for i,number in enumerate(parsed_numbers):\n",
    "        if number[1] > 3:\n",
    "            print(f\"too deep! at {i} Exploding...\")\n",
    "            parsed_numbers = explode(parsed_numbers,i)\n",
    "#             print(\"Post-explosion\",parsed_numbers)\n",
    "            return parsed_numbers,True\n",
    "        if number[0] > 9:\n",
    "            print(f\"num too big! at {i} Splitting...\")\n",
    "            \n",
    "            parsed_numbers = split(parsed_numbers,i)\n",
    "#             print(\"Post-split\",parsed_numbers)\n",
    "            return parsed_numbers,True\n",
    "    \n",
    "    return parsed_numbers,False"
   ]
  },
  {
   "cell_type": "code",
   "execution_count": 15,
   "metadata": {},
   "outputs": [],
   "source": [
    "def explode(numbers,ix_to_explode):\n",
    "    \n",
    "    to_explode_l = numbers[ix_to_explode]\n",
    "    to_explode_r = numbers[ix_to_explode+1]\n",
    "            \n",
    "    if ix_to_explode > 0:  \n",
    "        neighbor_l = numbers[ix_to_explode-1]\n",
    "        numbers[ix_to_explode-1] = (to_explode_l[0]+neighbor_l[0],neighbor_l[1])\n",
    "\n",
    "    if ix_to_explode < len(numbers)-2:\n",
    "        neighbor_r = numbers[ix_to_explode+2]\n",
    "        numbers[ix_to_explode+2] = (to_explode_r[0]+neighbor_r[0],neighbor_r[1])\n",
    "    \n",
    "    numbers[ix_to_explode] = (0,to_explode_l[1]-1)\n",
    "\n",
    "    numbers.remove(numbers[ix_to_explode+1])\n",
    "\n",
    "    return numbers"
   ]
  },
  {
   "cell_type": "code",
   "execution_count": 13,
   "metadata": {
    "scrolled": true
   },
   "outputs": [],
   "source": [
    "# do_math([[6,[5,[4,[3,2]]]],1])"
   ]
  },
  {
   "cell_type": "code",
   "execution_count": null,
   "metadata": {},
   "outputs": [],
   "source": [
    "# do_math([[[[[9,8],1],2],3],4])"
   ]
  },
  {
   "cell_type": "code",
   "execution_count": null,
   "metadata": {
    "scrolled": false
   },
   "outputs": [],
   "source": [
    "# do_math([7,[6,[5,[4,[3,2]]]]])"
   ]
  },
  {
   "cell_type": "code",
   "execution_count": null,
   "metadata": {},
   "outputs": [],
   "source": [
    "# do_math([[3,[2,[1,[7,3]]]],[6,[5,[4,[3,2]]]]])"
   ]
  },
  {
   "cell_type": "code",
   "execution_count": null,
   "metadata": {},
   "outputs": [],
   "source": []
  }
 ],
 "metadata": {
  "kernelspec": {
   "display_name": "Python 3 (ipykernel)",
   "language": "python",
   "name": "python3"
  },
  "language_info": {
   "codemirror_mode": {
    "name": "ipython",
    "version": 3
   },
   "file_extension": ".py",
   "mimetype": "text/x-python",
   "name": "python",
   "nbconvert_exporter": "python",
   "pygments_lexer": "ipython3",
   "version": "3.9.5"
  }
 },
 "nbformat": 4,
 "nbformat_minor": 2
}
