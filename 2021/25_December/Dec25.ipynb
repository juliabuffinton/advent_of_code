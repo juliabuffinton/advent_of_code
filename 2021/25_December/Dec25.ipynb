{
 "cells": [
  {
   "cell_type": "markdown",
   "id": "d24e1c60",
   "metadata": {},
   "source": [
    "# Part 1"
   ]
  },
  {
   "cell_type": "code",
   "execution_count": 1,
   "id": "0ba54df7",
   "metadata": {},
   "outputs": [],
   "source": [
    "import numpy as np"
   ]
  },
  {
   "cell_type": "code",
   "execution_count": 2,
   "id": "5f656fa1",
   "metadata": {},
   "outputs": [],
   "source": [
    "def parse_input(puzzle_input):\n",
    "    with open(puzzle_input) as f:\n",
    "        puzzle_input = f.read().splitlines()\n",
    "        puzzle_input = np.array([[x for x in line] for line in puzzle_input])\n",
    "\n",
    "    return puzzle_input"
   ]
  },
  {
   "cell_type": "code",
   "execution_count": 109,
   "id": "fab03a35",
   "metadata": {},
   "outputs": [],
   "source": [
    "def move_east(puzzle_input):\n",
    "    \n",
    "    num_rows = len(puzzle_input)\n",
    "    num_cols = len(puzzle_input[0])\n",
    "    \n",
    "    for row in range(num_rows):\n",
    "        col = 0\n",
    "        start_char = puzzle_input[row][col]\n",
    "\n",
    "        while col < num_cols:\n",
    "\n",
    "            cuke = puzzle_input[row][col]\n",
    "            if cuke == \">\":\n",
    "                next_col = (col+1) % num_cols\n",
    "\n",
    "                if next_col == 0:\n",
    "                    next_char = start_char\n",
    "                else:\n",
    "                    next_char = puzzle_input[row][next_col]\n",
    "                ## NEED TO HANDLE END OF ROW\n",
    "                if next_char == \".\":\n",
    "#                         print(f\"moving cuke from {col} to {next_col}\")\n",
    "                    puzzle_input[row][next_col] = \">\"\n",
    "                    puzzle_input[row][col] = \".\"\n",
    "\n",
    "                    col += 2\n",
    "                else:\n",
    "                    col += 1\n",
    "            else:\n",
    "                col +=1\n",
    "    return puzzle_input"
   ]
  },
  {
   "cell_type": "code",
   "execution_count": 110,
   "id": "c988fac1",
   "metadata": {},
   "outputs": [],
   "source": [
    "def move_south(puzzle_input):\n",
    "    # Iterating through top->bottom simulates moving simultaneously\n",
    "    num_rows = len(puzzle_input)\n",
    "    num_cols = len(puzzle_input[0])\n",
    "    \n",
    "    for col in range(num_cols):\n",
    "        row = 0\n",
    "        start_char = puzzle_input[row][col]\n",
    "\n",
    "        while row < num_rows:\n",
    "\n",
    "            cuke = puzzle_input[row][col]\n",
    "            if cuke == \"v\":\n",
    "                next_row = (row+1) % num_rows\n",
    "                ## NEED TO HANDLE END OF COL\n",
    "                if next_row == 0:\n",
    "                    next_char = start_char\n",
    "                else:\n",
    "                    next_char = puzzle_input[next_row][col]\n",
    "                \n",
    "                if next_char == \".\":\n",
    "#                     print(f\"moving cuke from {row} to {next_row}\")\n",
    "\n",
    "                    puzzle_input[next_row][col] = \"v\"\n",
    "                    puzzle_input[row][col] = \".\"\n",
    "                    row += 2\n",
    "                else:\n",
    "                    row += 1\n",
    "            else:\n",
    "                row +=1\n",
    "    return puzzle_input\n",
    "    "
   ]
  },
  {
   "cell_type": "code",
   "execution_count": 114,
   "id": "508c08b0",
   "metadata": {},
   "outputs": [],
   "source": [
    "def step(puzzle_input):\n",
    "    puzzle_input = puzzle_input.copy()\n",
    "    \n",
    "    puzzle_input = move_east(puzzle_input)\n",
    "    puzzle_input = move_south(puzzle_input)\n",
    "        \n",
    "    return puzzle_input"
   ]
  },
  {
   "cell_type": "code",
   "execution_count": 117,
   "id": "a98bed86",
   "metadata": {},
   "outputs": [],
   "source": [
    "def part1(puzzle_input_path):\n",
    "    \n",
    "    num_steps = 0\n",
    "    moves = 1000\n",
    "    old_grid = parse_input(puzzle_input_path)\n",
    "    new_grid = np.zeros(old_grid.shape) # Just to initialize\n",
    "    \n",
    "    while not np.array_equal(new_grid,old_grid):\n",
    "        if num_steps > 0:\n",
    "            old_grid = new_grid\n",
    "        \n",
    "        new_grid = step(old_grid)\n",
    "\n",
    "        num_steps += 1\n",
    "    return num_steps"
   ]
  },
  {
   "cell_type": "code",
   "execution_count": 118,
   "id": "2c21fb02",
   "metadata": {
    "scrolled": true
   },
   "outputs": [
    {
     "data": {
      "text/plain": [
       "432"
      ]
     },
     "execution_count": 118,
     "metadata": {},
     "output_type": "execute_result"
    }
   ],
   "source": [
    "part1('puzzle_input.txt')"
   ]
  }
 ],
 "metadata": {
  "kernelspec": {
   "display_name": "Python [conda env:aoc]",
   "language": "python",
   "name": "conda-env-aoc-py"
  },
  "language_info": {
   "codemirror_mode": {
    "name": "ipython",
    "version": 3
   },
   "file_extension": ".py",
   "mimetype": "text/x-python",
   "name": "python",
   "nbconvert_exporter": "python",
   "pygments_lexer": "ipython3",
   "version": "3.9.7"
  }
 },
 "nbformat": 4,
 "nbformat_minor": 5
}
