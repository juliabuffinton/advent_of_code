{
 "cells": [
  {
   "cell_type": "code",
   "execution_count": 1,
   "metadata": {},
   "outputs": [],
   "source": [
    "import pandas as pd\n",
    "import numpy as np\n",
    "from collections import Counter\n",
    "import math"
   ]
  },
  {
   "cell_type": "markdown",
   "metadata": {},
   "source": [
    "# Part 1"
   ]
  },
  {
   "cell_type": "code",
   "execution_count": 10,
   "metadata": {},
   "outputs": [],
   "source": [
    "def create_rule_dict(rules):\n",
    "    rules = [x.split(' -> ') for x in rules]\n",
    "    \n",
    "    # Convert mapping to the \"new\" sequences\n",
    "    # This'll make it easy to just look up in dict & replace\n",
    "    rule_dict = {}\n",
    "    empty_counter = Counter()\n",
    "    \n",
    "    for rule in rules:\n",
    "        starting_pair = rule[0]\n",
    "        inserted_char = rule[1]\n",
    "        \n",
    "        rule_dict[starting_pair] = (starting_pair[0]+inserted_char, inserted_char+starting_pair[1])\n",
    "        \n",
    "    return rule_dict"
   ]
  },
  {
   "cell_type": "code",
   "execution_count": 11,
   "metadata": {},
   "outputs": [],
   "source": [
    "def ingest_data(opened_text_file):\n",
    "    with open(opened_text_file) as f:\n",
    "        puzzle_input = f.read().splitlines()\n",
    "    \n",
    "    # Starting sequence and rules are separated by an empty line\n",
    "    starting_seq = puzzle_input[:puzzle_input.index('')][0]\n",
    "    rules = puzzle_input[puzzle_input.index('')+1:]\n",
    "    \n",
    "    rule_dict = create_rule_dict(rules)\n",
    "\n",
    "    return starting_seq, rule_dict"
   ]
  },
  {
   "cell_type": "code",
   "execution_count": 12,
   "metadata": {},
   "outputs": [],
   "source": [
    "def create_pairs_from_seq(seq):\n",
    "    # probs could be done with list comprehension\n",
    "    # But I'm struggling\n",
    "    \n",
    "    pairs = []\n",
    "    for i in range(len(seq)-1):      \n",
    "        pairs.append(seq[i]+seq[i+1])\n",
    "    \n",
    "    return pairs"
   ]
  },
  {
   "cell_type": "code",
   "execution_count": 13,
   "metadata": {},
   "outputs": [],
   "source": [
    "def pair_counts_to_char_counts(pair_counts):\n",
    "    \n",
    "    char_counts = Counter()\n",
    "    \n",
    "    for pair in pair_counts:\n",
    "        \n",
    "        # This double counts for now but we can fix later\n",
    "        char_counts[pair[0]] += pair_counts[pair] / 2\n",
    "        char_counts[pair[1]] += pair_counts[pair] / 2\n",
    "    \n",
    "    # Only round at the end\n",
    "    for char in char_counts:\n",
    "        char_counts[char] = math.ceil(char_counts[char])\n",
    "        \n",
    "    return char_counts"
   ]
  },
  {
   "cell_type": "code",
   "execution_count": 14,
   "metadata": {},
   "outputs": [],
   "source": [
    "def calc_score(char_counts):\n",
    "    \n",
    "    most_common_count = char_counts.most_common()[0][1]\n",
    "    least_common_count = char_counts.most_common()[-1][1]\n",
    "    \n",
    "    return most_common_count - least_common_count"
   ]
  },
  {
   "cell_type": "code",
   "execution_count": 17,
   "metadata": {},
   "outputs": [],
   "source": [
    "def polymerization(puzzle_input,num_steps):\n",
    "    \n",
    "    starting_seq, rule_dict = ingest_data(puzzle_input)\n",
    "    \n",
    "    # Initialize our counts based on the starting seq\n",
    "    pairs = create_pairs_from_seq(starting_seq)\n",
    "    counts = Counter(pairs)\n",
    "    \n",
    "    for step in range(num_steps):\n",
    "        new_counts = Counter()\n",
    "        \n",
    "        # look up outputs for each thing in our current counter\n",
    "        for pair in counts:\n",
    "            new_pair1, new_pair2 = rule_dict[pair]\n",
    "            new_counts.update({new_pair1:counts[pair],new_pair2:counts[pair]})\n",
    "        \n",
    "        counts = new_counts\n",
    "        \n",
    "    char_counts = pair_counts_to_char_counts(new_counts)\n",
    "\n",
    "    return calc_score(char_counts)"
   ]
  },
  {
   "cell_type": "code",
   "execution_count": 18,
   "metadata": {},
   "outputs": [
    {
     "data": {
      "text/plain": [
       "2988"
      ]
     },
     "execution_count": 18,
     "metadata": {},
     "output_type": "execute_result"
    }
   ],
   "source": [
    "polymerization('puzzle_input.txt',10)"
   ]
  },
  {
   "cell_type": "markdown",
   "metadata": {},
   "source": [
    "# Part 2"
   ]
  },
  {
   "cell_type": "code",
   "execution_count": 19,
   "metadata": {},
   "outputs": [
    {
     "data": {
      "text/plain": [
       "3572761917024"
      ]
     },
     "execution_count": 19,
     "metadata": {},
     "output_type": "execute_result"
    }
   ],
   "source": [
    "polymerization('puzzle_input.txt',40)"
   ]
  }
 ],
 "metadata": {
  "kernelspec": {
   "display_name": "Python 3",
   "language": "python",
   "name": "python3"
  },
  "language_info": {
   "codemirror_mode": {
    "name": "ipython",
    "version": 3
   },
   "file_extension": ".py",
   "mimetype": "text/x-python",
   "name": "python",
   "nbconvert_exporter": "python",
   "pygments_lexer": "ipython3",
   "version": "3.7.3"
  }
 },
 "nbformat": 4,
 "nbformat_minor": 4
}
