{
 "cells": [
  {
   "cell_type": "markdown",
   "metadata": {},
   "source": [
    "# Part 1"
   ]
  },
  {
   "cell_type": "markdown",
   "metadata": {},
   "source": [
    "--- Day 10: Syntax Scoring ---\n",
    "You ask the submarine to determine the best route out of the deep-sea cave, but it only replies:\n",
    "\n",
    "Syntax error in navigation subsystem on line: all of them\n",
    "All of them?! The damage is worse than you thought. You bring up a copy of the navigation subsystem (your puzzle input).\n",
    "\n",
    "The navigation subsystem syntax is made of several lines containing chunks. There are one or more chunks on each line, and chunks contain zero or more other chunks. Adjacent chunks are not separated by any delimiter; if one chunk stops, the next chunk (if any) can immediately start. Every chunk must open and close with one of four legal pairs of matching characters:\n",
    "```\n",
    "If a chunk opens with (, it must close with ).\n",
    "If a chunk opens with [, it must close with ].\n",
    "If a chunk opens with {, it must close with }.\n",
    "If a chunk opens with <, it must close with >.\n",
    "So, () is a legal chunk that contains no other chunks, as is []. More complex but valid chunks include ([]), {()()()}, <([{}])>, [<>({}){}[([])<>]], and even (((((((((()))))))))).\n",
    "```\n",
    "Some lines are incomplete, but others are corrupted. Find and discard the corrupted lines first.\n",
    "\n",
    "A corrupted line is one where a chunk closes with the wrong character - that is, where the characters it opens and closes with do not form one of the four legal pairs listed above.\n",
    "\n",
    "Examples of corrupted chunks include (], {()()()>, (((()))}, and <([]){()}[{}]). Such a chunk can appear anywhere within a line, and its presence causes the whole line to be considered corrupted.\n",
    "\n",
    "For example, consider the following navigation subsystem:\n",
    "```\n",
    "[({(<(())[]>[[{[]{<()<>>\n",
    "[(()[<>])]({[<{<<[]>>(\n",
    "{([(<{}[<>[]}>{[]{[(<()>\n",
    "(((({<>}<{<{<>}{[]{[]{}\n",
    "[[<[([]))<([[{}[[()]]]\n",
    "[{[{({}]{}}([{[{{{}}([]\n",
    "{<[[]]>}<{[{[{[]{()[[[]\n",
    "[<(<(<(<{}))><([]([]()\n",
    "<{([([[(<>()){}]>(<<{{\n",
    "<{([{{}}[<[[[<>{}]]]>[]]\n",
    "```\n",
    "Some of the lines aren't corrupted, just incomplete; you can ignore these lines for now. The remaining five lines are corrupted:\n",
    "```\n",
    "{([(<{}[<>[]}>{[]{[(<()> - Expected ], but found } instead.\n",
    "[[<[([]))<([[{}[[()]]] - Expected ], but found ) instead.\n",
    "[{[{({}]{}}([{[{{{}}([] - Expected ), but found ] instead.\n",
    "[<(<(<(<{}))><([]([]() - Expected >, but found ) instead.\n",
    "<{([([[(<>()){}]>(<<{{ - Expected ], but found > instead.\n",
    "```\n",
    "Stop at the first incorrect closing character on each corrupted line.\n",
    "\n",
    "Did you know that syntax checkers actually have contests to see who can get the high score for syntax errors in a file? It's true! To calculate the syntax error score for a line, take the first illegal character on the line and look it up in the following table:\n",
    "```\n",
    "): 3 points.\n",
    "]: 57 points.\n",
    "}: 1197 points.\n",
    ">: 25137 points.\n",
    "```\n",
    "In the above example, an illegal ) was found twice (2*3 = 6 points), an illegal ] was found once (57 points), an illegal } was found once (1197 points), and an illegal > was found once (25137 points). So, the total syntax error score for this file is 6+57+1197+25137 = 26397 points!\n",
    "\n",
    "Find the first illegal character in each corrupted line of the navigation subsystem. What is the total syntax error score for those errors?"
   ]
  },
  {
   "cell_type": "code",
   "execution_count": 7,
   "metadata": {},
   "outputs": [],
   "source": [
    "import pandas as pd\n",
    "import numpy as np"
   ]
  },
  {
   "cell_type": "code",
   "execution_count": 10,
   "metadata": {},
   "outputs": [
    {
     "data": {
      "text/plain": [
       "(98,)"
      ]
     },
     "execution_count": 10,
     "metadata": {},
     "output_type": "execute_result"
    }
   ],
   "source": [
    "with open('./dec10.txt') as f:\n",
    "    puzzle_input = [x.strip() for x in f.readlines()]\n",
    "\n",
    "puzzle_input_grid = [list(x) for x in puzzle_input]\n",
    "np.shape(puzzle_input_grid)\n"
   ]
  },
  {
   "cell_type": "code",
   "execution_count": 20,
   "metadata": {},
   "outputs": [
    {
     "data": {
      "text/plain": [
       "(10,)"
      ]
     },
     "execution_count": 20,
     "metadata": {},
     "output_type": "execute_result"
    }
   ],
   "source": [
    "with open('./dec10_test.txt') as f:\n",
    "    test_input = [x.strip() for x in f.readlines()]\n",
    "\n",
    "test_input_grid = [list(x) for x in test_input]\n",
    "np.shape(test_input_grid)"
   ]
  },
  {
   "cell_type": "code",
   "execution_count": 49,
   "metadata": {},
   "outputs": [],
   "source": [
    "opening_chars = ['[', '{', '<', '(']\n",
    "closing_chars = [']', '}', '>', ')']\n",
    "pairs = {\n",
    "    '<':'>',\n",
    "    '{':'}',\n",
    "    '[':']',\n",
    "    '(':')',\n",
    "}\n",
    "\n",
    "points = {\n",
    "    ')': 3,\n",
    "    ']': 57,\n",
    "    '}': 1197,\n",
    "    '>': 25137 \n",
    "}"
   ]
  },
  {
   "cell_type": "code",
   "execution_count": 69,
   "metadata": {},
   "outputs": [],
   "source": [
    "def syntax_checker(line):\n",
    "    \n",
    "    # Create a lifo stack\n",
    "    stack = []\n",
    "    \n",
    "    for char in line:\n",
    "        # Assumption: all chars are valid\n",
    "        \n",
    "        if char in opening_chars:\n",
    "            \n",
    "            # push\n",
    "            stack.append(char)\n",
    "        elif char in closing_chars:\n",
    "            # pop and check it's legit\n",
    "            popped = stack.pop()\n",
    "            \n",
    "            # If we found a syntax error\n",
    "            if pairs[popped] != char:\n",
    "                # Stop and return points for what we FOUND\n",
    "                return points[char]\n",
    "            \n",
    "        else:\n",
    "            print(\"error! Invalid character\")\n",
    "    return 0"
   ]
  },
  {
   "cell_type": "code",
   "execution_count": 70,
   "metadata": {
    "scrolled": true
   },
   "outputs": [],
   "source": [
    "def check_all_lines(lines):\n",
    "    \n",
    "    return [syntax_checker(line) for line in lines]"
   ]
  },
  {
   "cell_type": "code",
   "execution_count": 71,
   "metadata": {},
   "outputs": [
    {
     "data": {
      "text/plain": [
       "296535"
      ]
     },
     "execution_count": 71,
     "metadata": {},
     "output_type": "execute_result"
    }
   ],
   "source": [
    "sum(check_all_lines(puzzle_input_grid))"
   ]
  },
  {
   "cell_type": "markdown",
   "metadata": {},
   "source": [
    "# Part 2"
   ]
  },
  {
   "cell_type": "markdown",
   "metadata": {},
   "source": [
    "--- Part Two ---\n",
    "\n",
    "Now, discard the corrupted lines. The remaining lines are incomplete.\n",
    "\n",
    "Incomplete lines don't have any incorrect characters - instead, they're missing some closing characters at the end of the line. To repair the navigation subsystem, you just need to figure out the sequence of closing characters that complete all open chunks in the line.\n",
    "\n",
    "You can only use closing characters (), ], }, or >), and you must add them in the correct order so that only legal pairs are formed and all chunks end up closed.\n",
    "\n",
    "In the example above, there are five incomplete lines:\n",
    "```\n",
    "[({(<(())[]>[[{[]{<()<>> - Complete by adding }}]])})].\n",
    "[(()[<>])]({[<{<<[]>>( - Complete by adding )}>]}).\n",
    "(((({<>}<{<{<>}{[]{[]{} - Complete by adding }}>}>)))).\n",
    "{<[[]]>}<{[{[{[]{()[[[] - Complete by adding ]]}}]}]}>.\n",
    "<{([{{}}[<[[[<>{}]]]>[]] - Complete by adding ])}>.\n",
    "```\n",
    "Did you know that autocomplete tools also have contests? It's true! The score is determined by considering the completion string character-by-character. Start with a total score of 0. Then, for each character, multiply the total score by 5 and then increase the total score by the point value given for the character in the following table:\n",
    "```\n",
    "): 1 point.\n",
    "]: 2 points.\n",
    "}: 3 points.\n",
    ">: 4 points.\n",
    "```\n",
    "So, the last completion string above - ])}> - would be scored as follows:\n",
    "```\n",
    "Start with a total score of 0.\n",
    "Multiply the total score by 5 to get 0, then add the value of ] (2) to get a new total score of 2.\n",
    "Multiply the total score by 5 to get 10, then add the value of ) (1) to get a new total score of 11.\n",
    "Multiply the total score by 5 to get 55, then add the value of } (3) to get a new total score of 58.\n",
    "Multiply the total score by 5 to get 290, then add the value of > (4) to get a new total score of 294.\n",
    "The five lines' completion strings have total scores as follows:\n",
    "```\n",
    "```\n",
    "}}]])})] - 288957 total points.\n",
    ")}>]}) - 5566 total points.\n",
    "}}>}>)))) - 1480781 total points.\n",
    "]]}}]}]}> - 995444 total points.\n",
    "])}> - 294 total points.\n",
    "```\n",
    "Autocomplete tools are an odd bunch: the winner is found by sorting all of the scores and then taking the middle score. (There will always be an odd number of scores to consider.) In this example, the middle score is 288957 because there are the same number of scores smaller and larger than it.\n",
    "\n",
    "Find the completion string for each incomplete line, score the completion strings, and sort the scores. What is the middle score?"
   ]
  },
  {
   "cell_type": "code",
   "execution_count": 79,
   "metadata": {},
   "outputs": [],
   "source": [
    "autocomplete_points = {\n",
    "    ')': 1,\n",
    "    ']': 2,\n",
    "    '}': 3,\n",
    "    '>': 4    \n",
    "}"
   ]
  },
  {
   "cell_type": "code",
   "execution_count": 95,
   "metadata": {},
   "outputs": [],
   "source": [
    "def autocomplete_checker(line):\n",
    "    \n",
    "    # Create a lifo stack\n",
    "    stack = []\n",
    "    \n",
    "    for char in line:\n",
    "        # Assumption: all chars are valid\n",
    "        \n",
    "        if char in opening_chars:\n",
    "            \n",
    "            # push\n",
    "            stack.append(char)\n",
    "        elif char in closing_chars:\n",
    "            # pop and check it's legit\n",
    "            popped = stack.pop()\n",
    "            \n",
    "            # If we found a syntax error\n",
    "            if pairs[popped] != char:\n",
    "                # Stop and return points for what we FOUND\n",
    "                return 0\n",
    "            \n",
    "        else:\n",
    "            print(\"error! Invalid character\")\n",
    "    \n",
    "    # If there's anything remaining at the end of the line, \n",
    "    # then we've got an incomplete lin\n",
    "    \n",
    "    # Calculate score\n",
    "    score = 0\n",
    "    stack.reverse()\n",
    "    \n",
    "    for remaining in stack:\n",
    "\n",
    "        char_needed = pairs[remaining]\n",
    "        score = score * 5 + autocomplete_points[char_needed]\n",
    "\n",
    "    return score"
   ]
  },
  {
   "cell_type": "code",
   "execution_count": 119,
   "metadata": {},
   "outputs": [],
   "source": [
    "# Final score is the middle element\n",
    "def calculate_final_score(lines):\n",
    "    \n",
    "    scores = [autocomplete_checker(line) for line in lines if autocomplete_checker(line) != 0]\n",
    "\n",
    "    sorted_scores = sorted(scores)\n",
    "    \n",
    "    # Can safely assume odd number\n",
    "    middle_element = int((len(sorted_scores) - 1)/2)\n",
    "\n",
    "    print (sorted_scores[middle_element])"
   ]
  },
  {
   "cell_type": "code",
   "execution_count": 121,
   "metadata": {},
   "outputs": [
    {
     "name": "stdout",
     "output_type": "stream",
     "text": [
      "4245130838\n"
     ]
    }
   ],
   "source": [
    "calculate_final_score(puzzle_input_grid)"
   ]
  }
 ],
 "metadata": {
  "kernelspec": {
   "display_name": "Python 3",
   "language": "python",
   "name": "python3"
  },
  "language_info": {
   "codemirror_mode": {
    "name": "ipython",
    "version": 3
   },
   "file_extension": ".py",
   "mimetype": "text/x-python",
   "name": "python",
   "nbconvert_exporter": "python",
   "pygments_lexer": "ipython3",
   "version": "3.7.3"
  }
 },
 "nbformat": 4,
 "nbformat_minor": 4
}
