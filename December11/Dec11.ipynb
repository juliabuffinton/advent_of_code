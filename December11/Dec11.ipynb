{
 "cells": [
  {
   "cell_type": "markdown",
   "metadata": {},
   "source": [
    "# Set up"
   ]
  },
  {
   "cell_type": "code",
   "execution_count": 1,
   "metadata": {},
   "outputs": [],
   "source": [
    "import numpy as np"
   ]
  },
  {
   "cell_type": "code",
   "execution_count": 2,
   "metadata": {},
   "outputs": [
    {
     "data": {
      "text/plain": [
       "['3113284886',\n",
       " '2851876144',\n",
       " '2774664484',\n",
       " '6715112578',\n",
       " '7146272153',\n",
       " '6256656367',\n",
       " '3148666245',\n",
       " '3857446528',\n",
       " '7322422833',\n",
       " '8152175168']"
      ]
     },
     "execution_count": 2,
     "metadata": {},
     "output_type": "execute_result"
    }
   ],
   "source": [
    "with open('./dec11.txt') as f:\n",
    "    puzzle_input = [x.strip() for x in f.readlines()]\n",
    "puzzle_input"
   ]
  },
  {
   "cell_type": "code",
   "execution_count": 3,
   "metadata": {},
   "outputs": [
    {
     "data": {
      "text/plain": [
       "['5483143223',\n",
       " '2745854711',\n",
       " '5264556173',\n",
       " '6141336146',\n",
       " '6357385478',\n",
       " '4167524645',\n",
       " '2176841721',\n",
       " '6882881134',\n",
       " '4846848554',\n",
       " '5283751526']"
      ]
     },
     "execution_count": 3,
     "metadata": {},
     "output_type": "execute_result"
    }
   ],
   "source": [
    "with open('./dec11_test.txt') as f:\n",
    "    test_input = [x.strip() for x in f.readlines()]\n",
    "test_input"
   ]
  },
  {
   "cell_type": "code",
   "execution_count": 4,
   "metadata": {},
   "outputs": [],
   "source": [
    "baby_test = ['11111','19991','19191','19991','11111']"
   ]
  },
  {
   "cell_type": "code",
   "execution_count": 5,
   "metadata": {},
   "outputs": [],
   "source": [
    "puzzle_input_grid = [[int(x) for x in list(row)] for row in puzzle_input]\n",
    "test_input_grid = [[int(x) for x in list(row)] for row in test_input]\n",
    "baby_input_grid = [[int(x) for x in list(row)] for row in baby_test]"
   ]
  },
  {
   "cell_type": "code",
   "execution_count": 6,
   "metadata": {},
   "outputs": [
    {
     "data": {
      "text/plain": [
       "[[1, 1, 1, 1, 1],\n",
       " [1, 9, 9, 9, 1],\n",
       " [1, 9, 1, 9, 1],\n",
       " [1, 9, 9, 9, 1],\n",
       " [1, 1, 1, 1, 1]]"
      ]
     },
     "execution_count": 6,
     "metadata": {},
     "output_type": "execute_result"
    }
   ],
   "source": [
    "baby_input_grid"
   ]
  },
  {
   "cell_type": "markdown",
   "metadata": {},
   "source": [
    "# Part 1"
   ]
  },
  {
   "cell_type": "markdown",
   "metadata": {},
   "source": [
    "## How many total flashes are there after 100 steps?"
   ]
  },
  {
   "cell_type": "code",
   "execution_count": 8,
   "metadata": {},
   "outputs": [],
   "source": [
    "# Count flashes in 1 step\n",
    "def octo_flashes(grid):\n",
    "    \n",
    "    num_flashes = 0\n",
    "    \n",
    "    # Initial increase\n",
    "    grid = [[x+1 for x in horiz] for horiz in grid]\n",
    "    flashed = set()\n",
    "\n",
    "    def flash(grid, point, flashed):\n",
    "\n",
    "        i, j = point\n",
    "        point_val = grid[i][j]\n",
    "\n",
    "        if (point_val > 9) & (point not in flashed):\n",
    "            # Flash!\n",
    "            flashed.add(point)\n",
    "\n",
    "            # Increase energy of neighbors\n",
    "            def affect_neighbor(h,v):\n",
    "                if (0 <= h < len(grid)) & (0 <= v < len(grid[i])):\n",
    "                    grid[h][v] += 1\n",
    "                    return flash(grid, (h,v),flashed)\n",
    "                else:\n",
    "                    # no change\n",
    "                    return grid,flashed\n",
    "                \n",
    "            # Horizontal neighbors\n",
    "            grid,flashed = affect_neighbor(i,j+1)\n",
    "            grid,flashed = affect_neighbor(i,j-1)\n",
    "\n",
    "            # Vertical neighbors\n",
    "            grid,flashed = affect_neighbor(i-1,j)\n",
    "            grid,flashed = affect_neighbor(i+1,j)\n",
    "\n",
    "            # Diagonal neighbors\n",
    "            grid,flashed = affect_neighbor(i-1,j-1)\n",
    "            grid,flashed = affect_neighbor(i+1,j-1)\n",
    "            grid,flashed = affect_neighbor(i-1,j+1)\n",
    "            grid,flashed = affect_neighbor(i+1,j+1)\n",
    "\n",
    "        return grid, flashed\n",
    "        \n",
    "    for i in range(len(grid)):\n",
    "        for j in range(len(grid[i])):\n",
    "            # Make it flash\n",
    "            grid, flashed = flash(grid, (i,j), flashed)\n",
    "        \n",
    "    # Count number of flashes this round\n",
    "    num_flashes += sum([len([x for x in row if x > 9])for row in grid])\n",
    "    \n",
    "    # Finally any octopus that flashed goes to 0\n",
    "    grid = [[0 if x > 9 else x for x in row] for row in grid]\n",
    "        \n",
    "    return grid, num_flashes"
   ]
  },
  {
   "cell_type": "code",
   "execution_count": 9,
   "metadata": {
    "scrolled": true
   },
   "outputs": [],
   "source": [
    "def flash_steps(grid,steps):\n",
    "\n",
    "    total_flashes = 0\n",
    "\n",
    "    for step in range(steps):\n",
    "        grid,num_flashes = octo_flashes(grid)\n",
    "        total_flashes += num_flashes\n",
    "\n",
    "    return total_flashes"
   ]
  },
  {
   "cell_type": "code",
   "execution_count": 10,
   "metadata": {},
   "outputs": [
    {
     "data": {
      "text/plain": [
       "1705"
      ]
     },
     "execution_count": 10,
     "metadata": {},
     "output_type": "execute_result"
    }
   ],
   "source": [
    "flash_steps(puzzle_input_grid,100)"
   ]
  },
  {
   "cell_type": "markdown",
   "metadata": {},
   "source": [
    "# Part 2"
   ]
  },
  {
   "cell_type": "markdown",
   "metadata": {},
   "source": [
    "## How many steps does it take for them to \"synchronize\"?"
   ]
  },
  {
   "cell_type": "code",
   "execution_count": 11,
   "metadata": {},
   "outputs": [],
   "source": [
    "def flash_steps_sync(grid):\n",
    "\n",
    "    num_flashes = 0\n",
    "    step = 0\n",
    "    grid_size = (len(grid) * len(grid[0]))\n",
    "    \n",
    "    while num_flashes != grid_size:\n",
    "        grid,num_flashes = octo_flashes(grid)\n",
    "        step += 1\n",
    "\n",
    "    return step"
   ]
  },
  {
   "cell_type": "code",
   "execution_count": 12,
   "metadata": {},
   "outputs": [
    {
     "data": {
      "text/plain": [
       "265"
      ]
     },
     "execution_count": 12,
     "metadata": {},
     "output_type": "execute_result"
    }
   ],
   "source": [
    "flash_steps_sync(puzzle_input_grid)"
   ]
  },
  {
   "cell_type": "code",
   "execution_count": null,
   "metadata": {},
   "outputs": [],
   "source": []
  }
 ],
 "metadata": {
  "kernelspec": {
   "display_name": "Python 3",
   "language": "python",
   "name": "python3"
  },
  "language_info": {
   "codemirror_mode": {
    "name": "ipython",
    "version": 3
   },
   "file_extension": ".py",
   "mimetype": "text/x-python",
   "name": "python",
   "nbconvert_exporter": "python",
   "pygments_lexer": "ipython3",
   "version": "3.7.3"
  }
 },
 "nbformat": 4,
 "nbformat_minor": 4
}
